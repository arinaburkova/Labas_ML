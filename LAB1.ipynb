{
  "cells": [
    {
      "cell_type": "code",
      "execution_count": null,
      "metadata": {
        "colab": {
          "base_uri": "https://localhost:8080/"
        },
        "id": "I476MtyZlVc4",
        "outputId": "1f4f7eb4-fd47-47b6-b5c6-9fd1302136a6"
      },
      "outputs": [
        {
          "name": "stdout",
          "output_type": "stream",
          "text": [
            "Requirement already satisfied: catboost in /usr/local/lib/python3.10/dist-packages (1.2.7)\n",
            "Requirement already satisfied: graphviz in /usr/local/lib/python3.10/dist-packages (from catboost) (0.20.3)\n",
            "Requirement already satisfied: matplotlib in /usr/local/lib/python3.10/dist-packages (from catboost) (3.8.0)\n",
            "Requirement already satisfied: numpy<2.0,>=1.16.0 in /usr/local/lib/python3.10/dist-packages (from catboost) (1.26.4)\n",
            "Requirement already satisfied: pandas>=0.24 in /usr/local/lib/python3.10/dist-packages (from catboost) (2.2.2)\n",
            "Requirement already satisfied: scipy in /usr/local/lib/python3.10/dist-packages (from catboost) (1.13.1)\n",
            "Requirement already satisfied: plotly in /usr/local/lib/python3.10/dist-packages (from catboost) (5.24.1)\n",
            "Requirement already satisfied: six in /usr/local/lib/python3.10/dist-packages (from catboost) (1.16.0)\n",
            "Requirement already satisfied: python-dateutil>=2.8.2 in /usr/local/lib/python3.10/dist-packages (from pandas>=0.24->catboost) (2.8.2)\n",
            "Requirement already satisfied: pytz>=2020.1 in /usr/local/lib/python3.10/dist-packages (from pandas>=0.24->catboost) (2024.2)\n",
            "Requirement already satisfied: tzdata>=2022.7 in /usr/local/lib/python3.10/dist-packages (from pandas>=0.24->catboost) (2024.2)\n",
            "Requirement already satisfied: contourpy>=1.0.1 in /usr/local/lib/python3.10/dist-packages (from matplotlib->catboost) (1.3.0)\n",
            "Requirement already satisfied: cycler>=0.10 in /usr/local/lib/python3.10/dist-packages (from matplotlib->catboost) (0.12.1)\n",
            "Requirement already satisfied: fonttools>=4.22.0 in /usr/local/lib/python3.10/dist-packages (from matplotlib->catboost) (4.54.1)\n",
            "Requirement already satisfied: kiwisolver>=1.0.1 in /usr/local/lib/python3.10/dist-packages (from matplotlib->catboost) (1.4.7)\n",
            "Requirement already satisfied: packaging>=20.0 in /usr/local/lib/python3.10/dist-packages (from matplotlib->catboost) (24.1)\n",
            "Requirement already satisfied: pillow>=6.2.0 in /usr/local/lib/python3.10/dist-packages (from matplotlib->catboost) (10.4.0)\n",
            "Requirement already satisfied: pyparsing>=2.3.1 in /usr/local/lib/python3.10/dist-packages (from matplotlib->catboost) (3.2.0)\n",
            "Requirement already satisfied: tenacity>=6.2.0 in /usr/local/lib/python3.10/dist-packages (from plotly->catboost) (9.0.0)\n"
          ]
        }
      ],
      "source": [
        "import numpy as np\n",
        "import pandas as pd\n",
        "from sklearn.metrics import confusion_matrix\n",
        "%matplotlib inline\n",
        "from matplotlib import pyplot as plt\n",
        "import seaborn as sns\n",
        "from sklearn.model_selection import train_test_split\n",
        "from sklearn.tree import DecisionTreeRegressor, plot_tree\n",
        "from sklearn.ensemble import RandomForestRegressor\n",
        "import xgboost as xgb\n",
        "from sklearn.metrics import confusion_matrix\n",
        "!pip install catboost\n",
        "from catboost import CatBoostClassifier\n",
        "from sklearn.metrics import ConfusionMatrixDisplay\n",
        "\n"
      ]
    },
    {
      "cell_type": "code",
      "execution_count": null,
      "metadata": {
        "id": "Pbs397ailcFk"
      },
      "outputs": [],
      "source": [
        "df = pd.read_csv('/content/Health_insurance.csv')"
      ]
    },
    {
      "cell_type": "code",
      "execution_count": null,
      "metadata": {
        "id": "PTmyXD8EVMxt"
      },
      "outputs": [],
      "source": [
        "df"
      ]
    },
    {
      "cell_type": "code",
      "execution_count": null,
      "metadata": {
        "id": "DNrnvV3vcPVh"
      },
      "outputs": [],
      "source": [
        "df.info()"
      ]
    },
    {
      "cell_type": "code",
      "execution_count": null,
      "metadata": {
        "id": "1G0ZGwg5Vc49"
      },
      "outputs": [],
      "source": [
        "df['sex'] = pd.factorize(df['sex'])[0]\n",
        "df['smoker'] = pd.factorize(df['smoker'])[0]\n",
        "df['region'], uniques = pd.factorize(df['region'])\n",
        "df_cleaned = df.dropna()"
      ]
    },
    {
      "cell_type": "code",
      "execution_count": null,
      "metadata": {
        "id": "GqVqju-McQ2U"
      },
      "outputs": [],
      "source": [
        "df"
      ]
    },
    {
      "cell_type": "code",
      "execution_count": null,
      "metadata": {
        "id": "64MY-tuxcVuX"
      },
      "outputs": [],
      "source": [
        "df.info()"
      ]
    },
    {
      "cell_type": "code",
      "execution_count": null,
      "metadata": {
        "id": "vm0m_4cydd8l"
      },
      "outputs": [],
      "source": [
        "sns.relplot(x='region',\n",
        "            y='charges',\n",
        "            data=df);"
      ]
    },
    {
      "cell_type": "code",
      "execution_count": null,
      "metadata": {
        "id": "_TVy9CKfc0OK"
      },
      "outputs": [],
      "source": [
        "sns.relplot(x='age',\n",
        "            y='charges',\n",
        "            col='sex',\n",
        "            data=df);"
      ]
    },
    {
      "cell_type": "code",
      "execution_count": null,
      "metadata": {
        "id": "uMfzVw5Hccrk"
      },
      "outputs": [],
      "source": [
        "sns.catplot(x='smoker',\n",
        "            y='charges',\n",
        "            data=df);"
      ]
    },
    {
      "cell_type": "code",
      "execution_count": null,
      "metadata": {
        "id": "zoA2jOAEcuS7"
      },
      "outputs": [],
      "source": [
        "sns.relplot(x='bmi',\n",
        "            y='charges',\n",
        "\n",
        "            data=df);"
      ]
    },
    {
      "cell_type": "code",
      "execution_count": null,
      "metadata": {
        "id": "JejZ3uaTd3H2"
      },
      "outputs": [],
      "source": [
        "df.describe()"
      ]
    },
    {
      "cell_type": "code",
      "execution_count": null,
      "metadata": {
        "id": "If3jR2S4cmyS"
      },
      "outputs": [],
      "source": [
        "y=df['charges']\n",
        "x=df.drop(['charges'], axis=1)"
      ]
    },
    {
      "cell_type": "code",
      "execution_count": null,
      "metadata": {
        "id": "fgqyxcN93PZY"
      },
      "outputs": [],
      "source": [
        "X_train, X_test, y_train, y_test = train_test_split(x, y, test_size=0.20, random_state=21)"
      ]
    },
    {
      "cell_type": "code",
      "execution_count": null,
      "metadata": {
        "id": "1JklqYrN3Wa1"
      },
      "outputs": [],
      "source": [
        "dectree = DecisionTreeRegressor(max_depth=4)\n",
        "dectree.fit(X_train,y_train)\n",
        "dectree.score(X_test,y_test)"
      ]
    },
    {
      "cell_type": "code",
      "execution_count": null,
      "metadata": {
        "id": "314EqlJC3ahh"
      },
      "outputs": [],
      "source": [
        "plt.figure(figsize=((30,10)))\n",
        "plot_tree(dectree,\n",
        "          filled=True,\n",
        "          feature_names=x.columns)\n",
        "plt.show()"
      ]
    },
    {
      "cell_type": "code",
      "execution_count": null,
      "metadata": {
        "id": "AStyIi0f7iKb"
      },
      "outputs": [],
      "source": [
        "y_pred=rfc.predict(X_test)\n",
        "plt.figure(figsize=(10, 6))\n",
        "plt.scatter(y_test,y_pred)\n",
        "plt.plot([0, max(y_test)], [0, max(y_pred)])\n",
        "plt.xlabel('Фактические значения', fontsize=14)\n",
        "plt.ylabel('Предсказанные значения', fontsize=14)\n",
        "plt.grid()\n",
        "plt.show()"
      ]
    },
    {
      "cell_type": "code",
      "execution_count": null,
      "metadata": {
        "colab": {
          "base_uri": "https://localhost:8080/"
        },
        "id": "vMjIQCxH3c6L",
        "outputId": "9aaa34c5-66c2-49d8-ac5e-caa2b831ccb2"
      },
      "outputs": [
        {
          "data": {
            "text/plain": [
              "0.8443556636871155"
            ]
          },
          "execution_count": 16,
          "metadata": {},
          "output_type": "execute_result"
        }
      ],
      "source": [
        "rfc = RandomForestRegressor(n_estimators = 100, max_depth=4, random_state=42)\n",
        "rfc.fit(X_train, y_train)\n",
        "rfc.score (X_test, y_test)"
      ]
    },
    {
      "cell_type": "code",
      "execution_count": null,
      "metadata": {
        "id": "W-RP1v9_29d3"
      },
      "outputs": [],
      "source": [
        "rfc = RandomForestRegressor(n_estimators = 100, max_depth=3, random_state=42)\n",
        "rfc.fit(X_train, y_train)\n",
        "rfc.score (X_test, y_test)"
      ]
    },
    {
      "cell_type": "code",
      "execution_count": null,
      "metadata": {
        "id": "KSNrO7ADEup7"
      },
      "outputs": [],
      "source": [
        "y_pred=rfc.predict(X_test)\n",
        "plt.figure(figsize=(10, 6))\n",
        "plt.scatter(y_test,y_pred)\n",
        "plt.plot([0, max(y_test)], [0, max(y_pred)])\n",
        "plt.xlabel('Фактические значения', fontsize=14)\n",
        "plt.ylabel('Предсказанные значения', fontsize=14)\n",
        "plt.grid()\n",
        "plt.show()"
      ]
    },
    {
      "cell_type": "code",
      "execution_count": null,
      "metadata": {
        "id": "s27cAOOKpoei"
      },
      "outputs": [],
      "source": [
        "X_train, X_test, y_train, y_test = train_test_split(x, y, test_size=0.2, random_state=42)\n",
        "xgb_reg = xgb.XGBRegressor()"
      ]
    },
    {
      "cell_type": "code",
      "execution_count": null,
      "metadata": {
        "id": "xgbUlgxnrwsm"
      },
      "outputs": [],
      "source": [
        "xgb_reg.fit(X_train, y_train)"
      ]
    },
    {
      "cell_type": "code",
      "execution_count": null,
      "metadata": {
        "id": "QVoHU1Kr8OgB"
      },
      "outputs": [],
      "source": [
        "feature_importances = xgb_reg.feature_importances_\n",
        "\n",
        "names=df.columns.tolist()[:-1]\n",
        "\n",
        "plt.figure(figsize=(10, 7))\n",
        "plt.bar(names, feature_importances)\n",
        "plt.xlabel('Признак')\n",
        "plt.ylabel('Важность')\n",
        "plt.show()"
      ]
    },
    {
      "cell_type": "code",
      "execution_count": null,
      "metadata": {
        "id": "ViF1v068ryms"
      },
      "outputs": [],
      "source": [
        "y_pred = xgb_reg.predict(X_test)"
      ]
    },
    {
      "cell_type": "code",
      "execution_count": null,
      "metadata": {
        "id": "Na6ONqsZ4E5I"
      },
      "outputs": [],
      "source": [
        "xgb_reg.score(X_test, y_test)"
      ]
    },
    {
      "cell_type": "code",
      "execution_count": null,
      "metadata": {
        "id": "jOZTK2V34H19"
      },
      "outputs": [],
      "source": [
        "test_xgb_reg = xgb_reg.predict(X_test)\n",
        "plt.figure(figsize=(10, 6))\n",
        "plt.scatter(y_test, y_pred, alpha=0.7)\n",
        "plt.plot([y.min(), y.max()], [y.min(), y.max()])\n",
        "plt.xlabel('Фактические значения')\n",
        "plt.ylabel('Предсказанные значения')\n",
        "plt.grid()\n",
        "plt.show()\n",
        "\n"
      ]
    },
    {
      "cell_type": "code",
      "execution_count": null,
      "metadata": {
        "id": "vUQZXzfMEfnN"
      },
      "outputs": [],
      "source": [
        "вопросы для лаб\n",
        "1. только табличные данные(фин риски , анализ надежности кредитоплатильщика)\n",
        "2. регрессия  дерева, случайный лес, градиентный спуск\n",
        "3. результаты:для задач классификации матрица ошибок,\n",
        "для задач регрессии диаграмма рассеяния\n",
        "4. диаграмма значимости признаков"
      ]
    },
    {
      "cell_type": "code",
      "execution_count": null,
      "metadata": {
        "id": "b-9Fv34mRYJV"
      },
      "outputs": [],
      "source": []
    },
    {
      "cell_type": "code",
      "execution_count": null,
      "metadata": {
        "id": "dV_w-iSNJkFn"
      },
      "outputs": [],
      "source": [
        "Лабораторная работа №3(классификация)\n",
        "Напишите программу, обучающую модель машинного обучения решению задачи классификации текстов на естественном языке.\n",
        "Датасеты  должны быть уникальны и на русском языке (или включать, в том числе, русский язык), их можно взять, например, с сайта: https://huggingface.co/datasets?task_categories=task_categories%3Atext-classification&language=language%3Aru&sort=trending. Допускается самостоятельное формирование датасета (например, для задачи классификации новостей или определения автора произведения).\n",
        "В качестве классифицирующей модели можно взять любую из ранее изученных (логистическую регрессию, случайный лес, наивный байесовский классификатор  и т.п.)\n",
        "В программе должно рассматриваться и сравниваться 3 подхода:\n",
        "1. C использованием одной из готовых библиотек для классификации текстов (fasttext, catboost)\n",
        "2-3.  С использованием разных подходов к векторизации текста (частотный/семантический)"
      ]
    },
    {
      "cell_type": "code",
      "execution_count": null,
      "metadata": {
        "colab": {
          "base_uri": "https://localhost:8080/"
        },
        "id": "WfTa5dQHVsHB",
        "outputId": "b7c56f2a-86cb-4ca3-a9f9-30ef65b12fdc"
      },
      "outputs": [
        {
          "name": "stdout",
          "output_type": "stream",
          "text": [
            "Collecting catboost\n",
            "  Downloading catboost-1.2.7-cp310-cp310-manylinux2014_x86_64.whl.metadata (1.2 kB)\n",
            "Requirement already satisfied: graphviz in /usr/local/lib/python3.10/dist-packages (from catboost) (0.20.3)\n",
            "Requirement already satisfied: matplotlib in /usr/local/lib/python3.10/dist-packages (from catboost) (3.8.0)\n",
            "Requirement already satisfied: numpy<2.0,>=1.16.0 in /usr/local/lib/python3.10/dist-packages (from catboost) (1.26.4)\n",
            "Requirement already satisfied: pandas>=0.24 in /usr/local/lib/python3.10/dist-packages (from catboost) (2.2.2)\n",
            "Requirement already satisfied: scipy in /usr/local/lib/python3.10/dist-packages (from catboost) (1.13.1)\n",
            "Requirement already satisfied: plotly in /usr/local/lib/python3.10/dist-packages (from catboost) (5.24.1)\n",
            "Requirement already satisfied: six in /usr/local/lib/python3.10/dist-packages (from catboost) (1.16.0)\n",
            "Requirement already satisfied: python-dateutil>=2.8.2 in /usr/local/lib/python3.10/dist-packages (from pandas>=0.24->catboost) (2.8.2)\n",
            "Requirement already satisfied: pytz>=2020.1 in /usr/local/lib/python3.10/dist-packages (from pandas>=0.24->catboost) (2024.2)\n",
            "Requirement already satisfied: tzdata>=2022.7 in /usr/local/lib/python3.10/dist-packages (from pandas>=0.24->catboost) (2024.2)\n",
            "Requirement already satisfied: contourpy>=1.0.1 in /usr/local/lib/python3.10/dist-packages (from matplotlib->catboost) (1.3.1)\n",
            "Requirement already satisfied: cycler>=0.10 in /usr/local/lib/python3.10/dist-packages (from matplotlib->catboost) (0.12.1)\n",
            "Requirement already satisfied: fonttools>=4.22.0 in /usr/local/lib/python3.10/dist-packages (from matplotlib->catboost) (4.55.0)\n",
            "Requirement already satisfied: kiwisolver>=1.0.1 in /usr/local/lib/python3.10/dist-packages (from matplotlib->catboost) (1.4.7)\n",
            "Requirement already satisfied: packaging>=20.0 in /usr/local/lib/python3.10/dist-packages (from matplotlib->catboost) (24.2)\n",
            "Requirement already satisfied: pillow>=6.2.0 in /usr/local/lib/python3.10/dist-packages (from matplotlib->catboost) (11.0.0)\n",
            "Requirement already satisfied: pyparsing>=2.3.1 in /usr/local/lib/python3.10/dist-packages (from matplotlib->catboost) (3.2.0)\n",
            "Requirement already satisfied: tenacity>=6.2.0 in /usr/local/lib/python3.10/dist-packages (from plotly->catboost) (9.0.0)\n",
            "Downloading catboost-1.2.7-cp310-cp310-manylinux2014_x86_64.whl (98.7 MB)\n",
            "\u001b[2K   \u001b[90m━━━━━━━━━━━━━━━━━━━━━━━━━━━━━━━━━━━━━━━━\u001b[0m \u001b[32m98.7/98.7 MB\u001b[0m \u001b[31m8.2 MB/s\u001b[0m eta \u001b[36m0:00:00\u001b[0m\n",
            "\u001b[?25hInstalling collected packages: catboost\n",
            "Successfully installed catboost-1.2.7\n"
          ]
        }
      ],
      "source": [
        "import pandas as pd\n",
        "from sklearn.model_selection import train_test_split\n",
        "from sklearn.feature_extraction.text import CountVectorizer\n",
        "\n",
        "from sklearn.naive_bayes import MultinomialNB\n",
        "from sklearn.metrics import classification_report, accuracy_score,ConfusionMatrixDisplay\n",
        "from sklearn.ensemble import RandomForestClassifier\n",
        "import numpy as np\n",
        "\n",
        "from sklearn.metrics import confusion_matrix\n",
        "%matplotlib inline\n",
        "from matplotlib import pyplot as plt\n",
        "import seaborn as sns\n",
        "\n",
        "import gensim\n",
        "from gensim.models import Word2Vec\n",
        "\n",
        "!pip install catboost\n",
        "from catboost import CatBoostClassifier\n",
        "import gensim.downloader as api\n",
        "\n",
        "from sklearn.feature_extraction.text import TfidfVectorizer"
      ]
    },
    {
      "cell_type": "code",
      "execution_count": null,
      "metadata": {
        "id": "2TUDNysfVMWs"
      },
      "outputs": [],
      "source": [
        "data = pd.read_json('/content/healthcare_facilities_reviews.jsonl', encoding='utf-8', lines=True)"
      ]
    },
    {
      "cell_type": "code",
      "execution_count": null,
      "metadata": {
        "colab": {
          "base_uri": "https://localhost:8080/"
        },
        "id": "5I-WSeDliWjT",
        "outputId": "b61b17ca-2a1c-4b7b-aa3b-b698827bb6c6"
      },
      "outputs": [
        {
          "name": "stdout",
          "output_type": "stream",
          "text": [
            "<class 'pandas.core.frame.DataFrame'>\n",
            "RangeIndex: 70597 entries, 0 to 70596\n",
            "Data columns (total 6 columns):\n",
            " #   Column      Non-Null Count  Dtype \n",
            "---  ------      --------------  ----- \n",
            " 0   review_id   70597 non-null  int64 \n",
            " 1   category    70597 non-null  object\n",
            " 2   title       70597 non-null  object\n",
            " 3   content     70597 non-null  object\n",
            " 4   sentiment   70597 non-null  object\n",
            " 5   source_url  70597 non-null  object\n",
            "dtypes: int64(1), object(5)\n",
            "memory usage: 3.2+ MB\n"
          ]
        }
      ],
      "source": [
        "data.info()"
      ]
    },
    {
      "cell_type": "code",
      "execution_count": null,
      "metadata": {
        "colab": {
          "base_uri": "https://localhost:8080/",
          "height": 597
        },
        "id": "fQAkEALOiaMw",
        "outputId": "1ea15522-1605-445f-e7c2-53d33847e59c"
      },
      "outputs": [
        {
          "data": {
            "application/vnd.google.colaboratory.intrinsic+json": {
              "summary": "{\n  \"name\": \"data\",\n  \"rows\": 70597,\n  \"fields\": [\n    {\n      \"column\": \"review_id\",\n      \"properties\": {\n        \"dtype\": \"number\",\n        \"std\": 20379,\n        \"min\": 0,\n        \"max\": 70596,\n        \"num_unique_values\": 70597,\n        \"samples\": [\n          3000,\n          1990,\n          23417\n        ],\n        \"semantic_type\": \"\",\n        \"description\": \"\"\n      }\n    },\n    {\n      \"column\": \"category\",\n      \"properties\": {\n        \"dtype\": \"category\",\n        \"num_unique_values\": 48,\n        \"samples\": [\n          \"\\u0426\\u0435\\u043d\\u0442\\u0440\\u044b \\u043c\\u0430\\u0433\\u043d\\u0438\\u0442\\u043d\\u043e-\\u0440\\u0435\\u0437\\u043e\\u043d\\u0430\\u043d\\u0441\\u043d\\u043e\\u0439 \\u0442\\u043e\\u043c\\u043e\\u0433\\u0440\\u0430\\u0444\\u0438\\u0438\",\n          \"\\u0411\\u043e\\u043b\\u044c\\u043d\\u0438\\u0446\\u044b \\u0438\\u043d\\u0444\\u0435\\u043a\\u0446\\u0438\\u043e\\u043d\\u043d\\u044b\\u0435\",\n          \"\\u041c\\u0435\\u0434\\u0438\\u043a\\u043e-\\u0441\\u043e\\u0446\\u0438\\u0430\\u043b\\u044c\\u043d\\u0430\\u044f \\u044d\\u043a\\u0441\\u043f\\u0435\\u0440\\u0442\\u0438\\u0437\\u0430\"\n        ],\n        \"semantic_type\": \"\",\n        \"description\": \"\"\n      }\n    },\n    {\n      \"column\": \"title\",\n      \"properties\": {\n        \"dtype\": \"string\",\n        \"num_unique_values\": 45363,\n        \"samples\": [\n          \"\\u041c\\u043e\\u0439 \\u043e\\u0442\\u0437\\u044b\\u0432\",\n          \"\\u0418\\u043c\\u043f\\u043b\\u0430\\u043d\\u0442\\u0430\\u043d\\u0442\\u044b\",\n          \"\\u0417\\u0443\\u0431\\u044b \\u0443\\u0436\\u0435 \\u0440\\u043e\\u0432\\u043d\\u044b\\u0435 \\u0438 \\u043a\\u0440\\u0430\\u0441\\u0438\\u0432\\u044b\\u0435\"\n        ],\n        \"semantic_type\": \"\",\n        \"description\": \"\"\n      }\n    },\n    {\n      \"column\": \"content\",\n      \"properties\": {\n        \"dtype\": \"string\",\n        \"num_unique_values\": 70388,\n        \"samples\": [\n          \"\\u0425\\u043e\\u0447\\u0443 \\u0432\\u044b\\u0440\\u0430\\u0437\\u0438\\u0442\\u044c \\u0441\\u0435\\u0440\\u0434\\u0435\\u0447\\u043d\\u0443\\u044e \\u0431\\u043b\\u0430\\u0433\\u043e\\u0434\\u0430\\u0440\\u043d\\u043e\\u0441\\u0442\\u044c \\u043a\\u043e\\u043b\\u043b\\u0435\\u043a\\u0442\\u0438\\u0432\\u0443 \\u0433\\u0438\\u043d\\u0435\\u043a\\u043e\\u043b\\u043e\\u0433\\u0438\\u0447\\u0435\\u0441\\u043a\\u043e\\u0433\\u043e \\u043e\\u0442\\u0434\\u0435\\u043b\\u0435\\u043d\\u0438\\u044f \\u0424\\u0413\\u0411\\u0423 \\u0413\\u041d\\u0426 \\u0424\\u041c\\u0411\\u0426 \\u0438\\u043c \\u0410. \\u0418. \\u0411\\u0443\\u0440\\u043d\\u0430\\u0437\\u044f\\u043d\\u0430 \\u0424\\u041c\\u0411\\u0410 \\u0437\\u0430 \\u0447\\u0443\\u0442\\u043a\\u043e\\u0441\\u0442\\u044c, \\u043f\\u043e\\u043d\\u0438\\u043c\\u0430\\u043d\\u0438\\u0435, \\u0442\\u0430\\u043a\\u0442 \\u0438 \\u0432\\u044b\\u0441\\u043e\\u043a\\u0438\\u0439 \\u043f\\u0440\\u043e\\u0444\\u0435\\u0441\\u0441\\u0438\\u043e\\u043d\\u0430\\u043b\\u0438\\u0437\\u043c. \\u0412 \\u043e\\u0442\\u0434\\u0435\\u043b\\u0435\\u043d\\u0438\\u0438, \\u0440\\u0443\\u043a\\u043e\\u0432\\u043e\\u0434\\u0438\\u043c\\u044b\\u043c \\u0411\\u0443\\u0448\\u043a\\u043e\\u0432\\u043e\\u0439 \\u041e\\u043b\\u044c\\u0433\\u043e\\u0439 \\u041d\\u0438\\u043a\\u043e\\u043b\\u0430\\u0435\\u0432\\u043d\\u043e\\u0439, \\u0440\\u0430\\u0431\\u043e\\u0442\\u0430\\u0435\\u0442 \\u043a\\u043e\\u043b\\u043b\\u0435\\u043a\\u0442\\u0438\\u0432 \\u0432\\u044b\\u0441\\u043e\\u043a\\u043e\\u0433\\u043e \\u043f\\u0440\\u043e\\u0444\\u0435\\u0441\\u0441\\u0438\\u043e\\u043d\\u0430\\u043b\\u044c\\u043d\\u043e\\u0433\\u043e \\u043c\\u0430\\u0441\\u0442\\u0435\\u0440\\u0441\\u0442\\u0432\\u0430, \\u0431\\u043e\\u043b\\u044c\\u0448\\u043e\\u0433\\u043e \\u0447\\u0443\\u0432\\u0441\\u0442\\u0432\\u0430 \\u043e\\u0442\\u0432\\u0435\\u0442\\u0441\\u0442\\u0432\\u0435\\u043d\\u043d\\u043e\\u0441\\u0442\\u0438, \\u043d\\u0430\\u0434\\u0435\\u043b\\u0435\\u043d\\u043d\\u044b\\u0439 \\u0441\\u0435\\u0440\\u0434\\u0435\\u0447\\u043d\\u043e\\u0441\\u0442\\u044c\\u044e \\u0438 \\u0434\\u0443\\u0448\\u0435\\u0432\\u043d\\u043e\\u0439 \\u0442\\u0435\\u043f\\u043b\\u043e\\u0442\\u043e\\u0439 \\u043a \\u043a\\u0430\\u0436\\u0434\\u043e\\u043c\\u0443 \\u0431\\u043e\\u043b\\u044c\\u043d\\u043e\\u043c\\u0443. \\u0412\\u043d\\u0438\\u043c\\u0430\\u0442\\u0435\\u043b\\u044c\\u043d\\u043e\\u0435, \\u0434\\u043e\\u0431\\u0440\\u043e\\u0436\\u0435\\u043b\\u0430\\u0442\\u0435\\u043b\\u044c\\u043d\\u043e\\u0435 \\u043e\\u0442\\u043d\\u043e\\u0448\\u0435\\u043d\\u0438\\u0435 \\u043a \\u043f\\u0430\\u0446\\u0438\\u0435\\u043d\\u0442\\u0430\\u043c, \\u0443\\u043c\\u0435\\u043d\\u0438\\u0435 \\u0432\\u0441\\u0435\\u043b\\u0438\\u0442\\u044c \\u0443\\u0432\\u0435\\u0440\\u0435\\u043d\\u043d\\u043e\\u0441\\u0442\\u044c \\u0432 \\u0431\\u0443\\u0434\\u0443\\u0449\\u0435\\u0435, \\u043d\\u0430\\u0434\\u0435\\u0436\\u0434\\u0443 \\u043d\\u0430 \\u0441\\u043a\\u043e\\u0440\\u043e\\u0435 \\u0432\\u044b\\u0437\\u0434\\u043e\\u0440\\u043e\\u0432\\u043b\\u0435\\u043d\\u0438\\u0435, \\u043e\\u0442\\u043b\\u0438\\u0447\\u0438\\u0442\\u0435\\u043b\\u044c\\u043d\\u0430\\u044f \\u0447\\u0435\\u0440\\u0442\\u0430 \\u0432\\u0441\\u0435\\u0445 \\u0441\\u043e\\u0442\\u0440\\u0443\\u0434\\u043d\\u0438\\u043a\\u043e\\u0432 \\u044d\\u0442\\u043e\\u0433\\u043e \\u043e\\u0442\\u0434\\u0435\\u043b\\u0435\\u043d\\u0438\\u044f. \\u0420\\u0443\\u0441\\u0430\\u043a\\u043e\\u0432\\u0430 \\u041b. \\u041d.\",\n          \"\\u041f\\u0440\\u043e\\u043f\\u0438\\u0441\\u0430\\u043d\\u044b \\u0432 \\u041a\\u0440\\u0430\\u0441\\u043d\\u043e\\u0437\\u043d\\u0430\\u043c\\u0435\\u043d\\u0441\\u043a\\u0435, \\u0436\\u0438\\u0432\\u0435\\u043c \\u0432 \\u0413\\u043e\\u0440\\u043a\\u0430\\u0445. \\u0420\\u0435\\u0448\\u0438\\u043b\\u0438 5 \\u043c\\u0435\\u0441. \\u0440\\u0435\\u0431\\u0435\\u043d\\u043a\\u0430 \\u043f\\u0440\\u0438\\u043a\\u0440\\u0435\\u043f\\u0438\\u0442\\u044c \\u0432 \\u0413\\u043e\\u0440\\u043a\\u0430\\u0445, \\u0447\\u0442\\u043e\\u0431 \\u043c\\u0435\\u043d\\u044c\\u0448\\u0435 \\u0435\\u0437\\u0434\\u0438\\u0442\\u044c, \\u0430 \\u043f\\u043e\\u043b\\u0443\\u0447\\u0430\\u0435\\u0442\\u0441\\u044f \\u0432\\u0441\\u0435 \\u0440\\u0430\\u0432\\u043d\\u043e \\u0435\\u0437\\u0434\\u0438\\u0442\\u044c \\u043d\\u0430\\u0434\\u043e \\u0432 \\u044d\\u0442\\u0443 \\u043f\\u043e\\u043b\\u0438\\u043a\\u043b\\u0438\\u043d\\u0438\\u043a\\u0443. \\u041e\\u0444\\u043e\\u0440\\u043c\\u0438\\u043b\\u0438\\u0441\\u044c. \\u041a\\u0430\\u0436\\u0434\\u044b\\u0439 \\u0440\\u0430\\u0437 \\u043a\\u043e\\u0433\\u0434\\u0430 \\u043f\\u0440\\u0438\\u0435\\u0437\\u0436\\u0430\\u0435\\u043c - \\u043d\\u0430\\u043c \\u0448\\u0432\\u044b\\u0440\\u044f\\u044e\\u0442 \\u043f\\u043e\\u043b\\u0438\\u0441 \\u043e\\u0431\\u0440\\u0430\\u0442\\u043d\\u043e \\u0438 \\u0433\\u043e\\u0432\\u043e\\u0440\\u044f\\u0442 \\u041a\\u0440\\u0430\\u0441\\u043d\\u043e\\u0437\\u043d\\u0430\\u043c\\u0435\\u043d\\u0441\\u043a \\u043d\\u0435 \\u043e\\u0431\\u0441\\u043b\\u0443\\u0436\\u0438\\u0432\\u0430\\u0435\\u043c. \\u0420\\u0435\\u0431\\u0435\\u043d\\u043a\\u0443 \\u0434\\u0430\\u043b\\u0438 \\u043d\\u0430\\u043f\\u0440\\u0430\\u0432\\u043b\\u0435\\u043d\\u0438\\u0435 \\u043a \\u0433\\u0438\\u043d\\u0435\\u043a\\u043e\\u043b\\u043e\\u0433\\u0443, \\u043d\\u0435 \\u043c\\u043e\\u0436\\u0435\\u043c \\u043f\\u0440\\u043e\\u0439\\u0442\\u0438 \\u0443\\u0436\\u0435 3 \\u043c\\u0435\\u0441. \\u0414\\u043e \\u0433\\u043e\\u0434\\u0430 \\u0442\\u043e\\u043b\\u044c\\u043a\\u043e 4 \\u0441\\u0443\\u0431\\u0431\\u043e\\u0442\\u0430 \\u043c\\u0435\\u0441\\u044f\\u0446\\u0430. \\u041f\\u0440\\u0438\\u0435\\u0437\\u0436\\u0430\\u043b\\u0438 \\u0438 \\u043a 7 \\u0443\\u0442\\u0440\\u0430, \\u0441\\u0442\\u043e\\u044f\\u043b\\u0438 \\u0432 \\u043e\\u0447\\u0435\\u0440\\u0435\\u0434\\u0438 \\u0437\\u0430 \\u0442\\u0430\\u043b\\u043e\\u043d\\u0430\\u043c\\u0438, \\u0430 \\u0432\\u0440\\u0430\\u0447\\u0438 \\u0441\\u0430\\u043c\\u043e\\u0435 \\u0438\\u043d\\u0442\\u0435\\u0440\\u0435\\u0441\\u043d\\u043e\\u0435 \\u0441 9 \\u0440\\u0430\\u0431\\u043e\\u0442\\u0430\\u044e\\u0442 \\u0438\\u043b\\u0438 \\u0432\\u043e \\u0432\\u0442\\u043e\\u0440\\u043e\\u0439 \\u043f\\u043e\\u043b\\u043e\\u0432\\u0438\\u043d\\u0435 \\u0434\\u043d\\u044f. \\u042f \\u0441\\u0447\\u0438\\u0442\\u0430\\u044e \\u044d\\u0442\\u043e \\u043f\\u0440\\u043e\\u0441\\u0442\\u043e \\u0438\\u0437\\u0434\\u0435\\u0432\\u0430\\u0442\\u0435\\u043b\\u044c\\u0441\\u0442\\u0432\\u043e \\u043d\\u0430\\u0434 \\u043b\\u044e\\u0434\\u044c\\u043c\\u0438! \\u0423\\u0436\\u0430\\u0441\\u043d\\u0430\\u044f \\u0431\\u043e\\u043b\\u044c\\u043d\\u0438\\u0446\\u0430, \\u0431\\u0443\\u0434\\u0435\\u043c \\u043e\\u0442\\u043a\\u0440\\u0435\\u043f\\u043b\\u044f\\u0442\\u044c\\u0441\\u044f. \\u0421\\u043b\\u0430\\u0432\\u0430 \\u0411\\u043e\\u0433\\u0443, \\u0447\\u0442\\u043e \\u043c\\u044b \\u0436\\u0438\\u0432\\u0435\\u043c \\u043d\\u0435 \\u0432 \\u041e\\u0434\\u0438\\u043d\\u0446\\u043e\\u0432\\u043e.\",\n          \"\\u041e\\u0433\\u0440\\u043e\\u043c\\u043d\\u043e\\u0435 \\u0441\\u043f\\u0430\\u0441\\u0438\\u0431\\u043e \\u0434\\u043e\\u043a\\u0442\\u043e\\u0440\\u0443 \\u041a\\u0430\\u0431\\u0430\\u043d\\u043e\\u0432\\u0443, \\u043d\\u0435 \\u043f\\u044c\\u044e \\u0443\\u0436\\u0435 6 \\u043b\\u0435\\u0442 (\\u0434\\u0432\\u0430 \\u0440\\u0430\\u0437\\u0430 \\u043f\\u043e 3 \\u0433\\u043e\\u0434\\u0430), \\u0438 \\u0435\\u0449\\u0435 \\u043f\\u043e\\u0441\\u043b\\u0435\\u0434\\u043d\\u0438\\u0439 \\u0440\\u0430\\u0437 \\u0437\\u0430\\u043a\\u043e\\u0434\\u0438\\u0440\\u043e\\u0432\\u0430\\u043b\\u0441\\u044f \\u043e\\u0442 \\u043e\\u0436\\u0438\\u0440\\u0435\\u043d\\u0438\\u044f, \\u0441\\u043a\\u0438\\u043d\\u0443\\u043b \\u0437\\u0430 \\u043c\\u0435\\u0441\\u044f\\u0446 12 \\u043a\\u0433. \\u0418 \\u044d\\u0442\\u043e \\u043d\\u0435 \\u043f\\u0440\\u0435\\u0434\\u0435\\u043b!\"\n        ],\n        \"semantic_type\": \"\",\n        \"description\": \"\"\n      }\n    },\n    {\n      \"column\": \"sentiment\",\n      \"properties\": {\n        \"dtype\": \"category\",\n        \"num_unique_values\": 2,\n        \"samples\": [\n          \"negative\",\n          \"positive\"\n        ],\n        \"semantic_type\": \"\",\n        \"description\": \"\"\n      }\n    },\n    {\n      \"column\": \"source_url\",\n      \"properties\": {\n        \"dtype\": \"string\",\n        \"num_unique_values\": 70581,\n        \"samples\": [\n          \"http://www.spr.ru/forum_vyvod.php?id_tema=91986\",\n          \"http://www.spr.ru/forum_vyvod.php?id_tema=3225104\"\n        ],\n        \"semantic_type\": \"\",\n        \"description\": \"\"\n      }\n    }\n  ]\n}",
              "type": "dataframe",
              "variable_name": "data"
            },
            "text/html": [
              "\n",
              "  <div id=\"df-b3788389-7cf3-4908-825b-0521d7d2fb78\" class=\"colab-df-container\">\n",
              "    <div>\n",
              "<style scoped>\n",
              "    .dataframe tbody tr th:only-of-type {\n",
              "        vertical-align: middle;\n",
              "    }\n",
              "\n",
              "    .dataframe tbody tr th {\n",
              "        vertical-align: top;\n",
              "    }\n",
              "\n",
              "    .dataframe thead th {\n",
              "        text-align: right;\n",
              "    }\n",
              "</style>\n",
              "<table border=\"1\" class=\"dataframe\">\n",
              "  <thead>\n",
              "    <tr style=\"text-align: right;\">\n",
              "      <th></th>\n",
              "      <th>review_id</th>\n",
              "      <th>category</th>\n",
              "      <th>title</th>\n",
              "      <th>content</th>\n",
              "      <th>sentiment</th>\n",
              "      <th>source_url</th>\n",
              "    </tr>\n",
              "  </thead>\n",
              "  <tbody>\n",
              "    <tr>\n",
              "      <th>0</th>\n",
              "      <td>0</td>\n",
              "      <td>Поликлиники стоматологические</td>\n",
              "      <td>Классный мастер</td>\n",
              "      <td>Огромное спасибо за чудесное удаление двух зуб...</td>\n",
              "      <td>positive</td>\n",
              "      <td>http://www.spr.ru/forum_vyvod.php?id_tema=2727539</td>\n",
              "    </tr>\n",
              "    <tr>\n",
              "      <th>1</th>\n",
              "      <td>1</td>\n",
              "      <td>Поликлиники стоматологические</td>\n",
              "      <td>Замечательный врач</td>\n",
              "      <td>Хочу выразить особую благодарность замечательн...</td>\n",
              "      <td>positive</td>\n",
              "      <td>http://www.spr.ru/forum_vyvod.php?id_tema=2302877</td>\n",
              "    </tr>\n",
              "    <tr>\n",
              "      <th>2</th>\n",
              "      <td>2</td>\n",
              "      <td>Поликлиники стоматологические</td>\n",
              "      <td>Благодарность работникам рентгена</td>\n",
              "      <td>Добрый вечер! Хотелось бы поблагодарить сотруд...</td>\n",
              "      <td>positive</td>\n",
              "      <td>http://www.spr.ru/forum_vyvod.php?id_tema=2815031</td>\n",
              "    </tr>\n",
              "    <tr>\n",
              "      <th>3</th>\n",
              "      <td>3</td>\n",
              "      <td>Поликлиники стоматологические</td>\n",
              "      <td>Доктор Рабинович</td>\n",
              "      <td>Женщины советского образца в регистратуре не и...</td>\n",
              "      <td>negative</td>\n",
              "      <td>http://www.spr.ru/forum_vyvod.php?id_tema=3443161</td>\n",
              "    </tr>\n",
              "    <tr>\n",
              "      <th>4</th>\n",
              "      <td>4</td>\n",
              "      <td>Поликлиники стоматологические</td>\n",
              "      <td>Есть кому сказать спасибо</td>\n",
              "      <td>У меня с детства очень плохие зубы (тонкая и х...</td>\n",
              "      <td>positive</td>\n",
              "      <td>http://www.spr.ru/forum_vyvod.php?id_tema=2592430</td>\n",
              "    </tr>\n",
              "    <tr>\n",
              "      <th>...</th>\n",
              "      <td>...</td>\n",
              "      <td>...</td>\n",
              "      <td>...</td>\n",
              "      <td>...</td>\n",
              "      <td>...</td>\n",
              "      <td>...</td>\n",
              "    </tr>\n",
              "    <tr>\n",
              "      <th>70592</th>\n",
              "      <td>70592</td>\n",
              "      <td>Водительские комиссии</td>\n",
              "      <td>Хуже районной поликлиники</td>\n",
              "      <td>Заведение ужасное. Врачи делят 1 кабинет на 2х...</td>\n",
              "      <td>negative</td>\n",
              "      <td>http://www.spr.ru/forum_vyvod.php?id_tema=273326</td>\n",
              "    </tr>\n",
              "    <tr>\n",
              "      <th>70593</th>\n",
              "      <td>70593</td>\n",
              "      <td>Водительские комиссии</td>\n",
              "      <td>Справки</td>\n",
              "      <td>Люди, не обращайтесь в эту фирму! Муж проходил...</td>\n",
              "      <td>negative</td>\n",
              "      <td>http://www.spr.ru/forum_vyvod.php?id_tema=3401583</td>\n",
              "    </tr>\n",
              "    <tr>\n",
              "      <th>70594</th>\n",
              "      <td>70594</td>\n",
              "      <td>Водительские комиссии</td>\n",
              "      <td>Мед-Альфа - это наше будущее</td>\n",
              "      <td>Дорогие посетители медицинского центра ООО \"Ме...</td>\n",
              "      <td>positive</td>\n",
              "      <td>http://www.spr.ru/forum_vyvod.php?id_tema=326078</td>\n",
              "    </tr>\n",
              "    <tr>\n",
              "      <th>70595</th>\n",
              "      <td>70595</td>\n",
              "      <td>Водительские комиссии</td>\n",
              "      <td>Хамское поведение</td>\n",
              "      <td>В регистратуре сидит хамка, такое отношение и ...</td>\n",
              "      <td>negative</td>\n",
              "      <td>http://www.spr.ru/forum_vyvod.php?id_tema=3171911</td>\n",
              "    </tr>\n",
              "    <tr>\n",
              "      <th>70596</th>\n",
              "      <td>70596</td>\n",
              "      <td>Водительские комиссии</td>\n",
              "      <td>Только хорошие впечатления</td>\n",
              "      <td>Хочу поблагодарить весь персонал \"МедАльфаПроф...</td>\n",
              "      <td>positive</td>\n",
              "      <td>http://www.spr.ru/forum_vyvod.php?id_tema=3391562</td>\n",
              "    </tr>\n",
              "  </tbody>\n",
              "</table>\n",
              "<p>70597 rows × 6 columns</p>\n",
              "</div>\n",
              "    <div class=\"colab-df-buttons\">\n",
              "\n",
              "  <div class=\"colab-df-container\">\n",
              "    <button class=\"colab-df-convert\" onclick=\"convertToInteractive('df-b3788389-7cf3-4908-825b-0521d7d2fb78')\"\n",
              "            title=\"Convert this dataframe to an interactive table.\"\n",
              "            style=\"display:none;\">\n",
              "\n",
              "  <svg xmlns=\"http://www.w3.org/2000/svg\" height=\"24px\" viewBox=\"0 -960 960 960\">\n",
              "    <path d=\"M120-120v-720h720v720H120Zm60-500h600v-160H180v160Zm220 220h160v-160H400v160Zm0 220h160v-160H400v160ZM180-400h160v-160H180v160Zm440 0h160v-160H620v160ZM180-180h160v-160H180v160Zm440 0h160v-160H620v160Z\"/>\n",
              "  </svg>\n",
              "    </button>\n",
              "\n",
              "  <style>\n",
              "    .colab-df-container {\n",
              "      display:flex;\n",
              "      gap: 12px;\n",
              "    }\n",
              "\n",
              "    .colab-df-convert {\n",
              "      background-color: #E8F0FE;\n",
              "      border: none;\n",
              "      border-radius: 50%;\n",
              "      cursor: pointer;\n",
              "      display: none;\n",
              "      fill: #1967D2;\n",
              "      height: 32px;\n",
              "      padding: 0 0 0 0;\n",
              "      width: 32px;\n",
              "    }\n",
              "\n",
              "    .colab-df-convert:hover {\n",
              "      background-color: #E2EBFA;\n",
              "      box-shadow: 0px 1px 2px rgba(60, 64, 67, 0.3), 0px 1px 3px 1px rgba(60, 64, 67, 0.15);\n",
              "      fill: #174EA6;\n",
              "    }\n",
              "\n",
              "    .colab-df-buttons div {\n",
              "      margin-bottom: 4px;\n",
              "    }\n",
              "\n",
              "    [theme=dark] .colab-df-convert {\n",
              "      background-color: #3B4455;\n",
              "      fill: #D2E3FC;\n",
              "    }\n",
              "\n",
              "    [theme=dark] .colab-df-convert:hover {\n",
              "      background-color: #434B5C;\n",
              "      box-shadow: 0px 1px 3px 1px rgba(0, 0, 0, 0.15);\n",
              "      filter: drop-shadow(0px 1px 2px rgba(0, 0, 0, 0.3));\n",
              "      fill: #FFFFFF;\n",
              "    }\n",
              "  </style>\n",
              "\n",
              "    <script>\n",
              "      const buttonEl =\n",
              "        document.querySelector('#df-b3788389-7cf3-4908-825b-0521d7d2fb78 button.colab-df-convert');\n",
              "      buttonEl.style.display =\n",
              "        google.colab.kernel.accessAllowed ? 'block' : 'none';\n",
              "\n",
              "      async function convertToInteractive(key) {\n",
              "        const element = document.querySelector('#df-b3788389-7cf3-4908-825b-0521d7d2fb78');\n",
              "        const dataTable =\n",
              "          await google.colab.kernel.invokeFunction('convertToInteractive',\n",
              "                                                    [key], {});\n",
              "        if (!dataTable) return;\n",
              "\n",
              "        const docLinkHtml = 'Like what you see? Visit the ' +\n",
              "          '<a target=\"_blank\" href=https://colab.research.google.com/notebooks/data_table.ipynb>data table notebook</a>'\n",
              "          + ' to learn more about interactive tables.';\n",
              "        element.innerHTML = '';\n",
              "        dataTable['output_type'] = 'display_data';\n",
              "        await google.colab.output.renderOutput(dataTable, element);\n",
              "        const docLink = document.createElement('div');\n",
              "        docLink.innerHTML = docLinkHtml;\n",
              "        element.appendChild(docLink);\n",
              "      }\n",
              "    </script>\n",
              "  </div>\n",
              "\n",
              "\n",
              "<div id=\"df-bf98de9a-925a-4305-97c0-69e461f60432\">\n",
              "  <button class=\"colab-df-quickchart\" onclick=\"quickchart('df-bf98de9a-925a-4305-97c0-69e461f60432')\"\n",
              "            title=\"Suggest charts\"\n",
              "            style=\"display:none;\">\n",
              "\n",
              "<svg xmlns=\"http://www.w3.org/2000/svg\" height=\"24px\"viewBox=\"0 0 24 24\"\n",
              "     width=\"24px\">\n",
              "    <g>\n",
              "        <path d=\"M19 3H5c-1.1 0-2 .9-2 2v14c0 1.1.9 2 2 2h14c1.1 0 2-.9 2-2V5c0-1.1-.9-2-2-2zM9 17H7v-7h2v7zm4 0h-2V7h2v10zm4 0h-2v-4h2v4z\"/>\n",
              "    </g>\n",
              "</svg>\n",
              "  </button>\n",
              "\n",
              "<style>\n",
              "  .colab-df-quickchart {\n",
              "      --bg-color: #E8F0FE;\n",
              "      --fill-color: #1967D2;\n",
              "      --hover-bg-color: #E2EBFA;\n",
              "      --hover-fill-color: #174EA6;\n",
              "      --disabled-fill-color: #AAA;\n",
              "      --disabled-bg-color: #DDD;\n",
              "  }\n",
              "\n",
              "  [theme=dark] .colab-df-quickchart {\n",
              "      --bg-color: #3B4455;\n",
              "      --fill-color: #D2E3FC;\n",
              "      --hover-bg-color: #434B5C;\n",
              "      --hover-fill-color: #FFFFFF;\n",
              "      --disabled-bg-color: #3B4455;\n",
              "      --disabled-fill-color: #666;\n",
              "  }\n",
              "\n",
              "  .colab-df-quickchart {\n",
              "    background-color: var(--bg-color);\n",
              "    border: none;\n",
              "    border-radius: 50%;\n",
              "    cursor: pointer;\n",
              "    display: none;\n",
              "    fill: var(--fill-color);\n",
              "    height: 32px;\n",
              "    padding: 0;\n",
              "    width: 32px;\n",
              "  }\n",
              "\n",
              "  .colab-df-quickchart:hover {\n",
              "    background-color: var(--hover-bg-color);\n",
              "    box-shadow: 0 1px 2px rgba(60, 64, 67, 0.3), 0 1px 3px 1px rgba(60, 64, 67, 0.15);\n",
              "    fill: var(--button-hover-fill-color);\n",
              "  }\n",
              "\n",
              "  .colab-df-quickchart-complete:disabled,\n",
              "  .colab-df-quickchart-complete:disabled:hover {\n",
              "    background-color: var(--disabled-bg-color);\n",
              "    fill: var(--disabled-fill-color);\n",
              "    box-shadow: none;\n",
              "  }\n",
              "\n",
              "  .colab-df-spinner {\n",
              "    border: 2px solid var(--fill-color);\n",
              "    border-color: transparent;\n",
              "    border-bottom-color: var(--fill-color);\n",
              "    animation:\n",
              "      spin 1s steps(1) infinite;\n",
              "  }\n",
              "\n",
              "  @keyframes spin {\n",
              "    0% {\n",
              "      border-color: transparent;\n",
              "      border-bottom-color: var(--fill-color);\n",
              "      border-left-color: var(--fill-color);\n",
              "    }\n",
              "    20% {\n",
              "      border-color: transparent;\n",
              "      border-left-color: var(--fill-color);\n",
              "      border-top-color: var(--fill-color);\n",
              "    }\n",
              "    30% {\n",
              "      border-color: transparent;\n",
              "      border-left-color: var(--fill-color);\n",
              "      border-top-color: var(--fill-color);\n",
              "      border-right-color: var(--fill-color);\n",
              "    }\n",
              "    40% {\n",
              "      border-color: transparent;\n",
              "      border-right-color: var(--fill-color);\n",
              "      border-top-color: var(--fill-color);\n",
              "    }\n",
              "    60% {\n",
              "      border-color: transparent;\n",
              "      border-right-color: var(--fill-color);\n",
              "    }\n",
              "    80% {\n",
              "      border-color: transparent;\n",
              "      border-right-color: var(--fill-color);\n",
              "      border-bottom-color: var(--fill-color);\n",
              "    }\n",
              "    90% {\n",
              "      border-color: transparent;\n",
              "      border-bottom-color: var(--fill-color);\n",
              "    }\n",
              "  }\n",
              "</style>\n",
              "\n",
              "  <script>\n",
              "    async function quickchart(key) {\n",
              "      const quickchartButtonEl =\n",
              "        document.querySelector('#' + key + ' button');\n",
              "      quickchartButtonEl.disabled = true;  // To prevent multiple clicks.\n",
              "      quickchartButtonEl.classList.add('colab-df-spinner');\n",
              "      try {\n",
              "        const charts = await google.colab.kernel.invokeFunction(\n",
              "            'suggestCharts', [key], {});\n",
              "      } catch (error) {\n",
              "        console.error('Error during call to suggestCharts:', error);\n",
              "      }\n",
              "      quickchartButtonEl.classList.remove('colab-df-spinner');\n",
              "      quickchartButtonEl.classList.add('colab-df-quickchart-complete');\n",
              "    }\n",
              "    (() => {\n",
              "      let quickchartButtonEl =\n",
              "        document.querySelector('#df-bf98de9a-925a-4305-97c0-69e461f60432 button');\n",
              "      quickchartButtonEl.style.display =\n",
              "        google.colab.kernel.accessAllowed ? 'block' : 'none';\n",
              "    })();\n",
              "  </script>\n",
              "</div>\n",
              "    </div>\n",
              "  </div>\n"
            ],
            "text/plain": [
              "       review_id                       category  \\\n",
              "0              0  Поликлиники стоматологические   \n",
              "1              1  Поликлиники стоматологические   \n",
              "2              2  Поликлиники стоматологические   \n",
              "3              3  Поликлиники стоматологические   \n",
              "4              4  Поликлиники стоматологические   \n",
              "...          ...                            ...   \n",
              "70592      70592          Водительские комиссии   \n",
              "70593      70593          Водительские комиссии   \n",
              "70594      70594          Водительские комиссии   \n",
              "70595      70595          Водительские комиссии   \n",
              "70596      70596          Водительские комиссии   \n",
              "\n",
              "                                   title  \\\n",
              "0                        Классный мастер   \n",
              "1                     Замечательный врач   \n",
              "2      Благодарность работникам рентгена   \n",
              "3                       Доктор Рабинович   \n",
              "4              Есть кому сказать спасибо   \n",
              "...                                  ...   \n",
              "70592          Хуже районной поликлиники   \n",
              "70593                            Справки   \n",
              "70594       Мед-Альфа - это наше будущее   \n",
              "70595                  Хамское поведение   \n",
              "70596         Только хорошие впечатления   \n",
              "\n",
              "                                                 content sentiment  \\\n",
              "0      Огромное спасибо за чудесное удаление двух зуб...  positive   \n",
              "1      Хочу выразить особую благодарность замечательн...  positive   \n",
              "2      Добрый вечер! Хотелось бы поблагодарить сотруд...  positive   \n",
              "3      Женщины советского образца в регистратуре не и...  negative   \n",
              "4      У меня с детства очень плохие зубы (тонкая и х...  positive   \n",
              "...                                                  ...       ...   \n",
              "70592  Заведение ужасное. Врачи делят 1 кабинет на 2х...  negative   \n",
              "70593  Люди, не обращайтесь в эту фирму! Муж проходил...  negative   \n",
              "70594  Дорогие посетители медицинского центра ООО \"Ме...  positive   \n",
              "70595  В регистратуре сидит хамка, такое отношение и ...  negative   \n",
              "70596  Хочу поблагодарить весь персонал \"МедАльфаПроф...  positive   \n",
              "\n",
              "                                              source_url  \n",
              "0      http://www.spr.ru/forum_vyvod.php?id_tema=2727539  \n",
              "1      http://www.spr.ru/forum_vyvod.php?id_tema=2302877  \n",
              "2      http://www.spr.ru/forum_vyvod.php?id_tema=2815031  \n",
              "3      http://www.spr.ru/forum_vyvod.php?id_tema=3443161  \n",
              "4      http://www.spr.ru/forum_vyvod.php?id_tema=2592430  \n",
              "...                                                  ...  \n",
              "70592   http://www.spr.ru/forum_vyvod.php?id_tema=273326  \n",
              "70593  http://www.spr.ru/forum_vyvod.php?id_tema=3401583  \n",
              "70594   http://www.spr.ru/forum_vyvod.php?id_tema=326078  \n",
              "70595  http://www.spr.ru/forum_vyvod.php?id_tema=3171911  \n",
              "70596  http://www.spr.ru/forum_vyvod.php?id_tema=3391562  \n",
              "\n",
              "[70597 rows x 6 columns]"
            ]
          },
          "execution_count": 4,
          "metadata": {},
          "output_type": "execute_result"
        }
      ],
      "source": [
        "data"
      ]
    },
    {
      "cell_type": "code",
      "execution_count": null,
      "metadata": {
        "id": "WanVJPk503YS"
      },
      "outputs": [],
      "source": [
        "y=data['sentiment']\n",
        "x=data['content']\n",
        "X_train, X_test, y_train, y_test = train_test_split(x, y, test_size=0.2, random_state=42)"
      ]
    },
    {
      "cell_type": "markdown",
      "metadata": {
        "id": "Knh0WV7ri7FP"
      },
      "source": [
        "CountVectorizer"
      ]
    },
    {
      "cell_type": "code",
      "execution_count": null,
      "metadata": {
        "id": "Kjhn3crQ1UZu"
      },
      "outputs": [],
      "source": [
        "vectorizer = CountVectorizer()\n",
        "X_train = vectorizer.fit_transform(X_train)\n",
        "X_test = vectorizer.transform(X_test)"
      ]
    },
    {
      "cell_type": "code",
      "execution_count": null,
      "metadata": {
        "colab": {
          "base_uri": "https://localhost:8080/"
        },
        "id": "Lytu9F8gqJLh",
        "outputId": "e8774ecc-b4ed-41e7-8a75-6e1b09bf3fa0"
      },
      "outputs": [
        {
          "data": {
            "text/plain": [
              "(56477, 164503)"
            ]
          },
          "execution_count": 34,
          "metadata": {},
          "output_type": "execute_result"
        }
      ],
      "source": [
        "X_train.shape"
      ]
    },
    {
      "cell_type": "code",
      "execution_count": null,
      "metadata": {
        "colab": {
          "base_uri": "https://localhost:8080/"
        },
        "id": "pwAN_AVUo6Y9",
        "outputId": "e165c708-c8a5-4d0b-fa09-4fcc8f75acc8"
      },
      "outputs": [
        {
          "data": {
            "text/plain": [
              "[('сегодня', 130528),\n",
              " ('около', 86654),\n",
              " ('часов', 158071),\n",
              " ('ждали', 39034),\n",
              " ('приема', 112087),\n",
              " ('кабинета', 51012),\n",
              " ('ортопеда', 88834),\n",
              " ('гурко', 30858),\n",
              " ('специалист', 137853),\n",
              " ('она', 87198)]"
            ]
          },
          "execution_count": 31,
          "metadata": {},
          "output_type": "execute_result"
        }
      ],
      "source": [
        "list(vectorizer.vocabulary_.items())[:10]"
      ]
    },
    {
      "cell_type": "code",
      "execution_count": null,
      "metadata": {
        "id": "drCKh3_b0lWI"
      },
      "outputs": [],
      "source": [
        "rf_classifier = RandomForestClassifier(n_estimators=100, random_state=42)\n",
        "rf_classifier.fit(X_train, y_train)\n",
        "y_pred = rf_classifier.predict(X_test)"
      ]
    },
    {
      "cell_type": "code",
      "execution_count": null,
      "metadata": {
        "colab": {
          "base_uri": "https://localhost:8080/"
        },
        "id": "nfwrum0J2VTi",
        "outputId": "baaec4a2-c85b-4f9d-d08a-a1f7ef923443"
      },
      "outputs": [
        {
          "name": "stdout",
          "output_type": "stream",
          "text": [
            "Accuracy: 0.9146600566572238\n",
            "Classification Report:\n",
            "               precision    recall  f1-score   support\n",
            "\n",
            "    negative       0.88      0.92      0.90      5778\n",
            "    positive       0.94      0.91      0.93      8342\n",
            "\n",
            "    accuracy                           0.91     14120\n",
            "   macro avg       0.91      0.92      0.91     14120\n",
            "weighted avg       0.92      0.91      0.91     14120\n",
            "\n"
          ]
        }
      ],
      "source": [
        "print(\"Accuracy:\", accuracy_score(y_test, y_pred))\n",
        "print(\"Classification Report:\\n\", classification_report(y_test, y_pred))"
      ]
    },
    {
      "cell_type": "code",
      "execution_count": null,
      "metadata": {
        "colab": {
          "base_uri": "https://localhost:8080/",
          "height": 467
        },
        "id": "kWcZc4HCzaDE",
        "outputId": "0d04570e-ba46-45f2-ce32-074cd82cdac7"
      },
      "outputs": [
        {
          "data": {
            "text/plain": [
              "<sklearn.metrics._plot.confusion_matrix.ConfusionMatrixDisplay at 0x78ca2a19bc40>"
            ]
          },
          "execution_count": 8,
          "metadata": {},
          "output_type": "execute_result"
        },
        {
          "data": {
            "image/png": "[encoded data removed]",
            "text/plain": [
              "<Figure size 640x480 with 2 Axes>"
            ]
          },
          "metadata": {},
          "output_type": "display_data"
        }
      ],
      "source": [
        "cm = confusion_matrix(y_test, y_pred)\n",
        "cm_display = ConfusionMatrixDisplay(confusion_matrix=cm, display_labels=rf_classifier.classes_)\n",
        "cm_display.plot()"
      ]
    },
    {
      "cell_type": "markdown",
      "metadata": {
        "id": "AhJCbqhKjf9V"
      },
      "source": [
        "TFIDF"
      ]
    },
    {
      "cell_type": "code",
      "execution_count": null,
      "metadata": {
        "id": "sZFlPlulzaFp"
      },
      "outputs": [],
      "source": [
        "y=data['sentiment']\n",
        "x=data['content']\n",
        "X_train, X_test, y_train, y_test = train_test_split(x, y, test_size=0.2, random_state=42)"
      ]
    },
    {
      "cell_type": "code",
      "execution_count": null,
      "metadata": {
        "id": "EiKJtd8JjfPP"
      },
      "outputs": [],
      "source": [
        "tfidf_vectorizer = TfidfVectorizer(ngram_range=(1, 2))\n",
        "X_train = tfidf_vectorizer.fit_transform(X_train)\n",
        "X_test = tfidf_vectorizer.transform(X_test)"
      ]
    },
    {
      "cell_type": "code",
      "execution_count": null,
      "metadata": {
        "id": "hcHcCn0ebKvy"
      },
      "outputs": [],
      "source": []
    },
    {
      "cell_type": "code",
      "execution_count": null,
      "metadata": {
        "id": "q3xPHTYInlUQ"
      },
      "outputs": [],
      "source": [
        "rf_classifier = RandomForestClassifier(n_estimators=100, random_state=42)\n",
        "rf_classifier.fit(X_train, y_train)\n",
        "y_pred = rf_classifier.predict(X_test)\n"
      ]
    },
    {
      "cell_type": "code",
      "execution_count": null,
      "metadata": {
        "colab": {
          "base_uri": "https://localhost:8080/"
        },
        "id": "Z9ZSi1sOnwzX",
        "outputId": "8f41fa44-1d50-4ce5-f152-1d435db10858"
      },
      "outputs": [
        {
          "name": "stdout",
          "output_type": "stream",
          "text": [
            "Accuracy: 0.9154390934844192\n",
            "Classification Report:\n",
            "               precision    recall  f1-score   support\n",
            "\n",
            "    negative       0.89      0.91      0.90      5778\n",
            "    positive       0.93      0.92      0.93      8342\n",
            "\n",
            "    accuracy                           0.92     14120\n",
            "   macro avg       0.91      0.91      0.91     14120\n",
            "weighted avg       0.92      0.92      0.92     14120\n",
            "\n"
          ]
        }
      ],
      "source": [
        "print(\"Accuracy:\", accuracy_score(y_test, y_pred))\n",
        "print(\"Classification Report:\\n\", classification_report(y_test, y_pred))"
      ]
    },
    {
      "cell_type": "code",
      "execution_count": null,
      "metadata": {
        "colab": {
          "base_uri": "https://localhost:8080/",
          "height": 467
        },
        "id": "yk2fv9iA0iXw",
        "outputId": "b5d04f02-3f84-40d7-c0ef-6d61836112ac"
      },
      "outputs": [
        {
          "data": {
            "text/plain": [
              "<sklearn.metrics._plot.confusion_matrix.ConfusionMatrixDisplay at 0x78ca0984f5b0>"
            ]
          },
          "execution_count": 26,
          "metadata": {},
          "output_type": "execute_result"
        },
        {
          "data": {
            "image/png": "[encoded data removed]",
            "text/plain": [
              "<Figure size 640x480 with 2 Axes>"
            ]
          },
          "metadata": {},
          "output_type": "display_data"
        }
      ],
      "source": [
        "cm = confusion_matrix(y_test, y_pred)\n",
        "cm_display = ConfusionMatrixDisplay(confusion_matrix=cm, display_labels=rf_classifier.classes_)\n",
        "cm_display.plot()"
      ]
    },
    {
      "cell_type": "code",
      "execution_count": null,
      "metadata": {
        "id": "pqPu0Qeu0ia_"
      },
      "outputs": [],
      "source": []
    },
    {
      "cell_type": "markdown",
      "metadata": {
        "id": "oS-ome40iutL"
      },
      "source": [
        "Word2Vec"
      ]
    },
    {
      "cell_type": "code",
      "execution_count": null,
      "metadata": {
        "id": "-2vQpkYSaA-o"
      },
      "outputs": [],
      "source": [
        "y=data['sentiment']\n",
        "x=data['content']"
      ]
    },
    {
      "cell_type": "code",
      "execution_count": null,
      "metadata": {
        "id": "H8sRBT9HbECj"
      },
      "outputs": [],
      "source": [
        "def transfom(x_t):\n",
        "  array=[]\n",
        "  for elem in x_t:\n",
        "    words = elem.split()\n",
        "    array.append(words)\n",
        "  return array\n",
        "X_train, X_test, y_train, y_test = train_test_split(x, y, test_size=0.2, random_state=42)\n"
      ]
    },
    {
      "cell_type": "code",
      "execution_count": null,
      "metadata": {
        "id": "AfxM4kUsqQ2f"
      },
      "outputs": [],
      "source": [
        "model = Word2Vec(transfom(x), vector_size=100, window=5, min_count=1, workers=4)"
      ]
    },
    {
      "cell_type": "code",
      "execution_count": null,
      "metadata": {
        "id": "5WjoqUnU57XJ"
      },
      "outputs": [],
      "source": [
        "def vec(text):\n",
        "  words=text.split()\n",
        "  words_vec=[model.wv[word] for word in words if word in model.wv]\n",
        "\n",
        "  if len(words_vec)==0:\n",
        "    return np.zeros(100)\n",
        "  words_vec=np.array(words_vec)\n",
        "  return words_vec.mean(axis=0)\n",
        "\n",
        "X_train=np.array([vec(text) for text in X_train])\n",
        "X_test=np.array([vec(text) for text in X_test])"
      ]
    },
    {
      "cell_type": "code",
      "execution_count": null,
      "metadata": {
        "id": "EzhhNHdd0t7W"
      },
      "outputs": [],
      "source": [
        "rf_classifier = RandomForestClassifier(n_estimators=100, random_state=42)\n",
        "rf_classifier.fit(X_train, y_train)\n",
        "y_pred = rf_classifier.predict(X_test)"
      ]
    },
    {
      "cell_type": "code",
      "execution_count": null,
      "metadata": {
        "colab": {
          "base_uri": "https://localhost:8080/"
        },
        "id": "fUYJtMWQ05A7",
        "outputId": "3de13ab3-3a6e-4b61-d83e-01cbdc8af8a9"
      },
      "outputs": [
        {
          "name": "stdout",
          "output_type": "stream",
          "text": [
            "Accuracy: 0.8873937677053825\n",
            "Classification Report:\n",
            "               precision    recall  f1-score   support\n",
            "\n",
            "    negative       0.85      0.88      0.87      5778\n",
            "    positive       0.92      0.89      0.90      8342\n",
            "\n",
            "    accuracy                           0.89     14120\n",
            "   macro avg       0.88      0.89      0.88     14120\n",
            "weighted avg       0.89      0.89      0.89     14120\n",
            "\n"
          ]
        }
      ],
      "source": [
        "print(\"Accuracy:\", accuracy_score(y_test, y_pred))\n",
        "print(\"Classification Report:\\n\", classification_report(y_test, y_pred))"
      ]
    },
    {
      "cell_type": "code",
      "execution_count": null,
      "metadata": {
        "colab": {
          "base_uri": "https://localhost:8080/",
          "height": 467
        },
        "id": "aFTGpCTudtG9",
        "outputId": "9658acb1-1f25-47cd-d30b-f5a8a0b0b8f2"
      },
      "outputs": [
        {
          "data": {
            "text/plain": [
              "<sklearn.metrics._plot.confusion_matrix.ConfusionMatrixDisplay at 0x78ca098f5ae0>"
            ]
          },
          "execution_count": 46,
          "metadata": {},
          "output_type": "execute_result"
        },
        {
          "data": {
            "image/png": "[encoded data removed]",
            "text/plain": [
              "<Figure size 640x480 with 2 Axes>"
            ]
          },
          "metadata": {},
          "output_type": "display_data"
        }
      ],
      "source": [
        "cm = confusion_matrix(y_test, y_pred)\n",
        "cm_display = ConfusionMatrixDisplay(confusion_matrix=cm, display_labels=rf_classifier.classes_)\n",
        "cm_display.plot()"
      ]
    },
    {
      "cell_type": "code",
      "execution_count": null,
      "metadata": {
        "id": "LgPQnHz7ihXA"
      },
      "outputs": [],
      "source": []
    },
    {
      "cell_type": "markdown",
      "metadata": {
        "id": "FqxYI0mHikiI"
      },
      "source": [
        "catboost"
      ]
    },
    {
      "cell_type": "code",
      "execution_count": null,
      "metadata": {
        "id": "uQi_WFDazVo0"
      },
      "outputs": [],
      "source": [
        "y=data['sentiment']\n",
        "x=data[['content']]\n",
        "X_train, X_test, y_train, y_test = train_test_split(x, y, test_size=0.2, random_state=42)"
      ]
    },
    {
      "cell_type": "code",
      "execution_count": null,
      "metadata": {
        "colab": {
          "base_uri": "https://localhost:8080/"
        },
        "id": "h5DgcUKCqmgm",
        "outputId": "2d0f0567-8480-4785-dab4-ce72b7293f40"
      },
      "outputs": [
        {
          "name": "stdout",
          "output_type": "stream",
          "text": [
            "0:\tlearn: 0.6225527\ttotal: 414ms\tremaining: 41s\n",
            "1:\tlearn: 0.5650205\ttotal: 768ms\tremaining: 37.6s\n",
            "2:\tlearn: 0.5162140\ttotal: 1.13s\tremaining: 36.5s\n",
            "3:\tlearn: 0.4759200\ttotal: 1.49s\tremaining: 35.7s\n",
            "4:\tlearn: 0.4417503\ttotal: 1.83s\tremaining: 34.8s\n",
            "5:\tlearn: 0.4120823\ttotal: 2.19s\tremaining: 34.4s\n",
            "6:\tlearn: 0.3856224\ttotal: 2.56s\tremaining: 34s\n",
            "7:\tlearn: 0.3636577\ttotal: 2.9s\tremaining: 33.4s\n",
            "8:\tlearn: 0.3442673\ttotal: 3.27s\tremaining: 33.1s\n",
            "9:\tlearn: 0.3275748\ttotal: 3.61s\tremaining: 32.5s\n",
            "10:\tlearn: 0.3127725\ttotal: 3.97s\tremaining: 32.1s\n",
            "11:\tlearn: 0.2990070\ttotal: 4.36s\tremaining: 32s\n",
            "12:\tlearn: 0.2875256\ttotal: 4.71s\tremaining: 31.5s\n",
            "13:\tlearn: 0.2771641\ttotal: 5.06s\tremaining: 31.1s\n",
            "14:\tlearn: 0.2675619\ttotal: 5.45s\tremaining: 30.9s\n",
            "15:\tlearn: 0.2593634\ttotal: 5.8s\tremaining: 30.5s\n",
            "16:\tlearn: 0.2522054\ttotal: 6.14s\tremaining: 30s\n",
            "17:\tlearn: 0.2462409\ttotal: 6.51s\tremaining: 29.7s\n",
            "18:\tlearn: 0.2406753\ttotal: 6.88s\tremaining: 29.3s\n",
            "19:\tlearn: 0.2354951\ttotal: 7.23s\tremaining: 28.9s\n",
            "20:\tlearn: 0.2306259\ttotal: 7.61s\tremaining: 28.6s\n",
            "21:\tlearn: 0.2263603\ttotal: 7.95s\tremaining: 28.2s\n",
            "22:\tlearn: 0.2222517\ttotal: 8.3s\tremaining: 27.8s\n",
            "23:\tlearn: 0.2191892\ttotal: 8.84s\tremaining: 28s\n",
            "24:\tlearn: 0.2158157\ttotal: 9.54s\tremaining: 28.6s\n",
            "25:\tlearn: 0.2129800\ttotal: 10.1s\tremaining: 28.9s\n",
            "26:\tlearn: 0.2109135\ttotal: 10.6s\tremaining: 28.8s\n",
            "27:\tlearn: 0.2084236\ttotal: 11.2s\tremaining: 28.8s\n",
            "28:\tlearn: 0.2066885\ttotal: 11.8s\tremaining: 28.9s\n",
            "29:\tlearn: 0.2052212\ttotal: 12.4s\tremaining: 29s\n",
            "30:\tlearn: 0.2034468\ttotal: 12.9s\tremaining: 28.7s\n",
            "31:\tlearn: 0.2017698\ttotal: 13.2s\tremaining: 28.1s\n",
            "32:\tlearn: 0.2009899\ttotal: 13.6s\tremaining: 27.5s\n",
            "33:\tlearn: 0.1998217\ttotal: 13.9s\tremaining: 27s\n",
            "34:\tlearn: 0.1985569\ttotal: 14.3s\tremaining: 26.5s\n",
            "35:\tlearn: 0.1976066\ttotal: 14.6s\tremaining: 25.9s\n",
            "36:\tlearn: 0.1964544\ttotal: 14.9s\tremaining: 25.4s\n",
            "37:\tlearn: 0.1957875\ttotal: 15.3s\tremaining: 24.9s\n",
            "38:\tlearn: 0.1948893\ttotal: 15.6s\tremaining: 24.4s\n",
            "39:\tlearn: 0.1940033\ttotal: 16s\tremaining: 24s\n",
            "40:\tlearn: 0.1932670\ttotal: 16.3s\tremaining: 23.5s\n",
            "41:\tlearn: 0.1924966\ttotal: 16.6s\tremaining: 23s\n",
            "42:\tlearn: 0.1920528\ttotal: 17s\tremaining: 22.5s\n",
            "43:\tlearn: 0.1914561\ttotal: 17.3s\tremaining: 22s\n",
            "44:\tlearn: 0.1909275\ttotal: 17.6s\tremaining: 21.6s\n",
            "45:\tlearn: 0.1905104\ttotal: 18s\tremaining: 21.1s\n",
            "46:\tlearn: 0.1901605\ttotal: 18.3s\tremaining: 20.7s\n",
            "47:\tlearn: 0.1896651\ttotal: 18.7s\tremaining: 20.3s\n",
            "48:\tlearn: 0.1893318\ttotal: 19s\tremaining: 19.8s\n",
            "49:\tlearn: 0.1889496\ttotal: 19.4s\tremaining: 19.4s\n",
            "50:\tlearn: 0.1887130\ttotal: 19.7s\tremaining: 18.9s\n",
            "51:\tlearn: 0.1884580\ttotal: 20s\tremaining: 18.5s\n",
            "52:\tlearn: 0.1880988\ttotal: 20.4s\tremaining: 18.1s\n",
            "53:\tlearn: 0.1877926\ttotal: 20.7s\tremaining: 17.6s\n",
            "54:\tlearn: 0.1875140\ttotal: 21s\tremaining: 17.2s\n",
            "55:\tlearn: 0.1872455\ttotal: 21.3s\tremaining: 16.8s\n",
            "56:\tlearn: 0.1871257\ttotal: 21.7s\tremaining: 16.3s\n",
            "57:\tlearn: 0.1869122\ttotal: 22s\tremaining: 15.9s\n",
            "58:\tlearn: 0.1867146\ttotal: 22.3s\tremaining: 15.5s\n",
            "59:\tlearn: 0.1863435\ttotal: 22.7s\tremaining: 15.1s\n",
            "60:\tlearn: 0.1861911\ttotal: 23.2s\tremaining: 14.8s\n",
            "61:\tlearn: 0.1860751\ttotal: 23.8s\tremaining: 14.6s\n",
            "62:\tlearn: 0.1858802\ttotal: 24.3s\tremaining: 14.3s\n",
            "63:\tlearn: 0.1857084\ttotal: 24.8s\tremaining: 14s\n",
            "64:\tlearn: 0.1855594\ttotal: 25.3s\tremaining: 13.6s\n",
            "65:\tlearn: 0.1853860\ttotal: 25.9s\tremaining: 13.3s\n",
            "66:\tlearn: 0.1852490\ttotal: 26.4s\tremaining: 13s\n",
            "67:\tlearn: 0.1850728\ttotal: 26.9s\tremaining: 12.7s\n",
            "68:\tlearn: 0.1848355\ttotal: 27.3s\tremaining: 12.3s\n",
            "69:\tlearn: 0.1846911\ttotal: 27.6s\tremaining: 11.8s\n",
            "70:\tlearn: 0.1845768\ttotal: 27.9s\tremaining: 11.4s\n",
            "71:\tlearn: 0.1844299\ttotal: 28.2s\tremaining: 11s\n",
            "72:\tlearn: 0.1840347\ttotal: 28.6s\tremaining: 10.6s\n",
            "73:\tlearn: 0.1838798\ttotal: 28.9s\tremaining: 10.1s\n",
            "74:\tlearn: 0.1836099\ttotal: 29.2s\tremaining: 9.73s\n",
            "75:\tlearn: 0.1834933\ttotal: 29.5s\tremaining: 9.32s\n",
            "76:\tlearn: 0.1833581\ttotal: 29.8s\tremaining: 8.91s\n",
            "77:\tlearn: 0.1832097\ttotal: 30.1s\tremaining: 8.5s\n",
            "78:\tlearn: 0.1831010\ttotal: 30.5s\tremaining: 8.1s\n",
            "79:\tlearn: 0.1829940\ttotal: 30.8s\tremaining: 7.69s\n",
            "80:\tlearn: 0.1828816\ttotal: 31.1s\tremaining: 7.29s\n",
            "81:\tlearn: 0.1825907\ttotal: 31.4s\tremaining: 6.9s\n",
            "82:\tlearn: 0.1824829\ttotal: 31.7s\tremaining: 6.5s\n",
            "83:\tlearn: 0.1822103\ttotal: 32.1s\tremaining: 6.11s\n",
            "84:\tlearn: 0.1821057\ttotal: 32.4s\tremaining: 5.72s\n",
            "85:\tlearn: 0.1819498\ttotal: 32.7s\tremaining: 5.33s\n",
            "86:\tlearn: 0.1818268\ttotal: 33.1s\tremaining: 4.94s\n",
            "87:\tlearn: 0.1816082\ttotal: 33.4s\tremaining: 4.55s\n",
            "88:\tlearn: 0.1814587\ttotal: 33.7s\tremaining: 4.17s\n",
            "89:\tlearn: 0.1813344\ttotal: 34s\tremaining: 3.78s\n",
            "90:\tlearn: 0.1812379\ttotal: 34.4s\tremaining: 3.4s\n",
            "91:\tlearn: 0.1809510\ttotal: 34.7s\tremaining: 3.02s\n",
            "92:\tlearn: 0.1807641\ttotal: 35s\tremaining: 2.64s\n",
            "93:\tlearn: 0.1805738\ttotal: 35.4s\tremaining: 2.26s\n",
            "94:\tlearn: 0.1804930\ttotal: 35.7s\tremaining: 1.88s\n",
            "95:\tlearn: 0.1803581\ttotal: 36s\tremaining: 1.5s\n",
            "96:\tlearn: 0.1802312\ttotal: 36.3s\tremaining: 1.12s\n",
            "97:\tlearn: 0.1801375\ttotal: 36.6s\tremaining: 748ms\n",
            "98:\tlearn: 0.1799710\ttotal: 37s\tremaining: 374ms\n",
            "99:\tlearn: 0.1798528\ttotal: 37.5s\tremaining: 0us\n"
          ]
        },
        {
          "data": {
            "text/plain": [
              "<catboost.core.CatBoostClassifier at 0x78ca2a19a410>"
            ]
          },
          "execution_count": 19,
          "metadata": {},
          "output_type": "execute_result"
        }
      ],
      "source": [
        "model = CatBoostClassifier(iterations=100, learning_rate=0.1, depth=6, text_features=['content'])\n",
        "model.fit(X_train, y_train)\n"
      ]
    },
    {
      "cell_type": "code",
      "execution_count": null,
      "metadata": {
        "colab": {
          "base_uri": "https://localhost:8080/"
        },
        "id": "vIK192Ko13h0",
        "outputId": "0bc36c8e-54f1-4cd9-a21e-a5c65d8d2be0"
      },
      "outputs": [
        {
          "name": "stdout",
          "output_type": "stream",
          "text": [
            "CatBoost:\n",
            "              precision    recall  f1-score   support\n",
            "\n",
            "    negative       0.90      0.95      0.92      5778\n",
            "    positive       0.96      0.93      0.94      8342\n",
            "\n",
            "    accuracy                           0.94     14120\n",
            "   macro avg       0.93      0.94      0.93     14120\n",
            "weighted avg       0.94      0.94      0.94     14120\n",
            "\n"
          ]
        }
      ],
      "source": [
        "y_pred_catboost = model.predict(X_test)\n",
        "print(\"CatBoost:\")\n",
        "print(classification_report(y_test, y_pred_catboost))"
      ]
    },
    {
      "cell_type": "code",
      "execution_count": null,
      "metadata": {
        "colab": {
          "base_uri": "https://localhost:8080/",
          "height": 467
        },
        "id": "5cUWEvcRiZsX",
        "outputId": "2954c7d0-ce18-4845-aa9c-afec547062f1"
      },
      "outputs": [
        {
          "data": {
            "text/plain": [
              "<sklearn.metrics._plot.confusion_matrix.ConfusionMatrixDisplay at 0x78ca2a1f1ab0>"
            ]
          },
          "execution_count": 21,
          "metadata": {},
          "output_type": "execute_result"
        },
        {
          "data": {
            "image/png": "[encoded data removed]",
            "text/plain": [
              "<Figure size 640x480 with 2 Axes>"
            ]
          },
          "metadata": {},
          "output_type": "display_data"
        }
      ],
      "source": [
        "cm = confusion_matrix(y_test, y_pred_catboost)\n",
        "cm_display = ConfusionMatrixDisplay(confusion_matrix=cm, display_labels=model.classes_)\n",
        "cm_display.plot()"
      ]
    },
    {
      "cell_type": "markdown",
      "metadata": {
        "id": "sY2r4yQtbNyl"
      },
      "source": [
        "лаб 3 генерация текста"
      ]
    },
    {
      "cell_type": "code",
      "execution_count": null,
      "metadata": {
        "id": "EZbIGQAE0Izu"
      },
      "outputs": [],
      "source": [
        "#!pip install transformers==4.24.0\n",
        "\n",
        "from transformers import GPT2LMHeadModel, GPT2Tokenizer\n",
        "import torch\n",
        "import pandas as pd\n",
        "\n",
        "DEVICE = torch.device(\"cuda:2\")\n",
        "from transformers import TextDataset, DataCollatorForLanguageModeling\n",
        "from transformers import Trainer, TrainingArguments\n",
        "\n"
      ]
    },
    {
      "cell_type": "code",
      "execution_count": null,
      "metadata": {
        "colab": {
          "base_uri": "https://localhost:8080/",
          "height": 333,
          "referenced_widgets": [
            "f73c729119ab4e62afd4dd209d9a7cc2",
            "ae54cb7479f9445b987c4f84700642c4",
            "cffaca55b9104ce080711a75cf4dbf51",
            "b58fc96d31114b8b8edf19181b3706cf",
            "b2c872edf70744ab98eaf4a087e53935",
            "04886f94695b4e57873f32b828d54484",
            "4253ae0497224f1bb3e469be52ef4070",
            "65e442d7b1b74274918c4ed27269a972",
            "35607bf44d5747bdb029da0596124a20",
            "1fe680e1b21e46579896208468f82c11",
            "29e4ebaa5a6b45f6a4564d134dae34a2",
            "33b9de7436d046f9ad1f43de25ef33bf",
            "f27e08ec461242f3aa8250f40a8ad3a6",
            "ed87b77cd1a64786a2838e9ad877fb9c",
            "88d602c65150429f8ed7fe912ed21ffc",
            "320e2f581b6c419d90d8cfe9d6989d6a",
            "abbe5512adb241469eae84dec51fd0b5",
            "befe377cc4774e5c881268e43d3f549c",
            "5e6ba09703e8401697c1a96c24f30fbf",
            "dc58a2498d894d5d995e3a16eaf9d609",
            "f7a484b59fb34a47908a8c75afc0e867",
            "6b55a2eb9db94c72812266fb34f47cc5",
            "3a3a4fcee0af463ba9f61206bea74b1b",
            "4e7a036bd3fe40b996dc8ce3705ea5fa",
            "925d3b36c5b349ac9acf5772b3566ea5",
            "f4284e6b63bb40fc95a81fad848d86fb",
            "a6289ccce1674d74985d92dcbffe070a",
            "71c8e4ce65e840289c8b5343007c55b0",
            "13f874d4683d4b2db29eacf6445e6fdb",
            "67df0501a1d34961bb88975c95b4f1ae",
            "68a825bc6894424db22ae33fa4f2b9ea",
            "af982e9c62254890856f6657ba2ab73e",
            "49eab374977f47f7b736fce050045da6",
            "72b107521a4047bca39965c0c59c65c2",
            "4dd23279b02b4c0f95ae012afc6902df",
            "fb36e4b1f9de40fe8d1a970fd51de2e6",
            "553e380d82a84e36b341c38a12af00f5",
            "f0b130d5bd024e15887d3ebde219642e",
            "fd9026e2149641cc95e6bbaffb0070d8",
            "2de4e2a4a19446d1b3ae3d34a4dca290",
            "41f7ea147cf34b4abe77744f0824eac2",
            "5025da4d6058416c9d344652b328f195",
            "4dfc4c4f68394ede85816119c9979c43",
            "fd119644ee264c708119f79adbcddf3a",
            "4ac7d03e989340c59a5263cfa2c5cdd9",
            "48cf707ad5d7479584a4172e815a5a38",
            "7fc5ec0ad5204935972e76259ad0e479",
            "647aa1ebc41b4b9cbcb3696d576ac904",
            "760d40a3cda24dd9ba61397990f41ad6",
            "1e88027e3e384aacab6cf0b102c5b84e",
            "5a7c8e5590c44a188c89ecb3e5e6fc45",
            "213b90c2789a4421a6aa645e7a9e14d7",
            "8cabb8b05eb44a3cb91aaf53de7670ca",
            "74c8f673017a46c8b167d0bbbe07fddc",
            "c3b7ef9f76c34b6885465fa1ed9f3055",
            "fab4f288af17447394ebb0622e193d31",
            "d94fc9463adc4e31a1ac1e2174c9fdca",
            "3109abe05d6c4130994c048245c44ad5",
            "9f695b101bda4f05884d3329dd2eff2e",
            "cbce2df6b15f4239900e3d7313287e13",
            "21ee6490b92d4348b2e6e9a624bf12ce",
            "803769eb68b54fc3819209bc2555ec15",
            "9d942423e0f2458a9f9e0b5548ca3c58",
            "6d1e8e45189b461ebc3ab142abe3387a",
            "dbaefde58ac54ae1bc9531b63d742264",
            "b5905721e64d454384d84abd1c2cd77d"
          ]
        },
        "id": "ijWjTT2Bc2A9",
        "outputId": "353e947f-0c52-4c80-fcaf-0333a937461c"
      },
      "outputs": [
        {
          "output_type": "stream",
          "name": "stderr",
          "text": [
            "/usr/local/lib/python3.10/dist-packages/huggingface_hub/utils/_auth.py:94: UserWarning: \n",
            "The secret `HF_TOKEN` does not exist in your Colab secrets.\n",
            "To authenticate with the Hugging Face Hub, create a token in your settings tab (https://huggingface.co/settings/tokens), set it as secret in your Google Colab and restart your session.\n",
            "You will be able to reuse this secret in all of your notebooks.\n",
            "Please note that authentication is recommended but still optional to access public models or datasets.\n",
            "  warnings.warn(\n"
          ]
        },
        {
          "output_type": "display_data",
          "data": {
            "text/plain": [
              "tokenizer_config.json:   0%|          | 0.00/1.25k [00:00<?, ?B/s]"
            ],
            "application/vnd.jupyter.widget-view+json": {
              "version_major": 2,
              "version_minor": 0,
              "model_id": "f73c729119ab4e62afd4dd209d9a7cc2"
            }
          },
          "metadata": {}
        },
        {
          "output_type": "display_data",
          "data": {
            "text/plain": [
              "vocab.json:   0%|          | 0.00/1.71M [00:00<?, ?B/s]"
            ],
            "application/vnd.jupyter.widget-view+json": {
              "version_major": 2,
              "version_minor": 0,
              "model_id": "33b9de7436d046f9ad1f43de25ef33bf"
            }
          },
          "metadata": {}
        },
        {
          "output_type": "display_data",
          "data": {
            "text/plain": [
              "merges.txt:   0%|          | 0.00/1.27M [00:00<?, ?B/s]"
            ],
            "application/vnd.jupyter.widget-view+json": {
              "version_major": 2,
              "version_minor": 0,
              "model_id": "3a3a4fcee0af463ba9f61206bea74b1b"
            }
          },
          "metadata": {}
        },
        {
          "output_type": "display_data",
          "data": {
            "text/plain": [
              "special_tokens_map.json:   0%|          | 0.00/574 [00:00<?, ?B/s]"
            ],
            "application/vnd.jupyter.widget-view+json": {
              "version_major": 2,
              "version_minor": 0,
              "model_id": "72b107521a4047bca39965c0c59c65c2"
            }
          },
          "metadata": {}
        },
        {
          "output_type": "display_data",
          "data": {
            "text/plain": [
              "config.json:   0%|          | 0.00/622 [00:00<?, ?B/s]"
            ],
            "application/vnd.jupyter.widget-view+json": {
              "version_major": 2,
              "version_minor": 0,
              "model_id": "4ac7d03e989340c59a5263cfa2c5cdd9"
            }
          },
          "metadata": {}
        },
        {
          "output_type": "display_data",
          "data": {
            "text/plain": [
              "pytorch_model.bin:   0%|          | 0.00/3.14G [00:00<?, ?B/s]"
            ],
            "application/vnd.jupyter.widget-view+json": {
              "version_major": 2,
              "version_minor": 0,
              "model_id": "fab4f288af17447394ebb0622e193d31"
            }
          },
          "metadata": {}
        }
      ],
      "source": [
        "model_name_or_path = \"sberbank-ai/rugpt3large_based_on_gpt2\"\n",
        "tokenizer = GPT2Tokenizer.from_pretrained(model_name_or_path)\n",
        "model = GPT2LMHeadModel.from_pretrained(model_name_or_path)\n"
      ]
    },
    {
      "cell_type": "code",
      "execution_count": null,
      "metadata": {
        "id": "0mhaAqPmcj2m"
      },
      "outputs": [],
      "source": [
        "df=pd.read_csv('/content/data_file.csv')\n",
        "df = df.iloc[1:20]\n",
        "df.to_csv('output_file.csv', index=False)"
      ]
    },
    {
      "cell_type": "code",
      "source": [
        "df"
      ],
      "metadata": {
        "colab": {
          "base_uri": "https://localhost:8080/",
          "height": 488
        },
        "id": "GH1IJWkcSive",
        "outputId": "a8cf0171-2fc5-4150-8494-30da9bdfe2b6"
      },
      "execution_count": null,
      "outputs": [
        {
          "output_type": "execute_result",
          "data": {
            "text/plain": [
              "                                                 Text  Ind\n",
              "1   Проказница-Мартышка,\\nОсёл,\\nКозёл,\\nДа косола...    1\n",
              "2   Уж сколько раз твердили миру,\\nЧто лесть гнусн...    2\n",
              "3   Собака, Лев да Волк с Лисой\\nВ соседстве как-т...    3\n",
              "4   У кухни под окном\\nНа солнышке Полкан с Барбос...    4\n",
              "5   В глуши расцветший Василек\\nВдруг захирел, зав...    5\n",
              "6   Мужик на лето в огород\\nНаняв Осла, приставил\\...    6\n",
              "7   «Соседка, слышала ль ты добрую молву?»\\nВбежав...    7\n",
              "8   «Приятель дорогой, здорово! Где ты был?» —\\n«В...    8\n",
              "9   К Крестьянину на двор\\nЗалез осенней ночью вор...    9\n",
              "10  «Сенюша, знаешь ли, покамест, как баранов,\\nОп...   10\n",
              "11  Из стада серый Волк\\nВ лес овцу затащил, в укр...   11\n",
              "12  Охотно мы дарим,\\nЧто нам не надобно самим.\\nМ...   12\n",
              "13  Лиса, не видя сроду Льва,\\nС ним встретясь, со...   13\n",
              "14  Зимой, ранёхонько, близ жила,\\nЛиса у проруби ...   14"
            ],
            "text/html": [
              "\n",
              "  <div id=\"df-e147f677-1778-445a-a302-923fd9aaedfe\" class=\"colab-df-container\">\n",
              "    <div>\n",
              "<style scoped>\n",
              "    .dataframe tbody tr th:only-of-type {\n",
              "        vertical-align: middle;\n",
              "    }\n",
              "\n",
              "    .dataframe tbody tr th {\n",
              "        vertical-align: top;\n",
              "    }\n",
              "\n",
              "    .dataframe thead th {\n",
              "        text-align: right;\n",
              "    }\n",
              "</style>\n",
              "<table border=\"1\" class=\"dataframe\">\n",
              "  <thead>\n",
              "    <tr style=\"text-align: right;\">\n",
              "      <th></th>\n",
              "      <th>Text</th>\n",
              "      <th>Ind</th>\n",
              "    </tr>\n",
              "  </thead>\n",
              "  <tbody>\n",
              "    <tr>\n",
              "      <th>1</th>\n",
              "      <td>Проказница-Мартышка,\\nОсёл,\\nКозёл,\\nДа косола...</td>\n",
              "      <td>1</td>\n",
              "    </tr>\n",
              "    <tr>\n",
              "      <th>2</th>\n",
              "      <td>Уж сколько раз твердили миру,\\nЧто лесть гнусн...</td>\n",
              "      <td>2</td>\n",
              "    </tr>\n",
              "    <tr>\n",
              "      <th>3</th>\n",
              "      <td>Собака, Лев да Волк с Лисой\\nВ соседстве как-т...</td>\n",
              "      <td>3</td>\n",
              "    </tr>\n",
              "    <tr>\n",
              "      <th>4</th>\n",
              "      <td>У кухни под окном\\nНа солнышке Полкан с Барбос...</td>\n",
              "      <td>4</td>\n",
              "    </tr>\n",
              "    <tr>\n",
              "      <th>5</th>\n",
              "      <td>В глуши расцветший Василек\\nВдруг захирел, зав...</td>\n",
              "      <td>5</td>\n",
              "    </tr>\n",
              "    <tr>\n",
              "      <th>6</th>\n",
              "      <td>Мужик на лето в огород\\nНаняв Осла, приставил\\...</td>\n",
              "      <td>6</td>\n",
              "    </tr>\n",
              "    <tr>\n",
              "      <th>7</th>\n",
              "      <td>«Соседка, слышала ль ты добрую молву?»\\nВбежав...</td>\n",
              "      <td>7</td>\n",
              "    </tr>\n",
              "    <tr>\n",
              "      <th>8</th>\n",
              "      <td>«Приятель дорогой, здорово! Где ты был?» —\\n«В...</td>\n",
              "      <td>8</td>\n",
              "    </tr>\n",
              "    <tr>\n",
              "      <th>9</th>\n",
              "      <td>К Крестьянину на двор\\nЗалез осенней ночью вор...</td>\n",
              "      <td>9</td>\n",
              "    </tr>\n",
              "    <tr>\n",
              "      <th>10</th>\n",
              "      <td>«Сенюша, знаешь ли, покамест, как баранов,\\nОп...</td>\n",
              "      <td>10</td>\n",
              "    </tr>\n",
              "    <tr>\n",
              "      <th>11</th>\n",
              "      <td>Из стада серый Волк\\nВ лес овцу затащил, в укр...</td>\n",
              "      <td>11</td>\n",
              "    </tr>\n",
              "    <tr>\n",
              "      <th>12</th>\n",
              "      <td>Охотно мы дарим,\\nЧто нам не надобно самим.\\nМ...</td>\n",
              "      <td>12</td>\n",
              "    </tr>\n",
              "    <tr>\n",
              "      <th>13</th>\n",
              "      <td>Лиса, не видя сроду Льва,\\nС ним встретясь, со...</td>\n",
              "      <td>13</td>\n",
              "    </tr>\n",
              "    <tr>\n",
              "      <th>14</th>\n",
              "      <td>Зимой, ранёхонько, близ жила,\\nЛиса у проруби ...</td>\n",
              "      <td>14</td>\n",
              "    </tr>\n",
              "  </tbody>\n",
              "</table>\n",
              "</div>\n",
              "    <div class=\"colab-df-buttons\">\n",
              "\n",
              "  <div class=\"colab-df-container\">\n",
              "    <button class=\"colab-df-convert\" onclick=\"convertToInteractive('df-e147f677-1778-445a-a302-923fd9aaedfe')\"\n",
              "            title=\"Convert this dataframe to an interactive table.\"\n",
              "            style=\"display:none;\">\n",
              "\n",
              "  <svg xmlns=\"http://www.w3.org/2000/svg\" height=\"24px\" viewBox=\"0 -960 960 960\">\n",
              "    <path d=\"M120-120v-720h720v720H120Zm60-500h600v-160H180v160Zm220 220h160v-160H400v160Zm0 220h160v-160H400v160ZM180-400h160v-160H180v160Zm440 0h160v-160H620v160ZM180-180h160v-160H180v160Zm440 0h160v-160H620v160Z\"/>\n",
              "  </svg>\n",
              "    </button>\n",
              "\n",
              "  <style>\n",
              "    .colab-df-container {\n",
              "      display:flex;\n",
              "      gap: 12px;\n",
              "    }\n",
              "\n",
              "    .colab-df-convert {\n",
              "      background-color: #E8F0FE;\n",
              "      border: none;\n",
              "      border-radius: 50%;\n",
              "      cursor: pointer;\n",
              "      display: none;\n",
              "      fill: #1967D2;\n",
              "      height: 32px;\n",
              "      padding: 0 0 0 0;\n",
              "      width: 32px;\n",
              "    }\n",
              "\n",
              "    .colab-df-convert:hover {\n",
              "      background-color: #E2EBFA;\n",
              "      box-shadow: 0px 1px 2px rgba(60, 64, 67, 0.3), 0px 1px 3px 1px rgba(60, 64, 67, 0.15);\n",
              "      fill: #174EA6;\n",
              "    }\n",
              "\n",
              "    .colab-df-buttons div {\n",
              "      margin-bottom: 4px;\n",
              "    }\n",
              "\n",
              "    [theme=dark] .colab-df-convert {\n",
              "      background-color: #3B4455;\n",
              "      fill: #D2E3FC;\n",
              "    }\n",
              "\n",
              "    [theme=dark] .colab-df-convert:hover {\n",
              "      background-color: #434B5C;\n",
              "      box-shadow: 0px 1px 3px 1px rgba(0, 0, 0, 0.15);\n",
              "      filter: drop-shadow(0px 1px 2px rgba(0, 0, 0, 0.3));\n",
              "      fill: #FFFFFF;\n",
              "    }\n",
              "  </style>\n",
              "\n",
              "    <script>\n",
              "      const buttonEl =\n",
              "        document.querySelector('#df-e147f677-1778-445a-a302-923fd9aaedfe button.colab-df-convert');\n",
              "      buttonEl.style.display =\n",
              "        google.colab.kernel.accessAllowed ? 'block' : 'none';\n",
              "\n",
              "      async function convertToInteractive(key) {\n",
              "        const element = document.querySelector('#df-e147f677-1778-445a-a302-923fd9aaedfe');\n",
              "        const dataTable =\n",
              "          await google.colab.kernel.invokeFunction('convertToInteractive',\n",
              "                                                    [key], {});\n",
              "        if (!dataTable) return;\n",
              "\n",
              "        const docLinkHtml = 'Like what you see? Visit the ' +\n",
              "          '<a target=\"_blank\" href=https://colab.research.google.com/notebooks/data_table.ipynb>data table notebook</a>'\n",
              "          + ' to learn more about interactive tables.';\n",
              "        element.innerHTML = '';\n",
              "        dataTable['output_type'] = 'display_data';\n",
              "        await google.colab.output.renderOutput(dataTable, element);\n",
              "        const docLink = document.createElement('div');\n",
              "        docLink.innerHTML = docLinkHtml;\n",
              "        element.appendChild(docLink);\n",
              "      }\n",
              "    </script>\n",
              "  </div>\n",
              "\n",
              "\n",
              "<div id=\"df-70b733ca-1d65-423c-acaa-361a6c053a80\">\n",
              "  <button class=\"colab-df-quickchart\" onclick=\"quickchart('df-70b733ca-1d65-423c-acaa-361a6c053a80')\"\n",
              "            title=\"Suggest charts\"\n",
              "            style=\"display:none;\">\n",
              "\n",
              "<svg xmlns=\"http://www.w3.org/2000/svg\" height=\"24px\"viewBox=\"0 0 24 24\"\n",
              "     width=\"24px\">\n",
              "    <g>\n",
              "        <path d=\"M19 3H5c-1.1 0-2 .9-2 2v14c0 1.1.9 2 2 2h14c1.1 0 2-.9 2-2V5c0-1.1-.9-2-2-2zM9 17H7v-7h2v7zm4 0h-2V7h2v10zm4 0h-2v-4h2v4z\"/>\n",
              "    </g>\n",
              "</svg>\n",
              "  </button>\n",
              "\n",
              "<style>\n",
              "  .colab-df-quickchart {\n",
              "      --bg-color: #E8F0FE;\n",
              "      --fill-color: #1967D2;\n",
              "      --hover-bg-color: #E2EBFA;\n",
              "      --hover-fill-color: #174EA6;\n",
              "      --disabled-fill-color: #AAA;\n",
              "      --disabled-bg-color: #DDD;\n",
              "  }\n",
              "\n",
              "  [theme=dark] .colab-df-quickchart {\n",
              "      --bg-color: #3B4455;\n",
              "      --fill-color: #D2E3FC;\n",
              "      --hover-bg-color: #434B5C;\n",
              "      --hover-fill-color: #FFFFFF;\n",
              "      --disabled-bg-color: #3B4455;\n",
              "      --disabled-fill-color: #666;\n",
              "  }\n",
              "\n",
              "  .colab-df-quickchart {\n",
              "    background-color: var(--bg-color);\n",
              "    border: none;\n",
              "    border-radius: 50%;\n",
              "    cursor: pointer;\n",
              "    display: none;\n",
              "    fill: var(--fill-color);\n",
              "    height: 32px;\n",
              "    padding: 0;\n",
              "    width: 32px;\n",
              "  }\n",
              "\n",
              "  .colab-df-quickchart:hover {\n",
              "    background-color: var(--hover-bg-color);\n",
              "    box-shadow: 0 1px 2px rgba(60, 64, 67, 0.3), 0 1px 3px 1px rgba(60, 64, 67, 0.15);\n",
              "    fill: var(--button-hover-fill-color);\n",
              "  }\n",
              "\n",
              "  .colab-df-quickchart-complete:disabled,\n",
              "  .colab-df-quickchart-complete:disabled:hover {\n",
              "    background-color: var(--disabled-bg-color);\n",
              "    fill: var(--disabled-fill-color);\n",
              "    box-shadow: none;\n",
              "  }\n",
              "\n",
              "  .colab-df-spinner {\n",
              "    border: 2px solid var(--fill-color);\n",
              "    border-color: transparent;\n",
              "    border-bottom-color: var(--fill-color);\n",
              "    animation:\n",
              "      spin 1s steps(1) infinite;\n",
              "  }\n",
              "\n",
              "  @keyframes spin {\n",
              "    0% {\n",
              "      border-color: transparent;\n",
              "      border-bottom-color: var(--fill-color);\n",
              "      border-left-color: var(--fill-color);\n",
              "    }\n",
              "    20% {\n",
              "      border-color: transparent;\n",
              "      border-left-color: var(--fill-color);\n",
              "      border-top-color: var(--fill-color);\n",
              "    }\n",
              "    30% {\n",
              "      border-color: transparent;\n",
              "      border-left-color: var(--fill-color);\n",
              "      border-top-color: var(--fill-color);\n",
              "      border-right-color: var(--fill-color);\n",
              "    }\n",
              "    40% {\n",
              "      border-color: transparent;\n",
              "      border-right-color: var(--fill-color);\n",
              "      border-top-color: var(--fill-color);\n",
              "    }\n",
              "    60% {\n",
              "      border-color: transparent;\n",
              "      border-right-color: var(--fill-color);\n",
              "    }\n",
              "    80% {\n",
              "      border-color: transparent;\n",
              "      border-right-color: var(--fill-color);\n",
              "      border-bottom-color: var(--fill-color);\n",
              "    }\n",
              "    90% {\n",
              "      border-color: transparent;\n",
              "      border-bottom-color: var(--fill-color);\n",
              "    }\n",
              "  }\n",
              "</style>\n",
              "\n",
              "  <script>\n",
              "    async function quickchart(key) {\n",
              "      const quickchartButtonEl =\n",
              "        document.querySelector('#' + key + ' button');\n",
              "      quickchartButtonEl.disabled = true;  // To prevent multiple clicks.\n",
              "      quickchartButtonEl.classList.add('colab-df-spinner');\n",
              "      try {\n",
              "        const charts = await google.colab.kernel.invokeFunction(\n",
              "            'suggestCharts', [key], {});\n",
              "      } catch (error) {\n",
              "        console.error('Error during call to suggestCharts:', error);\n",
              "      }\n",
              "      quickchartButtonEl.classList.remove('colab-df-spinner');\n",
              "      quickchartButtonEl.classList.add('colab-df-quickchart-complete');\n",
              "    }\n",
              "    (() => {\n",
              "      let quickchartButtonEl =\n",
              "        document.querySelector('#df-70b733ca-1d65-423c-acaa-361a6c053a80 button');\n",
              "      quickchartButtonEl.style.display =\n",
              "        google.colab.kernel.accessAllowed ? 'block' : 'none';\n",
              "    })();\n",
              "  </script>\n",
              "</div>\n",
              "    </div>\n",
              "  </div>\n"
            ],
            "application/vnd.google.colaboratory.intrinsic+json": {
              "type": "dataframe",
              "variable_name": "df",
              "summary": "{\n  \"name\": \"df\",\n  \"rows\": 14,\n  \"fields\": [\n    {\n      \"column\": \"Text\",\n      \"properties\": {\n        \"dtype\": \"string\",\n        \"num_unique_values\": 14,\n        \"samples\": [\n          \"\\u00ab\\u0421\\u0435\\u043d\\u044e\\u0448\\u0430, \\u0437\\u043d\\u0430\\u0435\\u0448\\u044c \\u043b\\u0438, \\u043f\\u043e\\u043a\\u0430\\u043c\\u0435\\u0441\\u0442, \\u043a\\u0430\\u043a \\u0431\\u0430\\u0440\\u0430\\u043d\\u043e\\u0432,\\n\\u041e\\u043f\\u044f\\u0442\\u044c \\u043d\\u0430\\u0441 \\u043d\\u0435 \\u043f\\u043e\\u0433\\u043d\\u0430\\u043b\\u0438 \\u0432 \\u043a\\u043b\\u0430\\u0441\\u0441,\\n\\u041f\\u043e\\u0439\\u0434\\u0435\\u043c-\\u043a\\u0430 \\u0434\\u0430 \\u043d\\u0430\\u0440\\u0432\\u0435\\u043c \\u0432 \\u0441\\u0430\\u0434\\u0443 \\u0441\\u0435\\u0431\\u0435 \\u043a\\u0430\\u0448\\u0442\\u0430\\u043d\\u043e\\u0432!\\u00bb \\u2014\\n\\u00ab\\u041d\\u0435\\u0442, \\u0424\\u0435\\u0434\\u044f, \\u0442\\u0435 \\u043a\\u0430\\u0448\\u0442\\u0430\\u043d\\u044b \\u043d\\u0435 \\u043f\\u0440\\u043e \\u043d\\u0430\\u0441!\\n\\u0422\\u044b \\u0437\\u043d\\u0430\\u0435\\u0448\\u044c \\u0432\\u0435\\u0434\\u044c, \\u043a\\u0430\\u043a \\u0434\\u0435\\u0440\\u0435\\u0432\\u043e \\u0432\\u044b\\u0441\\u043e\\u043a\\u043e:\\n\\u0422\\u0435\\u0431\\u0435, \\u043d\\u0438 \\u043c\\u043d\\u0435 \\u0442\\u0443\\u0434\\u0430 \\u043d\\u0435 \\u0432\\u043b\\u0435\\u0437\\u0442\\u044c,\\n\\u0418 \\u043d\\u0430\\u043c \\u043a\\u0430\\u0448\\u0442\\u0430\\u043d\\u043e\\u0432 \\u0442\\u0435\\u0445 \\u043d\\u0435 \\u0435\\u0441\\u0442\\u044c!\\u00bb \\u2014\\n\\u00ab\\u0418, \\u043c\\u0438\\u043b\\u044b\\u0439, \\u0434\\u0430 \\u043d\\u0430 \\u0447\\u0442\\u043e \\u0436 \\u0434\\u043e\\u0433\\u0430\\u0434\\u043a\\u0430!\\n\\u0413\\u0434\\u0435 \\u0441\\u0438\\u043b\\u043e\\u0439 \\u0432\\u0437\\u044f\\u0442\\u044c \\u043d\\u0435\\u043b\\u044c\\u0437\\u044f, \\u0442\\u0430\\u043c \\u043d\\u0430\\u0434\\u043e\\u0431\\u043d\\u0430 \\u0443\\u0445\\u0432\\u0430\\u0442\\u043a\\u0430.\\n\\u042f \\u0432\\u0441\\u0451 \\u043f\\u0440\\u0438\\u0434\\u0443\\u043c\\u0430\\u043b: \\u043f\\u043e\\u0433\\u043e\\u0434\\u0438!\\n\\u041d\\u0430 \\u0431\\u043b\\u0438\\u0436\\u043d\\u0438\\u0439 \\u0441\\u0443\\u043a \\u043c\\u0435\\u043d\\u044f \\u043b\\u0438\\u0448\\u044c \\u043f\\u043e\\u0434\\u0441\\u0430\\u0434\\u0438.\\n\\u0410 \\u0442\\u0430\\u043c \\u043c\\u044b \\u0441\\u0430\\u043c\\u0438 \\u0443\\u043c\\u0443\\u0434\\u0440\\u0438\\u043c\\u0441\\u044f \\u2014\\n\\u0418 \\u0434\\u043e\\u0441\\u044b\\u0442\\u0430 \\u043a\\u0430\\u0448\\u0442\\u0430\\u043d\\u043e\\u0432 \\u043d\\u0430\\u0435\\u0434\\u0438\\u043c\\u0441\\u044f\\u00bb.\\n\\u0412\\u043e\\u0442 \\u043a \\u0434\\u0435\\u0440\\u0435\\u0432\\u0443 \\u0434\\u0440\\u0443\\u0437\\u044c\\u044f \\u0441\\u043e \\u0432\\u0441\\u0435\\u0445 \\u043d\\u0435\\u0441\\u0443\\u0442\\u0441\\u044f \\u043d\\u043e\\u0433.\\n\\u0422\\u0443\\u0442 \\u0421\\u0435\\u043d\\u044f \\u043f\\u043e\\u043c\\u043e\\u0433\\u0430\\u0442\\u044c \\u0442\\u043e\\u0432\\u0430\\u0440\\u0438\\u0449\\u0443 \\u043f\\u0440\\u0438\\u043d\\u044f\\u043b\\u0441\\u044f,\\n\\u041f\\u044b\\u0445\\u0442\\u0435\\u043b, \\u0432\\u0435\\u0441\\u044c \\u043f\\u043e\\u0442\\u043e\\u043c \\u043e\\u0431\\u043b\\u0438\\u0432\\u0430\\u043b\\u0441\\u044f,\\n\\u0418 \\u0424\\u0435\\u0434\\u0435, \\u043d\\u0430\\u043a\\u043e\\u043d\\u0435\\u0446, \\u0432\\u0441\\u043a\\u0430\\u0440\\u0430\\u0431\\u043a\\u0430\\u0442\\u044c\\u0441\\u044f \\u043f\\u043e\\u043c\\u043e\\u0433.\\n\\n\\u0412\\u0437\\u043e\\u0431\\u0440\\u0430\\u043b\\u0441\\u044f \\u0424\\u0435\\u0434\\u044f \\u043d\\u0430 \\u043f\\u0440\\u0438\\u0432\\u043e\\u043b\\u044c\\u0435:\\n\\u041a\\u0430\\u043a \\u043c\\u044b\\u0448\\u043a\\u0435 \\u0432 \\u0437\\u0430\\u043a\\u0440\\u043e\\u043c\\u0435, \\u0432\\u0432\\u0435\\u0440\\u0445\\u0443 \\u0435\\u043c\\u0443 \\u0440\\u0430\\u0437\\u0434\\u043e\\u043b\\u044c\\u0435!\\n\\u041a\\u0430\\u0448\\u0442\\u0430\\u043d\\u043e\\u0432 \\u0442\\u0430\\u043c \\u043d\\u0435 \\u0442\\u043e\\u043b\\u044c\\u043a\\u043e \\u0432\\u0441\\u0435\\u0445 \\u043d\\u0435 \\u0441\\u044a\\u0435\\u0441\\u0442\\u044c, \\u2014\\n\\u041d\\u0435 \\u043f\\u0435\\u0440\\u0435\\u0447\\u0435\\u0441\\u0442\\u044c!\\n\\u041d\\u0430\\u0439\\u0434\\u0435\\u0442\\u0441\\u044f \\u0447\\u0435\\u043c \\u0438 \\u043f\\u043e\\u0436\\u0438\\u0432\\u0438\\u0442\\u044c\\u0441\\u044f,\\n\\u0418 \\u0441 \\u0434\\u0440\\u0443\\u0433\\u043e\\u043c \\u043f\\u043e\\u0434\\u0435\\u043b\\u0438\\u0442\\u044c\\u0441\\u044f.\\n\\u0427\\u0442\\u043e \\u0436! \\u0421\\u0435\\u043d\\u0435 \\u043e\\u0442 \\u0442\\u043e\\u0433\\u043e \\u043f\\u0440\\u0438\\u0431\\u044b\\u0442\\u043e\\u043a \\u0432\\u044b\\u0448\\u0435\\u043b \\u043c\\u0430\\u043b:\\n\\u041e\\u043d, \\u0431\\u0435\\u0434\\u043d\\u044b\\u0439, \\u043d\\u0430 \\u043d\\u0438\\u0437\\u0443 \\u043e\\u0431\\u043b\\u0438\\u0437\\u044b\\u0432\\u0430\\u043b \\u043b\\u0438\\u0448\\u044c \\u0433\\u0443\\u0431\\u043a\\u0438;\\n\\u0424\\u0435\\u0434\\u044e\\u0448\\u0430 \\u0441\\u0430\\u043c \\u0432\\u0432\\u0435\\u0440\\u0445\\u0443 \\u043a\\u0430\\u0448\\u0442\\u0430\\u043d\\u044b \\u0443\\u0431\\u0438\\u0440\\u0430\\u043b,\\n\\u0410 \\u0434\\u0440\\u0443\\u0433\\u0443 \\u0441 \\u0434\\u0435\\u0440\\u0435\\u0432\\u0430 \\u0431\\u0440\\u043e\\u0441\\u0430\\u043b \\u043e\\u0434\\u043d\\u0438 \\u0441\\u043a\\u043e\\u0440\\u043b\\u0443\\u043f\\u043a\\u0438.\\n\\n\\u0412\\u0438\\u0434\\u0430\\u043b \\u0424\\u0435\\u0434\\u044e\\u0448 \\u043d\\u0430 \\u0441\\u0432\\u0435\\u0442\\u0435 \\u044f, \\u2014\\n\\u041a\\u043e\\u0442\\u043e\\u0440\\u044b\\u043c \\u0438\\u0445 \\u0434\\u0440\\u0443\\u0437\\u044c\\u044f\\n\\u0412\\u0441\\u043a\\u0430\\u0440\\u0430\\u0431\\u043a\\u0430\\u0442\\u044c\\u0441\\u044f \\u043d\\u0430\\u0432\\u0435\\u0440\\u0445 \\u0443\\u0441\\u0435\\u0440\\u0434\\u043d\\u043e \\u043f\\u043e\\u043c\\u043e\\u0433\\u0430\\u043b\\u0438,\\n\\u0410 \\u043f\\u043e\\u0441\\u043b\\u0435 \\u0443\\u0436 \\u043e\\u0442 \\u043d\\u0438\\u0445 \\u2014 \\u0441\\u043a\\u043e\\u0440\\u043b\\u0443\\u043f\\u043a\\u0438 \\u043d\\u0435 \\u0432\\u0438\\u0434\\u0430\\u043b\\u0438!\",\n          \"\\u041e\\u0445\\u043e\\u0442\\u043d\\u043e \\u043c\\u044b \\u0434\\u0430\\u0440\\u0438\\u043c,\\n\\u0427\\u0442\\u043e \\u043d\\u0430\\u043c \\u043d\\u0435 \\u043d\\u0430\\u0434\\u043e\\u0431\\u043d\\u043e \\u0441\\u0430\\u043c\\u0438\\u043c.\\n\\u041c\\u044b \\u044d\\u0442\\u043e \\u0431\\u0430\\u0441\\u043d\\u0435\\u0439 \\u043f\\u043e\\u044f\\u0441\\u043d\\u0438\\u043c,\\n\\u0417\\u0430\\u0442\\u0435\\u043c, \\u0447\\u0442\\u043e \\u0438\\u0441\\u0442\\u0438\\u043d\\u0430 \\u0441\\u043d\\u043e\\u0441\\u043d\\u0435\\u0435 \\u0432\\u043f\\u043e\\u043b\\u043e\\u0442\\u043a\\u0440\\u044b\\u0442\\u0430.\\n\\n\\u041b\\u0438\\u0441\\u0430, \\u043a\\u0443\\u0440\\u044f\\u0442\\u0438\\u043d\\u043a\\u0438 \\u043d\\u0430\\u043a\\u0443\\u0448\\u0430\\u0432\\u0448\\u0438\\u0441\\u044c \\u0434\\u043e\\u0441\\u044b\\u0442\\u0430,\\n\\u0418 \\u0434\\u043e\\u0431\\u0440\\u044b\\u0439 \\u0432\\u043e\\u0440\\u043e\\u0448\\u043e\\u043a \\u043f\\u0440\\u0438\\u043f\\u0440\\u044f\\u0442\\u0430\\u0432\\u0448\\u0438 \\u0432 \\u0437\\u0430\\u043f\\u0430\\u0441,\\n\\u041f\\u043e\\u0434 \\u0441\\u0442\\u043e\\u0433\\u043e\\u043c \\u043f\\u0440\\u0438\\u043b\\u0435\\u0433\\u043b\\u0430 \\u0432\\u0437\\u0434\\u0440\\u0435\\u043c\\u043d\\u0443\\u0442\\u044c \\u0432 \\u0432\\u0435\\u0447\\u0435\\u0440\\u043d\\u0438\\u0439 \\u0447\\u0430\\u0441.\\n\\u0413\\u043b\\u044f\\u0434\\u0438\\u0442, \\u0430 \\u0432 \\u0433\\u043e\\u0441\\u0442\\u0438 \\u043a \\u043d\\u0435\\u0439 \\u0433\\u043e\\u043b\\u043e\\u0434\\u043d\\u044b\\u0439 \\u0412\\u043e\\u043b\\u043a \\u0442\\u0430\\u0449\\u0438\\u0442\\u0441\\u044f.\\n\\u00ab\\u0427\\u0442\\u043e, \\u043a\\u0443\\u043c\\u0443\\u0448\\u043a\\u0430, \\u0431\\u0435\\u0434\\u044b!\\u00bb \\u043e\\u043d \\u0433\\u043e\\u0432\\u043e\\u0440\\u0438\\u0442:\\n\\u00ab\\u041d\\u0438 \\u043a\\u043e\\u0441\\u0442\\u043e\\u0447\\u043a\\u043e\\u0439 \\u043d\\u0435 \\u043c\\u043e\\u0433 \\u043d\\u0438\\u0433\\u0434\\u0435 \\u044f \\u043f\\u043e\\u0436\\u0438\\u0432\\u0438\\u0442\\u044c\\u0441\\u044f;\\n\\u041c\\u0435\\u043d\\u044f \\u0442\\u0430\\u043a \\u0433\\u043e\\u043b\\u043e\\u0434 \\u0438 \\u043c\\u043e\\u0440\\u0438\\u0442;\\n\\u0421\\u043e\\u0431\\u0430\\u043a\\u0438 \\u0437\\u043b\\u044b, \\u043f\\u0430\\u0441\\u0442\\u0443\\u0445 \\u043d\\u0435 \\u0441\\u043f\\u0438\\u0442,\\n\\u041f\\u0440\\u0438\\u0448\\u043b\\u043e \\u0445\\u043e\\u0442\\u044c \\u0443\\u0434\\u0430\\u0432\\u0438\\u0442\\u044c\\u0441\\u044f!\\u00bb \\n\\u2014 \\u00ab\\u041d\\u0435\\u0443\\u0436\\u0442\\u043e?\\u00bb \\n\\u2014 \\u00ab\\u041f\\u0440\\u0430\\u0432\\u043e \\u0442\\u0430\\u043a\\u00bb.\\n\\u2014 \\u00ab\\u0411\\u0435\\u0434\\u043d\\u044f\\u0436\\u043a\\u0430-\\u043a\\u0443\\u043c\\u0430\\u043d\\u0435\\u043a!\\n\\u0414\\u0430 \\u043d\\u0435 \\u0438\\u0437\\u0432\\u043e\\u043b\\u0438\\u0448\\u044c \\u043b\\u0438 \\u0441\\u0435\\u043d\\u0446\\u0430? \\u0412\\u043e\\u0442 \\u0446\\u0435\\u043b\\u044b\\u0439 \\u0441\\u0442\\u043e\\u0433:\\n\\u042f \\u043a\\u0443\\u043c\\u0443 \\u0443\\u0441\\u043b\\u0443\\u0436\\u0438\\u0442\\u044c \\u0433\\u043e\\u0442\\u043e\\u0432\\u0430\\u00bb.\\n\\u0410 \\u043a\\u0443\\u043c\\u0443 \\u043d\\u0435 \\u0441\\u0435\\u043d\\u0446\\u0430, \\u0445\\u043e\\u0442\\u0435\\u043b\\u043e\\u0441\\u044c \\u0431\\u044b \\u043c\\u044f\\u0441\\u043d\\u043e\\u0432\\u0430 \\u2014\\n\\u0414\\u0430 \\u043f\\u0440\\u043e \\u0437\\u0430\\u043f\\u0430\\u0441 \\u041b\\u0438\\u0441\\u0430 \\u043d\\u0438 \\u0441\\u043b\\u043e\\u0432\\u0430.\\n\\u0418 \\u0441\\u0435\\u0440\\u044b\\u0439 \\u0440\\u044b\\u0446\\u0430\\u0440\\u044c \\u043c\\u043e\\u0439,\\n\\u041e\\u0431\\u043b\\u0430\\u0441\\u043a\\u0430\\u043d \\u043f\\u043e \\u0443\\u0448\\u0438 \\u043a\\u0443\\u043c\\u043e\\u0439,\\n\\u041f\\u043e\\u0448\\u0435\\u043b \\u0431\\u0435\\u0437 \\u0443\\u0436\\u0438\\u043d\\u0430 \\u0434\\u043e\\u043c\\u043e\\u0439.\",\n          \"\\u041f\\u0440\\u043e\\u043a\\u0430\\u0437\\u043d\\u0438\\u0446\\u0430-\\u041c\\u0430\\u0440\\u0442\\u044b\\u0448\\u043a\\u0430,\\n\\u041e\\u0441\\u0451\\u043b,\\n\\u041a\\u043e\\u0437\\u0451\\u043b,\\n\\u0414\\u0430 \\u043a\\u043e\\u0441\\u043e\\u043b\\u0430\\u043f\\u044b\\u0439 \\u041c\\u0438\\u0448\\u043a\\u0430\\n\\u0417\\u0430\\u0442\\u0435\\u044f\\u043b\\u0438 \\u0441\\u044b\\u0433\\u0440\\u0430\\u0442\\u044c \\u041a\\u0432\\u0430\\u0440\\u0442\\u0435\\u0442.\\n\\u0414\\u043e\\u0441\\u0442\\u0430\\u043b\\u0438 \\u043d\\u043e\\u0442, \\u0431\\u0430\\u0441\\u0430, \\u0430\\u043b\\u044c\\u0442\\u0430, \\u0434\\u0432\\u0435 \\u0441\\u043a\\u0440\\u0438\\u043f\\u043a\\u0438\\n\\u0418 \\u0441\\u0435\\u043b\\u0438 \\u043d\\u0430 \\u043b\\u0443\\u0436\\u043e\\u043a \\u043f\\u043e\\u0434 \\u043b\\u0438\\u043f\\u043a\\u0438, \\u2014\\n\\u041f\\u043b\\u0435\\u043d\\u044f\\u0442\\u044c \\u0441\\u0432\\u043e\\u0438\\u043c \\u0438\\u0441\\u043a\\u0443\\u0441\\u0441\\u0442\\u0432\\u043e\\u043c \\u0441\\u0432\\u0435\\u0442.\\n\\u0423\\u0434\\u0430\\u0440\\u0438\\u043b\\u0438 \\u0432 \\u0441\\u043c\\u044b\\u0447\\u043a\\u0438, \\u0434\\u0435\\u0440\\u0443\\u0442, \\u0430 \\u0442\\u043e\\u043b\\u043a\\u0443 \\u043d\\u0435\\u0442.\\n\\u00ab\\u0421\\u0442\\u043e\\u0439, \\u0431\\u0440\\u0430\\u0442\\u0446\\u044b, \\u0441\\u0442\\u043e\\u0439! \\u2014 \\u043a\\u0440\\u0438\\u0447\\u0438\\u0442 \\u041c\\u0430\\u0440\\u0442\\u044b\\u0448\\u043a\\u0430. \\u2014 \\u041f\\u043e\\u0433\\u043e\\u0434\\u0438\\u0442\\u0435!\\n\\u041a\\u0430\\u043a \\u043c\\u0443\\u0437\\u044b\\u043a\\u0435 \\u0438\\u0434\\u0442\\u0438? \\u0412\\u0435\\u0434\\u044c \\u0432\\u044b \\u043d\\u0435 \\u0442\\u0430\\u043a \\u0441\\u0438\\u0434\\u0438\\u0442\\u0435.\\n\\u0422\\u044b \\u0441 \\u0431\\u0430\\u0441\\u043e\\u043c, \\u041c\\u0438\\u0448\\u0435\\u043d\\u044c\\u043a\\u0430, \\u0441\\u0430\\u0434\\u0438\\u0441\\u044c \\u043f\\u0440\\u043e\\u0442\\u0438\\u0432 \\u0430\\u043b\\u044c\\u0442\\u0430,\\n\\u042f, \\u043f\\u0440\\u0438\\u043c\\u0430, \\u0441\\u044f\\u0434\\u0443 \\u043f\\u0440\\u043e\\u0442\\u0438\\u0432 \\u0432\\u0442\\u043e\\u0440\\u044b;\\n\\u0422\\u043e\\u0433\\u0434\\u0430 \\u043f\\u043e\\u0439\\u0434\\u0435\\u0442 \\u0443\\u0436 \\u043c\\u0443\\u0437\\u044b\\u043a\\u0430 \\u043d\\u0435 \\u0442\\u0430:\\n\\u0423 \\u043d\\u0430\\u0441 \\u0437\\u0430\\u043f\\u043b\\u044f\\u0448\\u0443\\u0442 \\u043b\\u0435\\u0441 \\u0438 \\u0433\\u043e\\u0440\\u044b!\\u00bb\\n\\u0420\\u0430\\u0441\\u0441\\u0435\\u043b\\u0438\\u0441\\u044c, \\u043d\\u0430\\u0447\\u0430\\u043b\\u0438 \\u041a\\u0432\\u0430\\u0440\\u0442\\u0435\\u0442;\\n\\u041e\\u043d \\u0432\\u0441\\u0435-\\u0442\\u0430\\u043a\\u0438 \\u043d\\u0430 \\u043b\\u0430\\u0434 \\u043d\\u0435\\u0439\\u0434\\u0435\\u0442.\\n\\u00ab\\u041f\\u043e\\u0441\\u0442\\u043e\\u0439\\u0442\\u0435 \\u0436, \\u044f \\u0441\\u044b\\u0441\\u043a\\u0430\\u043b \\u0441\\u0435\\u043a\\u0440\\u0435\\u0442! \\u2014\\n\\u041a\\u0440\\u0438\\u0447\\u0438\\u0442 \\u041e\\u0441\\u0451\\u043b, \\u2014 \\u043c\\u044b, \\u0432\\u0435\\u0440\\u043d\\u043e, \\u0443\\u0436 \\u043f\\u043e\\u043b\\u0430\\u0434\\u0438\\u043c,\\n\\u041a\\u043e\\u043b\\u044c \\u0440\\u044f\\u0434\\u043e\\u043c \\u0441\\u044f\\u0434\\u0435\\u043c\\u00bb.\\n\\u041f\\u043e\\u0441\\u043b\\u0443\\u0448\\u0430\\u043b\\u0438\\u0441\\u044c \\u041e\\u0441\\u043b\\u0430: \\u0443\\u0441\\u0435\\u043b\\u0438\\u0441\\u044c \\u0447\\u0438\\u043d\\u043d\\u043e \\u0432 \\u0440\\u044f\\u0434;\\n\\u0410 \\u0432\\u0441\\u0451-\\u0442\\u0430\\u043a\\u0438 \\u041a\\u0432\\u0430\\u0440\\u0442\\u0435\\u0442 \\u043d\\u0435\\u0439\\u0434\\u0435\\u0442 \\u043d\\u0430 \\u043b\\u0430\\u0434.\\n\\u0412\\u043e\\u0442 \\u043f\\u0443\\u0449\\u0435 \\u043f\\u0440\\u0435\\u0436\\u043d\\u0435\\u0433\\u043e \\u043f\\u043e\\u0448\\u043b\\u0438 \\u0443 \\u043d\\u0438\\u0445 \\u0440\\u0430\\u0437\\u0431\\u043e\\u0440\\u044b\\n\\u0418 \\u0441\\u043f\\u043e\\u0440\\u044b,\\n\\u041a\\u043e\\u043c\\u0443 \\u0438 \\u043a\\u0430\\u043a \\u0441\\u0438\\u0434\\u0435\\u0442\\u044c.\\n\\u0421\\u043b\\u0443\\u0447\\u0438\\u043b\\u043e\\u0441\\u044c \\u0421\\u043e\\u043b\\u043e\\u0432\\u044c\\u044e \\u043d\\u0430 \\u0448\\u0443\\u043c \\u0438\\u0445 \\u043f\\u0440\\u0438\\u043b\\u0435\\u0442\\u0435\\u0442\\u044c.\\n\\u0422\\u0443\\u0442 \\u0441 \\u043f\\u0440\\u043e\\u0441\\u044c\\u0431\\u043e\\u0439 \\u0432\\u0441\\u0435 \\u043a \\u043d\\u0435\\u043c\\u0443, \\u0447\\u0442\\u043e\\u0431 \\u0438\\u0445 \\u0440\\u0435\\u0448\\u0438\\u0442\\u044c \\u0441\\u043e\\u043c\\u043d\\u0435\\u043d\\u044c\\u0435.\\n\\u00ab\\u041f\\u043e\\u0436\\u0430\\u043b\\u0443\\u0439, \\u2014 \\u0433\\u043e\\u0432\\u043e\\u0440\\u044f\\u0442, \\u2014 \\u0432\\u043e\\u0437\\u044c\\u043c\\u0438 \\u043d\\u0430 \\u0447\\u0430\\u0441 \\u0442\\u0435\\u0440\\u043f\\u0435\\u043d\\u044c\\u0435,\\n\\u0427\\u0442\\u043e\\u0431\\u044b \\u041a\\u0432\\u0430\\u0440\\u0442\\u0435\\u0442 \\u0432 \\u043f\\u043e\\u0440\\u044f\\u0434\\u043e\\u043a \\u043d\\u0430\\u0448 \\u043f\\u0440\\u0438\\u0432\\u0435\\u0441\\u0442\\u044c:\\n\\u0418 \\u043d\\u043e\\u0442\\u044b \\u0435\\u0441\\u0442\\u044c \\u0443 \\u043d\\u0430\\u0441, \\u0438 \\u0438\\u043d\\u0441\\u0442\\u0440\\u0443\\u043c\\u0435\\u043d\\u0442\\u044b \\u0435\\u0441\\u0442\\u044c,\\n\\u0421\\u043a\\u0430\\u0436\\u0438 \\u043b\\u0438\\u0448\\u044c \\u043d\\u0430\\u043c \\u043a\\u0430\\u043a \\u0441\\u0435\\u0441\\u0442\\u044c!\\u00bb \\u2014\\n\\u00ab\\u0427\\u0442\\u043e\\u0431 \\u043c\\u0443\\u0437\\u044b\\u043a\\u0430\\u043d\\u0442\\u043e\\u043c \\u0431\\u044b\\u0442\\u044c, \\u0442\\u0430\\u043a \\u043d\\u0430\\u0434\\u043e\\u0431\\u043d\\u043e \\u0443\\u043c\\u0435\\u043d\\u044c\\u0435\\n\\u0418 \\u0443\\u0448\\u0438 \\u0432\\u0430\\u0448\\u0438\\u0445 \\u043f\\u043e\\u043d\\u0435\\u0436\\u043d\\u0435\\u0439, \\u2014\\n\\u0418\\u043c \\u043e\\u0442\\u0432\\u0435\\u0447\\u0430\\u0435\\u0442 \\u0421\\u043e\\u043b\\u043e\\u0432\\u0435\\u0439, \\u2014\\n\\u0410 \\u0432\\u044b, \\u0434\\u0440\\u0443\\u0437\\u044c\\u044f, \\u043a\\u0430\\u043a \\u043d\\u0438 \\u0441\\u0430\\u0434\\u0438\\u0442\\u0435\\u0441\\u044c,\\n\\u0412\\u0441\\u0451 \\u0432 \\u043c\\u0443\\u0437\\u044b\\u043a\\u0430\\u043d\\u0442\\u044b \\u043d\\u0435 \\u0433\\u043e\\u0434\\u0438\\u0442\\u0435\\u0441\\u044c\"\n        ],\n        \"semantic_type\": \"\",\n        \"description\": \"\"\n      }\n    },\n    {\n      \"column\": \"Ind\",\n      \"properties\": {\n        \"dtype\": \"number\",\n        \"std\": 4,\n        \"min\": 1,\n        \"max\": 14,\n        \"num_unique_values\": 14,\n        \"samples\": [\n          10,\n          12,\n          1\n        ],\n        \"semantic_type\": \"\",\n        \"description\": \"\"\n      }\n    }\n  ]\n}"
            }
          },
          "metadata": {},
          "execution_count": 33
        }
      ]
    },
    {
      "cell_type": "code",
      "execution_count": null,
      "metadata": {
        "colab": {
          "base_uri": "https://localhost:8080/"
        },
        "id": "-wo5O5O8cpxS",
        "outputId": "449048ce-977d-447b-cba1-7d0d9b237eb8"
      },
      "outputs": [
        {
          "output_type": "stream",
          "name": "stderr",
          "text": [
            "/usr/local/lib/python3.10/dist-packages/transformers/data/datasets/language_modeling.py:53: FutureWarning: This dataset will be removed from the library soon, preprocessing should be handled with the 🤗 Datasets library. You can have a look at this example script for pointers: https://github.com/huggingface/transformers/blob/main/examples/pytorch/language-modeling/run_mlm.py\n",
            "  warnings.warn(\n"
          ]
        }
      ],
      "source": [
        "\n",
        "\n",
        "\n",
        "train_path ='/content/output_file.csv'\n",
        "\n",
        "'''with open(train_path, \"w\") as f:\n",
        "    f.write(text1)'''\n",
        "\n",
        "\n",
        "train_dataset = TextDataset(tokenizer=tokenizer,file_path=train_path,block_size=32)\n",
        "\n",
        "\n",
        "data_collator = DataCollatorForLanguageModeling(tokenizer=tokenizer, mlm=False)"
      ]
    },
    {
      "cell_type": "code",
      "execution_count": null,
      "metadata": {
        "id": "tRUAO546c-D0"
      },
      "outputs": [],
      "source": [
        "training_args = TrainingArguments(output_dir=\"./finetuned\", #The output directory\n",
        "    overwrite_output_dir='experiments', #overwrite the content of the output directory\n",
        "    num_train_epochs=5, # number of training epochs\n",
        "    per_device_train_batch_size=1, # batch size for training\n",
        "    per_device_eval_batch_size=1,  # batch size for evaluation\n",
        "    warmup_steps=1,# number of warmup steps for learning rate scheduler\n",
        "    gradient_accumulation_steps=1, # to make \"virtual\" batch size larger)\n",
        ")\n"
      ]
    },
    {
      "cell_type": "code",
      "execution_count": null,
      "metadata": {
        "id": "Rrvkiz1oc-yL"
      },
      "outputs": [],
      "source": [
        "trainer = Trainer(\n",
        "    model=model,\n",
        "    args=training_args,\n",
        "    data_collator=data_collator,\n",
        "    train_dataset=train_dataset,\n",
        "    optimizers = (torch.optim.AdamW(model.parameters(),lr=1e-5),None) # Optimizer and lr scheduler\n",
        ")"
      ]
    },
    {
      "cell_type": "code",
      "execution_count": null,
      "metadata": {
        "colab": {
          "base_uri": "https://localhost:8080/",
          "height": 110
        },
        "id": "EmQVF5Qwc-0b",
        "outputId": "b91ea0a4-89e9-48db-f2af-63e335168521"
      },
      "outputs": [
        {
          "output_type": "display_data",
          "data": {
            "text/plain": [
              "<IPython.core.display.HTML object>"
            ],
            "text/html": [
              "\n",
              "    <div>\n",
              "      \n",
              "      <progress value='455' max='455' style='width:300px; height:20px; vertical-align: middle;'></progress>\n",
              "      [455/455 08:37, Epoch 5/5]\n",
              "    </div>\n",
              "    <table border=\"1\" class=\"dataframe\">\n",
              "  <thead>\n",
              " <tr style=\"text-align: left;\">\n",
              "      <th>Step</th>\n",
              "      <th>Training Loss</th>\n",
              "    </tr>\n",
              "  </thead>\n",
              "  <tbody>\n",
              "  </tbody>\n",
              "</table><p>"
            ]
          },
          "metadata": {}
        },
        {
          "output_type": "execute_result",
          "data": {
            "text/plain": [
              "TrainOutput(global_step=455, training_loss=0.9862228896591689, metrics={'train_runtime': 518.1743, 'train_samples_per_second': 0.878, 'train_steps_per_second': 0.878, 'total_flos': 59401266462720.0, 'train_loss': 0.9862228896591689, 'epoch': 5.0})"
            ]
          },
          "metadata": {},
          "execution_count": 52
        }
      ],
      "source": [
        "trainer.train()"
      ]
    },
    {
      "cell_type": "code",
      "source": [
        "tokenizer.save_pretrained('/path/to/save/tokenizer')"
      ],
      "metadata": {
        "colab": {
          "base_uri": "https://localhost:8080/"
        },
        "id": "ngV4ImQvVmWz",
        "outputId": "bcccc95a-05aa-47f4-c8f1-0319e40dd941"
      },
      "execution_count": null,
      "outputs": [
        {
          "output_type": "execute_result",
          "data": {
            "text/plain": [
              "('/path/to/save/tokenizer/tokenizer_config.json',\n",
              " '/path/to/save/tokenizer/special_tokens_map.json',\n",
              " '/path/to/save/tokenizer/vocab.json',\n",
              " '/path/to/save/tokenizer/merges.txt',\n",
              " '/path/to/save/tokenizer/added_tokens.json')"
            ]
          },
          "metadata": {},
          "execution_count": 53
        }
      ]
    },
    {
      "cell_type": "code",
      "source": [
        "import pickle\n",
        "with open('tokenizer.pkl', 'wb') as f:\n",
        "    pickle.dump(tokenizer, f)\n",
        "with open('model.pkl', 'wb') as f:\n",
        "    pickle.dump(model, f)"
      ],
      "metadata": {
        "id": "Va6enPufV__z"
      },
      "execution_count": null,
      "outputs": []
    },
    {
      "cell_type": "code",
      "source": [
        "with open('tokenizer.pkl', 'rb') as f:\n",
        "    tokenizer = pickle.load(f)\n",
        "with open('model.pkl', 'wb') as f:\n",
        "    model=pickle.load(f)"
      ],
      "metadata": {
        "id": "X78TWnicWRCO"
      },
      "execution_count": null,
      "outputs": []
    },
    {
      "cell_type": "code",
      "source": [
        "device = torch.device(\"cuda\" if torch.cuda.is_available() else \"cpu\")\n",
        "model.to(device)"
      ],
      "metadata": {
        "colab": {
          "base_uri": "https://localhost:8080/"
        },
        "id": "gb_nnctyX5zX",
        "outputId": "d940b47e-b9f8-4fd7-ebbd-5513b7b39638"
      },
      "execution_count": null,
      "outputs": [
        {
          "output_type": "execute_result",
          "data": {
            "text/plain": [
              "GPT2LMHeadModel(\n",
              "  (transformer): GPT2Model(\n",
              "    (wte): Embedding(50257, 1536)\n",
              "    (wpe): Embedding(2048, 1536)\n",
              "    (drop): Dropout(p=0.1, inplace=False)\n",
              "    (h): ModuleList(\n",
              "      (0-23): 24 x GPT2Block(\n",
              "        (ln_1): LayerNorm((1536,), eps=1e-05, elementwise_affine=True)\n",
              "        (attn): GPT2SdpaAttention(\n",
              "          (c_attn): Conv1D(nf=4608, nx=1536)\n",
              "          (c_proj): Conv1D(nf=1536, nx=1536)\n",
              "          (attn_dropout): Dropout(p=0.1, inplace=False)\n",
              "          (resid_dropout): Dropout(p=0.1, inplace=False)\n",
              "        )\n",
              "        (ln_2): LayerNorm((1536,), eps=1e-05, elementwise_affine=True)\n",
              "        (mlp): GPT2MLP(\n",
              "          (c_fc): Conv1D(nf=6144, nx=1536)\n",
              "          (c_proj): Conv1D(nf=1536, nx=6144)\n",
              "          (act): NewGELUActivation()\n",
              "          (dropout): Dropout(p=0.1, inplace=False)\n",
              "        )\n",
              "      )\n",
              "    )\n",
              "    (ln_f): LayerNorm((1536,), eps=1e-05, elementwise_affine=True)\n",
              "  )\n",
              "  (lm_head): Linear(in_features=1536, out_features=50257, bias=False)\n",
              ")"
            ]
          },
          "metadata": {},
          "execution_count": 54
        }
      ]
    },
    {
      "cell_type": "code",
      "source": [
        "text = \"Как же хочеться спать\"\n",
        "input_ids = tokenizer.encode(text, return_tensors=\"pt\").to(device)  # Move input_ids to the same device\n",
        "\n",
        "# Set the model to evaluation mode\n",
        "model.eval()\n",
        "\n",
        "# Generate text\n",
        "with torch.no_grad():\n",
        "    out = model.generate(input_ids,\n",
        "                         do_sample=True,\n",
        "                         num_beams=2,\n",
        "                         temperature=1.5,\n",
        "                         top_p=0.9,\n",
        "                         max_length=60)\n",
        "\n",
        "# Decode the generated text\n",
        "generated_text = tokenizer.decode(out[0], skip_special_tokens=True)\n",
        "print()\n",
        "print(generated_text)"
      ],
      "metadata": {
        "colab": {
          "base_uri": "https://localhost:8080/"
        },
        "id": "SAOQDVSlYERp",
        "outputId": "7a704e1f-d430-4076-fb71-6d0a4b5ad884"
      },
      "execution_count": null,
      "outputs": [
        {
          "output_type": "stream",
          "name": "stdout",
          "text": [
            "\n",
            "Как же хочеться спать.\n",
            "И я усну, лишь только ночь настанет,\n",
            "И солнышко взойдет, и ветерок\n",
            "Меня прохладой оботрет.\n",
            "Я с радости проснусь, расправлю\n",
            "Ноги, руки, хвостик свой пушистый,\n",
            "И — будь что\n"
          ]
        }
      ]
    },
    {
      "cell_type": "code",
      "execution_count": null,
      "metadata": {
        "id": "-0SsGJpcc-8l",
        "colab": {
          "base_uri": "https://localhost:8080/"
        },
        "outputId": "d9a4ea6c-8da5-4011-ec15-7cc8d978bd68"
      },
      "outputs": [
        {
          "output_type": "stream",
          "name": "stdout",
          "text": [
            "\n",
            "Как же хочеться есть,\n",
            "Когда вокруг так красиво!\n",
            "И солнышко греет, и птички поют,\n",
            "И солнышко всех веселей!\n",
            "Ну, а я сижу одна,\n",
            "И грущу, и слёзы лью,\n",
            "И солнце мне совсем не греет,\n",
            "И птички петь не хотят!\n",
            "Вот солнышко выглянуло,\n",
            "Драго\n"
          ]
        }
      ],
      "source": [
        "text = \"Как же хочеться есть\"\n",
        "input_ids = tokenizer.encode(text, return_tensors=\"pt\").to(device)  # Move input_ids to the same device\n",
        "\n",
        "# Set the model to evaluation mode\n",
        "model.eval()\n",
        "\n",
        "# Generate text\n",
        "with torch.no_grad():\n",
        "    out = model.generate(input_ids,\n",
        "                         do_sample=True,\n",
        "                         num_beams=2,\n",
        "                         temperature=1.5,\n",
        "                         top_p=0.9,\n",
        "                         max_length=75)\n",
        "\n",
        "# Decode the generated text\n",
        "generated_text = tokenizer.decode(out[0], skip_special_tokens=True)\n",
        "print()\n",
        "print(generated_text)"
      ]
    },
    {
      "cell_type": "code",
      "execution_count": null,
      "metadata": {
        "id": "5NCfg1nBc--9",
        "colab": {
          "base_uri": "https://localhost:8080/"
        },
        "outputId": "f5cfff44-2e53-444e-9a10-f036070f437c"
      },
      "outputs": [
        {
          "output_type": "stream",
          "name": "stdout",
          "text": [
            "\n",
            "Увидела оса слона\n",
            "И думает: «Ах, какой он большой!\n",
            "Какие у него рога!\n",
            "Какие бусы на шее!\n",
            "И как он ловко ступает!»\n",
            "Пришла к ней как-то раз свинья\n",
            "И говорит: — Послушай-ка,\n",
            "Какие есть у меня богатства!\n",
            "Вот, например, оселок да серп!\n",
            "Вот тебе, бабушка, морковка!\n",
            "Вот тебе, дедушка, репка!\n",
            "Вот тебе, братец Иванушка!\n",
            "Вот тебе, сестрица Аленушка!\n",
            "Вот тебе, молодецки свистулька!\n",
            "Вот тебе, молодецки колечко!\n",
            "Вот тебе, молодецки лапти!\n",
            "Вот тебе, молодецки саночки\n"
          ]
        }
      ],
      "source": [
        "text = \"Увидела оса слона\"\n",
        "input_ids = tokenizer.encode(text, return_tensors=\"pt\").to(device)  # Move input_ids to the same device\n",
        "\n",
        "# Set the model to evaluation mode\n",
        "model.eval()\n",
        "\n",
        "# Generate text\n",
        "with torch.no_grad():\n",
        "    out = model.generate(input_ids,\n",
        "                         do_sample=True,\n",
        "                         num_beams=2,\n",
        "                         temperature=1.5,\n",
        "                         top_p=0.9,\n",
        "                         max_length=150)\n",
        "\n",
        "# Decode the generated text\n",
        "generated_text = tokenizer.decode(out[0], skip_special_tokens=True)\n",
        "print()\n",
        "print(generated_text)"
      ]
    },
    {
      "cell_type": "code",
      "source": [],
      "metadata": {
        "id": "4m4pnLOn4EbQ"
      },
      "execution_count": null,
      "outputs": []
    }
  ],
  "metadata": {
    "accelerator": "GPU",
    "colab": {
      "gpuType": "T4",
      "provenance": []
    },
    "kernelspec": {
      "display_name": "Python 3",
      "name": "python3"
    },
    "language_info": {
      "name": "python"
    },
    "widgets": {
      "application/vnd.jupyter.widget-state+json": {
        "f73c729119ab4e62afd4dd209d9a7cc2": {
          "model_module": "@jupyter-widgets/controls",
          "model_name": "HBoxModel",
          "model_module_version": "1.5.0",
          "state": {
            "_dom_classes": [],
            "_model_module": "@jupyter-widgets/controls",
            "_model_module_version": "1.5.0",
            "_model_name": "HBoxModel",
            "_view_count": null,
            "_view_module": "@jupyter-widgets/controls",
            "_view_module_version": "1.5.0",
            "_view_name": "HBoxView",
            "box_style": "",
            "children": [
              "IPY_MODEL_ae54cb7479f9445b987c4f84700642c4",
              "IPY_MODEL_cffaca55b9104ce080711a75cf4dbf51",
              "IPY_MODEL_b58fc96d31114b8b8edf19181b3706cf"
            ],
            "layout": "IPY_MODEL_b2c872edf70744ab98eaf4a087e53935"
          }
        },
        "ae54cb7479f9445b987c4f84700642c4": {
          "model_module": "@jupyter-widgets/controls",
          "model_name": "HTMLModel",
          "model_module_version": "1.5.0",
          "state": {
            "_dom_classes": [],
            "_model_module": "@jupyter-widgets/controls",
            "_model_module_version": "1.5.0",
            "_model_name": "HTMLModel",
            "_view_count": null,
            "_view_module": "@jupyter-widgets/controls",
            "_view_module_version": "1.5.0",
            "_view_name": "HTMLView",
            "description": "",
            "description_tooltip": null,
            "layout": "IPY_MODEL_04886f94695b4e57873f32b828d54484",
            "placeholder": "​",
            "style": "IPY_MODEL_4253ae0497224f1bb3e469be52ef4070",
            "value": "tokenizer_config.json: 100%"
          }
        },
        "cffaca55b9104ce080711a75cf4dbf51": {
          "model_module": "@jupyter-widgets/controls",
          "model_name": "FloatProgressModel",
          "model_module_version": "1.5.0",
          "state": {
            "_dom_classes": [],
            "_model_module": "@jupyter-widgets/controls",
            "_model_module_version": "1.5.0",
            "_model_name": "FloatProgressModel",
            "_view_count": null,
            "_view_module": "@jupyter-widgets/controls",
            "_view_module_version": "1.5.0",
            "_view_name": "ProgressView",
            "bar_style": "success",
            "description": "",
            "description_tooltip": null,
            "layout": "IPY_MODEL_65e442d7b1b74274918c4ed27269a972",
            "max": 1252,
            "min": 0,
            "orientation": "horizontal",
            "style": "IPY_MODEL_35607bf44d5747bdb029da0596124a20",
            "value": 1252
          }
        },
        "b58fc96d31114b8b8edf19181b3706cf": {
          "model_module": "@jupyter-widgets/controls",
          "model_name": "HTMLModel",
          "model_module_version": "1.5.0",
          "state": {
            "_dom_classes": [],
            "_model_module": "@jupyter-widgets/controls",
            "_model_module_version": "1.5.0",
            "_model_name": "HTMLModel",
            "_view_count": null,
            "_view_module": "@jupyter-widgets/controls",
            "_view_module_version": "1.5.0",
            "_view_name": "HTMLView",
            "description": "",
            "description_tooltip": null,
            "layout": "IPY_MODEL_1fe680e1b21e46579896208468f82c11",
            "placeholder": "​",
            "style": "IPY_MODEL_29e4ebaa5a6b45f6a4564d134dae34a2",
            "value": " 1.25k/1.25k [00:00&lt;00:00, 56.9kB/s]"
          }
        },
        "b2c872edf70744ab98eaf4a087e53935": {
          "model_module": "@jupyter-widgets/base",
          "model_name": "LayoutModel",
          "model_module_version": "1.2.0",
          "state": {
            "_model_module": "@jupyter-widgets/base",
            "_model_module_version": "1.2.0",
            "_model_name": "LayoutModel",
            "_view_count": null,
            "_view_module": "@jupyter-widgets/base",
            "_view_module_version": "1.2.0",
            "_view_name": "LayoutView",
            "align_content": null,
            "align_items": null,
            "align_self": null,
            "border": null,
            "bottom": null,
            "display": null,
            "flex": null,
            "flex_flow": null,
            "grid_area": null,
            "grid_auto_columns": null,
            "grid_auto_flow": null,
            "grid_auto_rows": null,
            "grid_column": null,
            "grid_gap": null,
            "grid_row": null,
            "grid_template_areas": null,
            "grid_template_columns": null,
            "grid_template_rows": null,
            "height": null,
            "justify_content": null,
            "justify_items": null,
            "left": null,
            "margin": null,
            "max_height": null,
            "max_width": null,
            "min_height": null,
            "min_width": null,
            "object_fit": null,
            "object_position": null,
            "order": null,
            "overflow": null,
            "overflow_x": null,
            "overflow_y": null,
            "padding": null,
            "right": null,
            "top": null,
            "visibility": null,
            "width": null
          }
        },
        "04886f94695b4e57873f32b828d54484": {
          "model_module": "@jupyter-widgets/base",
          "model_name": "LayoutModel",
          "model_module_version": "1.2.0",
          "state": {
            "_model_module": "@jupyter-widgets/base",
            "_model_module_version": "1.2.0",
            "_model_name": "LayoutModel",
            "_view_count": null,
            "_view_module": "@jupyter-widgets/base",
            "_view_module_version": "1.2.0",
            "_view_name": "LayoutView",
            "align_content": null,
            "align_items": null,
            "align_self": null,
            "border": null,
            "bottom": null,
            "display": null,
            "flex": null,
            "flex_flow": null,
            "grid_area": null,
            "grid_auto_columns": null,
            "grid_auto_flow": null,
            "grid_auto_rows": null,
            "grid_column": null,
            "grid_gap": null,
            "grid_row": null,
            "grid_template_areas": null,
            "grid_template_columns": null,
            "grid_template_rows": null,
            "height": null,
            "justify_content": null,
            "justify_items": null,
            "left": null,
            "margin": null,
            "max_height": null,
            "max_width": null,
            "min_height": null,
            "min_width": null,
            "object_fit": null,
            "object_position": null,
            "order": null,
            "overflow": null,
            "overflow_x": null,
            "overflow_y": null,
            "padding": null,
            "right": null,
            "top": null,
            "visibility": null,
            "width": null
          }
        },
        "4253ae0497224f1bb3e469be52ef4070": {
          "model_module": "@jupyter-widgets/controls",
          "model_name": "DescriptionStyleModel",
          "model_module_version": "1.5.0",
          "state": {
            "_model_module": "@jupyter-widgets/controls",
            "_model_module_version": "1.5.0",
            "_model_name": "DescriptionStyleModel",
            "_view_count": null,
            "_view_module": "@jupyter-widgets/base",
            "_view_module_version": "1.2.0",
            "_view_name": "StyleView",
            "description_width": ""
          }
        },
        "65e442d7b1b74274918c4ed27269a972": {
          "model_module": "@jupyter-widgets/base",
          "model_name": "LayoutModel",
          "model_module_version": "1.2.0",
          "state": {
            "_model_module": "@jupyter-widgets/base",
            "_model_module_version": "1.2.0",
            "_model_name": "LayoutModel",
            "_view_count": null,
            "_view_module": "@jupyter-widgets/base",
            "_view_module_version": "1.2.0",
            "_view_name": "LayoutView",
            "align_content": null,
            "align_items": null,
            "align_self": null,
            "border": null,
            "bottom": null,
            "display": null,
            "flex": null,
            "flex_flow": null,
            "grid_area": null,
            "grid_auto_columns": null,
            "grid_auto_flow": null,
            "grid_auto_rows": null,
            "grid_column": null,
            "grid_gap": null,
            "grid_row": null,
            "grid_template_areas": null,
            "grid_template_columns": null,
            "grid_template_rows": null,
            "height": null,
            "justify_content": null,
            "justify_items": null,
            "left": null,
            "margin": null,
            "max_height": null,
            "max_width": null,
            "min_height": null,
            "min_width": null,
            "object_fit": null,
            "object_position": null,
            "order": null,
            "overflow": null,
            "overflow_x": null,
            "overflow_y": null,
            "padding": null,
            "right": null,
            "top": null,
            "visibility": null,
            "width": null
          }
        },
        "35607bf44d5747bdb029da0596124a20": {
          "model_module": "@jupyter-widgets/controls",
          "model_name": "ProgressStyleModel",
          "model_module_version": "1.5.0",
          "state": {
            "_model_module": "@jupyter-widgets/controls",
            "_model_module_version": "1.5.0",
            "_model_name": "ProgressStyleModel",
            "_view_count": null,
            "_view_module": "@jupyter-widgets/base",
            "_view_module_version": "1.2.0",
            "_view_name": "StyleView",
            "bar_color": null,
            "description_width": ""
          }
        },
        "1fe680e1b21e46579896208468f82c11": {
          "model_module": "@jupyter-widgets/base",
          "model_name": "LayoutModel",
          "model_module_version": "1.2.0",
          "state": {
            "_model_module": "@jupyter-widgets/base",
            "_model_module_version": "1.2.0",
            "_model_name": "LayoutModel",
            "_view_count": null,
            "_view_module": "@jupyter-widgets/base",
            "_view_module_version": "1.2.0",
            "_view_name": "LayoutView",
            "align_content": null,
            "align_items": null,
            "align_self": null,
            "border": null,
            "bottom": null,
            "display": null,
            "flex": null,
            "flex_flow": null,
            "grid_area": null,
            "grid_auto_columns": null,
            "grid_auto_flow": null,
            "grid_auto_rows": null,
            "grid_column": null,
            "grid_gap": null,
            "grid_row": null,
            "grid_template_areas": null,
            "grid_template_columns": null,
            "grid_template_rows": null,
            "height": null,
            "justify_content": null,
            "justify_items": null,
            "left": null,
            "margin": null,
            "max_height": null,
            "max_width": null,
            "min_height": null,
            "min_width": null,
            "object_fit": null,
            "object_position": null,
            "order": null,
            "overflow": null,
            "overflow_x": null,
            "overflow_y": null,
            "padding": null,
            "right": null,
            "top": null,
            "visibility": null,
            "width": null
          }
        },
        "29e4ebaa5a6b45f6a4564d134dae34a2": {
          "model_module": "@jupyter-widgets/controls",
          "model_name": "DescriptionStyleModel",
          "model_module_version": "1.5.0",
          "state": {
            "_model_module": "@jupyter-widgets/controls",
            "_model_module_version": "1.5.0",
            "_model_name": "DescriptionStyleModel",
            "_view_count": null,
            "_view_module": "@jupyter-widgets/base",
            "_view_module_version": "1.2.0",
            "_view_name": "StyleView",
            "description_width": ""
          }
        },
        "33b9de7436d046f9ad1f43de25ef33bf": {
          "model_module": "@jupyter-widgets/controls",
          "model_name": "HBoxModel",
          "model_module_version": "1.5.0",
          "state": {
            "_dom_classes": [],
            "_model_module": "@jupyter-widgets/controls",
            "_model_module_version": "1.5.0",
            "_model_name": "HBoxModel",
            "_view_count": null,
            "_view_module": "@jupyter-widgets/controls",
            "_view_module_version": "1.5.0",
            "_view_name": "HBoxView",
            "box_style": "",
            "children": [
              "IPY_MODEL_f27e08ec461242f3aa8250f40a8ad3a6",
              "IPY_MODEL_ed87b77cd1a64786a2838e9ad877fb9c",
              "IPY_MODEL_88d602c65150429f8ed7fe912ed21ffc"
            ],
            "layout": "IPY_MODEL_320e2f581b6c419d90d8cfe9d6989d6a"
          }
        },
        "f27e08ec461242f3aa8250f40a8ad3a6": {
          "model_module": "@jupyter-widgets/controls",
          "model_name": "HTMLModel",
          "model_module_version": "1.5.0",
          "state": {
            "_dom_classes": [],
            "_model_module": "@jupyter-widgets/controls",
            "_model_module_version": "1.5.0",
            "_model_name": "HTMLModel",
            "_view_count": null,
            "_view_module": "@jupyter-widgets/controls",
            "_view_module_version": "1.5.0",
            "_view_name": "HTMLView",
            "description": "",
            "description_tooltip": null,
            "layout": "IPY_MODEL_abbe5512adb241469eae84dec51fd0b5",
            "placeholder": "​",
            "style": "IPY_MODEL_befe377cc4774e5c881268e43d3f549c",
            "value": "vocab.json: 100%"
          }
        },
        "ed87b77cd1a64786a2838e9ad877fb9c": {
          "model_module": "@jupyter-widgets/controls",
          "model_name": "FloatProgressModel",
          "model_module_version": "1.5.0",
          "state": {
            "_dom_classes": [],
            "_model_module": "@jupyter-widgets/controls",
            "_model_module_version": "1.5.0",
            "_model_name": "FloatProgressModel",
            "_view_count": null,
            "_view_module": "@jupyter-widgets/controls",
            "_view_module_version": "1.5.0",
            "_view_name": "ProgressView",
            "bar_style": "success",
            "description": "",
            "description_tooltip": null,
            "layout": "IPY_MODEL_5e6ba09703e8401697c1a96c24f30fbf",
            "max": 1713123,
            "min": 0,
            "orientation": "horizontal",
            "style": "IPY_MODEL_dc58a2498d894d5d995e3a16eaf9d609",
            "value": 1713123
          }
        },
        "88d602c65150429f8ed7fe912ed21ffc": {
          "model_module": "@jupyter-widgets/controls",
          "model_name": "HTMLModel",
          "model_module_version": "1.5.0",
          "state": {
            "_dom_classes": [],
            "_model_module": "@jupyter-widgets/controls",
            "_model_module_version": "1.5.0",
            "_model_name": "HTMLModel",
            "_view_count": null,
            "_view_module": "@jupyter-widgets/controls",
            "_view_module_version": "1.5.0",
            "_view_name": "HTMLView",
            "description": "",
            "description_tooltip": null,
            "layout": "IPY_MODEL_f7a484b59fb34a47908a8c75afc0e867",
            "placeholder": "​",
            "style": "IPY_MODEL_6b55a2eb9db94c72812266fb34f47cc5",
            "value": " 1.71M/1.71M [00:00&lt;00:00, 13.0MB/s]"
          }
        },
        "320e2f581b6c419d90d8cfe9d6989d6a": {
          "model_module": "@jupyter-widgets/base",
          "model_name": "LayoutModel",
          "model_module_version": "1.2.0",
          "state": {
            "_model_module": "@jupyter-widgets/base",
            "_model_module_version": "1.2.0",
            "_model_name": "LayoutModel",
            "_view_count": null,
            "_view_module": "@jupyter-widgets/base",
            "_view_module_version": "1.2.0",
            "_view_name": "LayoutView",
            "align_content": null,
            "align_items": null,
            "align_self": null,
            "border": null,
            "bottom": null,
            "display": null,
            "flex": null,
            "flex_flow": null,
            "grid_area": null,
            "grid_auto_columns": null,
            "grid_auto_flow": null,
            "grid_auto_rows": null,
            "grid_column": null,
            "grid_gap": null,
            "grid_row": null,
            "grid_template_areas": null,
            "grid_template_columns": null,
            "grid_template_rows": null,
            "height": null,
            "justify_content": null,
            "justify_items": null,
            "left": null,
            "margin": null,
            "max_height": null,
            "max_width": null,
            "min_height": null,
            "min_width": null,
            "object_fit": null,
            "object_position": null,
            "order": null,
            "overflow": null,
            "overflow_x": null,
            "overflow_y": null,
            "padding": null,
            "right": null,
            "top": null,
            "visibility": null,
            "width": null
          }
        },
        "abbe5512adb241469eae84dec51fd0b5": {
          "model_module": "@jupyter-widgets/base",
          "model_name": "LayoutModel",
          "model_module_version": "1.2.0",
          "state": {
            "_model_module": "@jupyter-widgets/base",
            "_model_module_version": "1.2.0",
            "_model_name": "LayoutModel",
            "_view_count": null,
            "_view_module": "@jupyter-widgets/base",
            "_view_module_version": "1.2.0",
            "_view_name": "LayoutView",
            "align_content": null,
            "align_items": null,
            "align_self": null,
            "border": null,
            "bottom": null,
            "display": null,
            "flex": null,
            "flex_flow": null,
            "grid_area": null,
            "grid_auto_columns": null,
            "grid_auto_flow": null,
            "grid_auto_rows": null,
            "grid_column": null,
            "grid_gap": null,
            "grid_row": null,
            "grid_template_areas": null,
            "grid_template_columns": null,
            "grid_template_rows": null,
            "height": null,
            "justify_content": null,
            "justify_items": null,
            "left": null,
            "margin": null,
            "max_height": null,
            "max_width": null,
            "min_height": null,
            "min_width": null,
            "object_fit": null,
            "object_position": null,
            "order": null,
            "overflow": null,
            "overflow_x": null,
            "overflow_y": null,
            "padding": null,
            "right": null,
            "top": null,
            "visibility": null,
            "width": null
          }
        },
        "befe377cc4774e5c881268e43d3f549c": {
          "model_module": "@jupyter-widgets/controls",
          "model_name": "DescriptionStyleModel",
          "model_module_version": "1.5.0",
          "state": {
            "_model_module": "@jupyter-widgets/controls",
            "_model_module_version": "1.5.0",
            "_model_name": "DescriptionStyleModel",
            "_view_count": null,
            "_view_module": "@jupyter-widgets/base",
            "_view_module_version": "1.2.0",
            "_view_name": "StyleView",
            "description_width": ""
          }
        },
        "5e6ba09703e8401697c1a96c24f30fbf": {
          "model_module": "@jupyter-widgets/base",
          "model_name": "LayoutModel",
          "model_module_version": "1.2.0",
          "state": {
            "_model_module": "@jupyter-widgets/base",
            "_model_module_version": "1.2.0",
            "_model_name": "LayoutModel",
            "_view_count": null,
            "_view_module": "@jupyter-widgets/base",
            "_view_module_version": "1.2.0",
            "_view_name": "LayoutView",
            "align_content": null,
            "align_items": null,
            "align_self": null,
            "border": null,
            "bottom": null,
            "display": null,
            "flex": null,
            "flex_flow": null,
            "grid_area": null,
            "grid_auto_columns": null,
            "grid_auto_flow": null,
            "grid_auto_rows": null,
            "grid_column": null,
            "grid_gap": null,
            "grid_row": null,
            "grid_template_areas": null,
            "grid_template_columns": null,
            "grid_template_rows": null,
            "height": null,
            "justify_content": null,
            "justify_items": null,
            "left": null,
            "margin": null,
            "max_height": null,
            "max_width": null,
            "min_height": null,
            "min_width": null,
            "object_fit": null,
            "object_position": null,
            "order": null,
            "overflow": null,
            "overflow_x": null,
            "overflow_y": null,
            "padding": null,
            "right": null,
            "top": null,
            "visibility": null,
            "width": null
          }
        },
        "dc58a2498d894d5d995e3a16eaf9d609": {
          "model_module": "@jupyter-widgets/controls",
          "model_name": "ProgressStyleModel",
          "model_module_version": "1.5.0",
          "state": {
            "_model_module": "@jupyter-widgets/controls",
            "_model_module_version": "1.5.0",
            "_model_name": "ProgressStyleModel",
            "_view_count": null,
            "_view_module": "@jupyter-widgets/base",
            "_view_module_version": "1.2.0",
            "_view_name": "StyleView",
            "bar_color": null,
            "description_width": ""
          }
        },
        "f7a484b59fb34a47908a8c75afc0e867": {
          "model_module": "@jupyter-widgets/base",
          "model_name": "LayoutModel",
          "model_module_version": "1.2.0",
          "state": {
            "_model_module": "@jupyter-widgets/base",
            "_model_module_version": "1.2.0",
            "_model_name": "LayoutModel",
            "_view_count": null,
            "_view_module": "@jupyter-widgets/base",
            "_view_module_version": "1.2.0",
            "_view_name": "LayoutView",
            "align_content": null,
            "align_items": null,
            "align_self": null,
            "border": null,
            "bottom": null,
            "display": null,
            "flex": null,
            "flex_flow": null,
            "grid_area": null,
            "grid_auto_columns": null,
            "grid_auto_flow": null,
            "grid_auto_rows": null,
            "grid_column": null,
            "grid_gap": null,
            "grid_row": null,
            "grid_template_areas": null,
            "grid_template_columns": null,
            "grid_template_rows": null,
            "height": null,
            "justify_content": null,
            "justify_items": null,
            "left": null,
            "margin": null,
            "max_height": null,
            "max_width": null,
            "min_height": null,
            "min_width": null,
            "object_fit": null,
            "object_position": null,
            "order": null,
            "overflow": null,
            "overflow_x": null,
            "overflow_y": null,
            "padding": null,
            "right": null,
            "top": null,
            "visibility": null,
            "width": null
          }
        },
        "6b55a2eb9db94c72812266fb34f47cc5": {
          "model_module": "@jupyter-widgets/controls",
          "model_name": "DescriptionStyleModel",
          "model_module_version": "1.5.0",
          "state": {
            "_model_module": "@jupyter-widgets/controls",
            "_model_module_version": "1.5.0",
            "_model_name": "DescriptionStyleModel",
            "_view_count": null,
            "_view_module": "@jupyter-widgets/base",
            "_view_module_version": "1.2.0",
            "_view_name": "StyleView",
            "description_width": ""
          }
        },
        "3a3a4fcee0af463ba9f61206bea74b1b": {
          "model_module": "@jupyter-widgets/controls",
          "model_name": "HBoxModel",
          "model_module_version": "1.5.0",
          "state": {
            "_dom_classes": [],
            "_model_module": "@jupyter-widgets/controls",
            "_model_module_version": "1.5.0",
            "_model_name": "HBoxModel",
            "_view_count": null,
            "_view_module": "@jupyter-widgets/controls",
            "_view_module_version": "1.5.0",
            "_view_name": "HBoxView",
            "box_style": "",
            "children": [
              "IPY_MODEL_4e7a036bd3fe40b996dc8ce3705ea5fa",
              "IPY_MODEL_925d3b36c5b349ac9acf5772b3566ea5",
              "IPY_MODEL_f4284e6b63bb40fc95a81fad848d86fb"
            ],
            "layout": "IPY_MODEL_a6289ccce1674d74985d92dcbffe070a"
          }
        },
        "4e7a036bd3fe40b996dc8ce3705ea5fa": {
          "model_module": "@jupyter-widgets/controls",
          "model_name": "HTMLModel",
          "model_module_version": "1.5.0",
          "state": {
            "_dom_classes": [],
            "_model_module": "@jupyter-widgets/controls",
            "_model_module_version": "1.5.0",
            "_model_name": "HTMLModel",
            "_view_count": null,
            "_view_module": "@jupyter-widgets/controls",
            "_view_module_version": "1.5.0",
            "_view_name": "HTMLView",
            "description": "",
            "description_tooltip": null,
            "layout": "IPY_MODEL_71c8e4ce65e840289c8b5343007c55b0",
            "placeholder": "​",
            "style": "IPY_MODEL_13f874d4683d4b2db29eacf6445e6fdb",
            "value": "merges.txt: 100%"
          }
        },
        "925d3b36c5b349ac9acf5772b3566ea5": {
          "model_module": "@jupyter-widgets/controls",
          "model_name": "FloatProgressModel",
          "model_module_version": "1.5.0",
          "state": {
            "_dom_classes": [],
            "_model_module": "@jupyter-widgets/controls",
            "_model_module_version": "1.5.0",
            "_model_name": "FloatProgressModel",
            "_view_count": null,
            "_view_module": "@jupyter-widgets/controls",
            "_view_module_version": "1.5.0",
            "_view_name": "ProgressView",
            "bar_style": "success",
            "description": "",
            "description_tooltip": null,
            "layout": "IPY_MODEL_67df0501a1d34961bb88975c95b4f1ae",
            "max": 1270925,
            "min": 0,
            "orientation": "horizontal",
            "style": "IPY_MODEL_68a825bc6894424db22ae33fa4f2b9ea",
            "value": 1270925
          }
        },
        "f4284e6b63bb40fc95a81fad848d86fb": {
          "model_module": "@jupyter-widgets/controls",
          "model_name": "HTMLModel",
          "model_module_version": "1.5.0",
          "state": {
            "_dom_classes": [],
            "_model_module": "@jupyter-widgets/controls",
            "_model_module_version": "1.5.0",
            "_model_name": "HTMLModel",
            "_view_count": null,
            "_view_module": "@jupyter-widgets/controls",
            "_view_module_version": "1.5.0",
            "_view_name": "HTMLView",
            "description": "",
            "description_tooltip": null,
            "layout": "IPY_MODEL_af982e9c62254890856f6657ba2ab73e",
            "placeholder": "​",
            "style": "IPY_MODEL_49eab374977f47f7b736fce050045da6",
            "value": " 1.27M/1.27M [00:00&lt;00:00, 6.97MB/s]"
          }
        },
        "a6289ccce1674d74985d92dcbffe070a": {
          "model_module": "@jupyter-widgets/base",
          "model_name": "LayoutModel",
          "model_module_version": "1.2.0",
          "state": {
            "_model_module": "@jupyter-widgets/base",
            "_model_module_version": "1.2.0",
            "_model_name": "LayoutModel",
            "_view_count": null,
            "_view_module": "@jupyter-widgets/base",
            "_view_module_version": "1.2.0",
            "_view_name": "LayoutView",
            "align_content": null,
            "align_items": null,
            "align_self": null,
            "border": null,
            "bottom": null,
            "display": null,
            "flex": null,
            "flex_flow": null,
            "grid_area": null,
            "grid_auto_columns": null,
            "grid_auto_flow": null,
            "grid_auto_rows": null,
            "grid_column": null,
            "grid_gap": null,
            "grid_row": null,
            "grid_template_areas": null,
            "grid_template_columns": null,
            "grid_template_rows": null,
            "height": null,
            "justify_content": null,
            "justify_items": null,
            "left": null,
            "margin": null,
            "max_height": null,
            "max_width": null,
            "min_height": null,
            "min_width": null,
            "object_fit": null,
            "object_position": null,
            "order": null,
            "overflow": null,
            "overflow_x": null,
            "overflow_y": null,
            "padding": null,
            "right": null,
            "top": null,
            "visibility": null,
            "width": null
          }
        },
        "71c8e4ce65e840289c8b5343007c55b0": {
          "model_module": "@jupyter-widgets/base",
          "model_name": "LayoutModel",
          "model_module_version": "1.2.0",
          "state": {
            "_model_module": "@jupyter-widgets/base",
            "_model_module_version": "1.2.0",
            "_model_name": "LayoutModel",
            "_view_count": null,
            "_view_module": "@jupyter-widgets/base",
            "_view_module_version": "1.2.0",
            "_view_name": "LayoutView",
            "align_content": null,
            "align_items": null,
            "align_self": null,
            "border": null,
            "bottom": null,
            "display": null,
            "flex": null,
            "flex_flow": null,
            "grid_area": null,
            "grid_auto_columns": null,
            "grid_auto_flow": null,
            "grid_auto_rows": null,
            "grid_column": null,
            "grid_gap": null,
            "grid_row": null,
            "grid_template_areas": null,
            "grid_template_columns": null,
            "grid_template_rows": null,
            "height": null,
            "justify_content": null,
            "justify_items": null,
            "left": null,
            "margin": null,
            "max_height": null,
            "max_width": null,
            "min_height": null,
            "min_width": null,
            "object_fit": null,
            "object_position": null,
            "order": null,
            "overflow": null,
            "overflow_x": null,
            "overflow_y": null,
            "padding": null,
            "right": null,
            "top": null,
            "visibility": null,
            "width": null
          }
        },
        "13f874d4683d4b2db29eacf6445e6fdb": {
          "model_module": "@jupyter-widgets/controls",
          "model_name": "DescriptionStyleModel",
          "model_module_version": "1.5.0",
          "state": {
            "_model_module": "@jupyter-widgets/controls",
            "_model_module_version": "1.5.0",
            "_model_name": "DescriptionStyleModel",
            "_view_count": null,
            "_view_module": "@jupyter-widgets/base",
            "_view_module_version": "1.2.0",
            "_view_name": "StyleView",
            "description_width": ""
          }
        },
        "67df0501a1d34961bb88975c95b4f1ae": {
          "model_module": "@jupyter-widgets/base",
          "model_name": "LayoutModel",
          "model_module_version": "1.2.0",
          "state": {
            "_model_module": "@jupyter-widgets/base",
            "_model_module_version": "1.2.0",
            "_model_name": "LayoutModel",
            "_view_count": null,
            "_view_module": "@jupyter-widgets/base",
            "_view_module_version": "1.2.0",
            "_view_name": "LayoutView",
            "align_content": null,
            "align_items": null,
            "align_self": null,
            "border": null,
            "bottom": null,
            "display": null,
            "flex": null,
            "flex_flow": null,
            "grid_area": null,
            "grid_auto_columns": null,
            "grid_auto_flow": null,
            "grid_auto_rows": null,
            "grid_column": null,
            "grid_gap": null,
            "grid_row": null,
            "grid_template_areas": null,
            "grid_template_columns": null,
            "grid_template_rows": null,
            "height": null,
            "justify_content": null,
            "justify_items": null,
            "left": null,
            "margin": null,
            "max_height": null,
            "max_width": null,
            "min_height": null,
            "min_width": null,
            "object_fit": null,
            "object_position": null,
            "order": null,
            "overflow": null,
            "overflow_x": null,
            "overflow_y": null,
            "padding": null,
            "right": null,
            "top": null,
            "visibility": null,
            "width": null
          }
        },
        "68a825bc6894424db22ae33fa4f2b9ea": {
          "model_module": "@jupyter-widgets/controls",
          "model_name": "ProgressStyleModel",
          "model_module_version": "1.5.0",
          "state": {
            "_model_module": "@jupyter-widgets/controls",
            "_model_module_version": "1.5.0",
            "_model_name": "ProgressStyleModel",
            "_view_count": null,
            "_view_module": "@jupyter-widgets/base",
            "_view_module_version": "1.2.0",
            "_view_name": "StyleView",
            "bar_color": null,
            "description_width": ""
          }
        },
        "af982e9c62254890856f6657ba2ab73e": {
          "model_module": "@jupyter-widgets/base",
          "model_name": "LayoutModel",
          "model_module_version": "1.2.0",
          "state": {
            "_model_module": "@jupyter-widgets/base",
            "_model_module_version": "1.2.0",
            "_model_name": "LayoutModel",
            "_view_count": null,
            "_view_module": "@jupyter-widgets/base",
            "_view_module_version": "1.2.0",
            "_view_name": "LayoutView",
            "align_content": null,
            "align_items": null,
            "align_self": null,
            "border": null,
            "bottom": null,
            "display": null,
            "flex": null,
            "flex_flow": null,
            "grid_area": null,
            "grid_auto_columns": null,
            "grid_auto_flow": null,
            "grid_auto_rows": null,
            "grid_column": null,
            "grid_gap": null,
            "grid_row": null,
            "grid_template_areas": null,
            "grid_template_columns": null,
            "grid_template_rows": null,
            "height": null,
            "justify_content": null,
            "justify_items": null,
            "left": null,
            "margin": null,
            "max_height": null,
            "max_width": null,
            "min_height": null,
            "min_width": null,
            "object_fit": null,
            "object_position": null,
            "order": null,
            "overflow": null,
            "overflow_x": null,
            "overflow_y": null,
            "padding": null,
            "right": null,
            "top": null,
            "visibility": null,
            "width": null
          }
        },
        "49eab374977f47f7b736fce050045da6": {
          "model_module": "@jupyter-widgets/controls",
          "model_name": "DescriptionStyleModel",
          "model_module_version": "1.5.0",
          "state": {
            "_model_module": "@jupyter-widgets/controls",
            "_model_module_version": "1.5.0",
            "_model_name": "DescriptionStyleModel",
            "_view_count": null,
            "_view_module": "@jupyter-widgets/base",
            "_view_module_version": "1.2.0",
            "_view_name": "StyleView",
            "description_width": ""
          }
        },
        "72b107521a4047bca39965c0c59c65c2": {
          "model_module": "@jupyter-widgets/controls",
          "model_name": "HBoxModel",
          "model_module_version": "1.5.0",
          "state": {
            "_dom_classes": [],
            "_model_module": "@jupyter-widgets/controls",
            "_model_module_version": "1.5.0",
            "_model_name": "HBoxModel",
            "_view_count": null,
            "_view_module": "@jupyter-widgets/controls",
            "_view_module_version": "1.5.0",
            "_view_name": "HBoxView",
            "box_style": "",
            "children": [
              "IPY_MODEL_4dd23279b02b4c0f95ae012afc6902df",
              "IPY_MODEL_fb36e4b1f9de40fe8d1a970fd51de2e6",
              "IPY_MODEL_553e380d82a84e36b341c38a12af00f5"
            ],
            "layout": "IPY_MODEL_f0b130d5bd024e15887d3ebde219642e"
          }
        },
        "4dd23279b02b4c0f95ae012afc6902df": {
          "model_module": "@jupyter-widgets/controls",
          "model_name": "HTMLModel",
          "model_module_version": "1.5.0",
          "state": {
            "_dom_classes": [],
            "_model_module": "@jupyter-widgets/controls",
            "_model_module_version": "1.5.0",
            "_model_name": "HTMLModel",
            "_view_count": null,
            "_view_module": "@jupyter-widgets/controls",
            "_view_module_version": "1.5.0",
            "_view_name": "HTMLView",
            "description": "",
            "description_tooltip": null,
            "layout": "IPY_MODEL_fd9026e2149641cc95e6bbaffb0070d8",
            "placeholder": "​",
            "style": "IPY_MODEL_2de4e2a4a19446d1b3ae3d34a4dca290",
            "value": "special_tokens_map.json: 100%"
          }
        },
        "fb36e4b1f9de40fe8d1a970fd51de2e6": {
          "model_module": "@jupyter-widgets/controls",
          "model_name": "FloatProgressModel",
          "model_module_version": "1.5.0",
          "state": {
            "_dom_classes": [],
            "_model_module": "@jupyter-widgets/controls",
            "_model_module_version": "1.5.0",
            "_model_name": "FloatProgressModel",
            "_view_count": null,
            "_view_module": "@jupyter-widgets/controls",
            "_view_module_version": "1.5.0",
            "_view_name": "ProgressView",
            "bar_style": "success",
            "description": "",
            "description_tooltip": null,
            "layout": "IPY_MODEL_41f7ea147cf34b4abe77744f0824eac2",
            "max": 574,
            "min": 0,
            "orientation": "horizontal",
            "style": "IPY_MODEL_5025da4d6058416c9d344652b328f195",
            "value": 574
          }
        },
        "553e380d82a84e36b341c38a12af00f5": {
          "model_module": "@jupyter-widgets/controls",
          "model_name": "HTMLModel",
          "model_module_version": "1.5.0",
          "state": {
            "_dom_classes": [],
            "_model_module": "@jupyter-widgets/controls",
            "_model_module_version": "1.5.0",
            "_model_name": "HTMLModel",
            "_view_count": null,
            "_view_module": "@jupyter-widgets/controls",
            "_view_module_version": "1.5.0",
            "_view_name": "HTMLView",
            "description": "",
            "description_tooltip": null,
            "layout": "IPY_MODEL_4dfc4c4f68394ede85816119c9979c43",
            "placeholder": "​",
            "style": "IPY_MODEL_fd119644ee264c708119f79adbcddf3a",
            "value": " 574/574 [00:00&lt;00:00, 40.7kB/s]"
          }
        },
        "f0b130d5bd024e15887d3ebde219642e": {
          "model_module": "@jupyter-widgets/base",
          "model_name": "LayoutModel",
          "model_module_version": "1.2.0",
          "state": {
            "_model_module": "@jupyter-widgets/base",
            "_model_module_version": "1.2.0",
            "_model_name": "LayoutModel",
            "_view_count": null,
            "_view_module": "@jupyter-widgets/base",
            "_view_module_version": "1.2.0",
            "_view_name": "LayoutView",
            "align_content": null,
            "align_items": null,
            "align_self": null,
            "border": null,
            "bottom": null,
            "display": null,
            "flex": null,
            "flex_flow": null,
            "grid_area": null,
            "grid_auto_columns": null,
            "grid_auto_flow": null,
            "grid_auto_rows": null,
            "grid_column": null,
            "grid_gap": null,
            "grid_row": null,
            "grid_template_areas": null,
            "grid_template_columns": null,
            "grid_template_rows": null,
            "height": null,
            "justify_content": null,
            "justify_items": null,
            "left": null,
            "margin": null,
            "max_height": null,
            "max_width": null,
            "min_height": null,
            "min_width": null,
            "object_fit": null,
            "object_position": null,
            "order": null,
            "overflow": null,
            "overflow_x": null,
            "overflow_y": null,
            "padding": null,
            "right": null,
            "top": null,
            "visibility": null,
            "width": null
          }
        },
        "fd9026e2149641cc95e6bbaffb0070d8": {
          "model_module": "@jupyter-widgets/base",
          "model_name": "LayoutModel",
          "model_module_version": "1.2.0",
          "state": {
            "_model_module": "@jupyter-widgets/base",
            "_model_module_version": "1.2.0",
            "_model_name": "LayoutModel",
            "_view_count": null,
            "_view_module": "@jupyter-widgets/base",
            "_view_module_version": "1.2.0",
            "_view_name": "LayoutView",
            "align_content": null,
            "align_items": null,
            "align_self": null,
            "border": null,
            "bottom": null,
            "display": null,
            "flex": null,
            "flex_flow": null,
            "grid_area": null,
            "grid_auto_columns": null,
            "grid_auto_flow": null,
            "grid_auto_rows": null,
            "grid_column": null,
            "grid_gap": null,
            "grid_row": null,
            "grid_template_areas": null,
            "grid_template_columns": null,
            "grid_template_rows": null,
            "height": null,
            "justify_content": null,
            "justify_items": null,
            "left": null,
            "margin": null,
            "max_height": null,
            "max_width": null,
            "min_height": null,
            "min_width": null,
            "object_fit": null,
            "object_position": null,
            "order": null,
            "overflow": null,
            "overflow_x": null,
            "overflow_y": null,
            "padding": null,
            "right": null,
            "top": null,
            "visibility": null,
            "width": null
          }
        },
        "2de4e2a4a19446d1b3ae3d34a4dca290": {
          "model_module": "@jupyter-widgets/controls",
          "model_name": "DescriptionStyleModel",
          "model_module_version": "1.5.0",
          "state": {
            "_model_module": "@jupyter-widgets/controls",
            "_model_module_version": "1.5.0",
            "_model_name": "DescriptionStyleModel",
            "_view_count": null,
            "_view_module": "@jupyter-widgets/base",
            "_view_module_version": "1.2.0",
            "_view_name": "StyleView",
            "description_width": ""
          }
        },
        "41f7ea147cf34b4abe77744f0824eac2": {
          "model_module": "@jupyter-widgets/base",
          "model_name": "LayoutModel",
          "model_module_version": "1.2.0",
          "state": {
            "_model_module": "@jupyter-widgets/base",
            "_model_module_version": "1.2.0",
            "_model_name": "LayoutModel",
            "_view_count": null,
            "_view_module": "@jupyter-widgets/base",
            "_view_module_version": "1.2.0",
            "_view_name": "LayoutView",
            "align_content": null,
            "align_items": null,
            "align_self": null,
            "border": null,
            "bottom": null,
            "display": null,
            "flex": null,
            "flex_flow": null,
            "grid_area": null,
            "grid_auto_columns": null,
            "grid_auto_flow": null,
            "grid_auto_rows": null,
            "grid_column": null,
            "grid_gap": null,
            "grid_row": null,
            "grid_template_areas": null,
            "grid_template_columns": null,
            "grid_template_rows": null,
            "height": null,
            "justify_content": null,
            "justify_items": null,
            "left": null,
            "margin": null,
            "max_height": null,
            "max_width": null,
            "min_height": null,
            "min_width": null,
            "object_fit": null,
            "object_position": null,
            "order": null,
            "overflow": null,
            "overflow_x": null,
            "overflow_y": null,
            "padding": null,
            "right": null,
            "top": null,
            "visibility": null,
            "width": null
          }
        },
        "5025da4d6058416c9d344652b328f195": {
          "model_module": "@jupyter-widgets/controls",
          "model_name": "ProgressStyleModel",
          "model_module_version": "1.5.0",
          "state": {
            "_model_module": "@jupyter-widgets/controls",
            "_model_module_version": "1.5.0",
            "_model_name": "ProgressStyleModel",
            "_view_count": null,
            "_view_module": "@jupyter-widgets/base",
            "_view_module_version": "1.2.0",
            "_view_name": "StyleView",
            "bar_color": null,
            "description_width": ""
          }
        },
        "4dfc4c4f68394ede85816119c9979c43": {
          "model_module": "@jupyter-widgets/base",
          "model_name": "LayoutModel",
          "model_module_version": "1.2.0",
          "state": {
            "_model_module": "@jupyter-widgets/base",
            "_model_module_version": "1.2.0",
            "_model_name": "LayoutModel",
            "_view_count": null,
            "_view_module": "@jupyter-widgets/base",
            "_view_module_version": "1.2.0",
            "_view_name": "LayoutView",
            "align_content": null,
            "align_items": null,
            "align_self": null,
            "border": null,
            "bottom": null,
            "display": null,
            "flex": null,
            "flex_flow": null,
            "grid_area": null,
            "grid_auto_columns": null,
            "grid_auto_flow": null,
            "grid_auto_rows": null,
            "grid_column": null,
            "grid_gap": null,
            "grid_row": null,
            "grid_template_areas": null,
            "grid_template_columns": null,
            "grid_template_rows": null,
            "height": null,
            "justify_content": null,
            "justify_items": null,
            "left": null,
            "margin": null,
            "max_height": null,
            "max_width": null,
            "min_height": null,
            "min_width": null,
            "object_fit": null,
            "object_position": null,
            "order": null,
            "overflow": null,
            "overflow_x": null,
            "overflow_y": null,
            "padding": null,
            "right": null,
            "top": null,
            "visibility": null,
            "width": null
          }
        },
        "fd119644ee264c708119f79adbcddf3a": {
          "model_module": "@jupyter-widgets/controls",
          "model_name": "DescriptionStyleModel",
          "model_module_version": "1.5.0",
          "state": {
            "_model_module": "@jupyter-widgets/controls",
            "_model_module_version": "1.5.0",
            "_model_name": "DescriptionStyleModel",
            "_view_count": null,
            "_view_module": "@jupyter-widgets/base",
            "_view_module_version": "1.2.0",
            "_view_name": "StyleView",
            "description_width": ""
          }
        },
        "4ac7d03e989340c59a5263cfa2c5cdd9": {
          "model_module": "@jupyter-widgets/controls",
          "model_name": "HBoxModel",
          "model_module_version": "1.5.0",
          "state": {
            "_dom_classes": [],
            "_model_module": "@jupyter-widgets/controls",
            "_model_module_version": "1.5.0",
            "_model_name": "HBoxModel",
            "_view_count": null,
            "_view_module": "@jupyter-widgets/controls",
            "_view_module_version": "1.5.0",
            "_view_name": "HBoxView",
            "box_style": "",
            "children": [
              "IPY_MODEL_48cf707ad5d7479584a4172e815a5a38",
              "IPY_MODEL_7fc5ec0ad5204935972e76259ad0e479",
              "IPY_MODEL_647aa1ebc41b4b9cbcb3696d576ac904"
            ],
            "layout": "IPY_MODEL_760d40a3cda24dd9ba61397990f41ad6"
          }
        },
        "48cf707ad5d7479584a4172e815a5a38": {
          "model_module": "@jupyter-widgets/controls",
          "model_name": "HTMLModel",
          "model_module_version": "1.5.0",
          "state": {
            "_dom_classes": [],
            "_model_module": "@jupyter-widgets/controls",
            "_model_module_version": "1.5.0",
            "_model_name": "HTMLModel",
            "_view_count": null,
            "_view_module": "@jupyter-widgets/controls",
            "_view_module_version": "1.5.0",
            "_view_name": "HTMLView",
            "description": "",
            "description_tooltip": null,
            "layout": "IPY_MODEL_1e88027e3e384aacab6cf0b102c5b84e",
            "placeholder": "​",
            "style": "IPY_MODEL_5a7c8e5590c44a188c89ecb3e5e6fc45",
            "value": "config.json: 100%"
          }
        },
        "7fc5ec0ad5204935972e76259ad0e479": {
          "model_module": "@jupyter-widgets/controls",
          "model_name": "FloatProgressModel",
          "model_module_version": "1.5.0",
          "state": {
            "_dom_classes": [],
            "_model_module": "@jupyter-widgets/controls",
            "_model_module_version": "1.5.0",
            "_model_name": "FloatProgressModel",
            "_view_count": null,
            "_view_module": "@jupyter-widgets/controls",
            "_view_module_version": "1.5.0",
            "_view_name": "ProgressView",
            "bar_style": "success",
            "description": "",
            "description_tooltip": null,
            "layout": "IPY_MODEL_213b90c2789a4421a6aa645e7a9e14d7",
            "max": 622,
            "min": 0,
            "orientation": "horizontal",
            "style": "IPY_MODEL_8cabb8b05eb44a3cb91aaf53de7670ca",
            "value": 622
          }
        },
        "647aa1ebc41b4b9cbcb3696d576ac904": {
          "model_module": "@jupyter-widgets/controls",
          "model_name": "HTMLModel",
          "model_module_version": "1.5.0",
          "state": {
            "_dom_classes": [],
            "_model_module": "@jupyter-widgets/controls",
            "_model_module_version": "1.5.0",
            "_model_name": "HTMLModel",
            "_view_count": null,
            "_view_module": "@jupyter-widgets/controls",
            "_view_module_version": "1.5.0",
            "_view_name": "HTMLView",
            "description": "",
            "description_tooltip": null,
            "layout": "IPY_MODEL_74c8f673017a46c8b167d0bbbe07fddc",
            "placeholder": "​",
            "style": "IPY_MODEL_c3b7ef9f76c34b6885465fa1ed9f3055",
            "value": " 622/622 [00:00&lt;00:00, 44.0kB/s]"
          }
        },
        "760d40a3cda24dd9ba61397990f41ad6": {
          "model_module": "@jupyter-widgets/base",
          "model_name": "LayoutModel",
          "model_module_version": "1.2.0",
          "state": {
            "_model_module": "@jupyter-widgets/base",
            "_model_module_version": "1.2.0",
            "_model_name": "LayoutModel",
            "_view_count": null,
            "_view_module": "@jupyter-widgets/base",
            "_view_module_version": "1.2.0",
            "_view_name": "LayoutView",
            "align_content": null,
            "align_items": null,
            "align_self": null,
            "border": null,
            "bottom": null,
            "display": null,
            "flex": null,
            "flex_flow": null,
            "grid_area": null,
            "grid_auto_columns": null,
            "grid_auto_flow": null,
            "grid_auto_rows": null,
            "grid_column": null,
            "grid_gap": null,
            "grid_row": null,
            "grid_template_areas": null,
            "grid_template_columns": null,
            "grid_template_rows": null,
            "height": null,
            "justify_content": null,
            "justify_items": null,
            "left": null,
            "margin": null,
            "max_height": null,
            "max_width": null,
            "min_height": null,
            "min_width": null,
            "object_fit": null,
            "object_position": null,
            "order": null,
            "overflow": null,
            "overflow_x": null,
            "overflow_y": null,
            "padding": null,
            "right": null,
            "top": null,
            "visibility": null,
            "width": null
          }
        },
        "1e88027e3e384aacab6cf0b102c5b84e": {
          "model_module": "@jupyter-widgets/base",
          "model_name": "LayoutModel",
          "model_module_version": "1.2.0",
          "state": {
            "_model_module": "@jupyter-widgets/base",
            "_model_module_version": "1.2.0",
            "_model_name": "LayoutModel",
            "_view_count": null,
            "_view_module": "@jupyter-widgets/base",
            "_view_module_version": "1.2.0",
            "_view_name": "LayoutView",
            "align_content": null,
            "align_items": null,
            "align_self": null,
            "border": null,
            "bottom": null,
            "display": null,
            "flex": null,
            "flex_flow": null,
            "grid_area": null,
            "grid_auto_columns": null,
            "grid_auto_flow": null,
            "grid_auto_rows": null,
            "grid_column": null,
            "grid_gap": null,
            "grid_row": null,
            "grid_template_areas": null,
            "grid_template_columns": null,
            "grid_template_rows": null,
            "height": null,
            "justify_content": null,
            "justify_items": null,
            "left": null,
            "margin": null,
            "max_height": null,
            "max_width": null,
            "min_height": null,
            "min_width": null,
            "object_fit": null,
            "object_position": null,
            "order": null,
            "overflow": null,
            "overflow_x": null,
            "overflow_y": null,
            "padding": null,
            "right": null,
            "top": null,
            "visibility": null,
            "width": null
          }
        },
        "5a7c8e5590c44a188c89ecb3e5e6fc45": {
          "model_module": "@jupyter-widgets/controls",
          "model_name": "DescriptionStyleModel",
          "model_module_version": "1.5.0",
          "state": {
            "_model_module": "@jupyter-widgets/controls",
            "_model_module_version": "1.5.0",
            "_model_name": "DescriptionStyleModel",
            "_view_count": null,
            "_view_module": "@jupyter-widgets/base",
            "_view_module_version": "1.2.0",
            "_view_name": "StyleView",
            "description_width": ""
          }
        },
        "213b90c2789a4421a6aa645e7a9e14d7": {
          "model_module": "@jupyter-widgets/base",
          "model_name": "LayoutModel",
          "model_module_version": "1.2.0",
          "state": {
            "_model_module": "@jupyter-widgets/base",
            "_model_module_version": "1.2.0",
            "_model_name": "LayoutModel",
            "_view_count": null,
            "_view_module": "@jupyter-widgets/base",
            "_view_module_version": "1.2.0",
            "_view_name": "LayoutView",
            "align_content": null,
            "align_items": null,
            "align_self": null,
            "border": null,
            "bottom": null,
            "display": null,
            "flex": null,
            "flex_flow": null,
            "grid_area": null,
            "grid_auto_columns": null,
            "grid_auto_flow": null,
            "grid_auto_rows": null,
            "grid_column": null,
            "grid_gap": null,
            "grid_row": null,
            "grid_template_areas": null,
            "grid_template_columns": null,
            "grid_template_rows": null,
            "height": null,
            "justify_content": null,
            "justify_items": null,
            "left": null,
            "margin": null,
            "max_height": null,
            "max_width": null,
            "min_height": null,
            "min_width": null,
            "object_fit": null,
            "object_position": null,
            "order": null,
            "overflow": null,
            "overflow_x": null,
            "overflow_y": null,
            "padding": null,
            "right": null,
            "top": null,
            "visibility": null,
            "width": null
          }
        },
        "8cabb8b05eb44a3cb91aaf53de7670ca": {
          "model_module": "@jupyter-widgets/controls",
          "model_name": "ProgressStyleModel",
          "model_module_version": "1.5.0",
          "state": {
            "_model_module": "@jupyter-widgets/controls",
            "_model_module_version": "1.5.0",
            "_model_name": "ProgressStyleModel",
            "_view_count": null,
            "_view_module": "@jupyter-widgets/base",
            "_view_module_version": "1.2.0",
            "_view_name": "StyleView",
            "bar_color": null,
            "description_width": ""
          }
        },
        "74c8f673017a46c8b167d0bbbe07fddc": {
          "model_module": "@jupyter-widgets/base",
          "model_name": "LayoutModel",
          "model_module_version": "1.2.0",
          "state": {
            "_model_module": "@jupyter-widgets/base",
            "_model_module_version": "1.2.0",
            "_model_name": "LayoutModel",
            "_view_count": null,
            "_view_module": "@jupyter-widgets/base",
            "_view_module_version": "1.2.0",
            "_view_name": "LayoutView",
            "align_content": null,
            "align_items": null,
            "align_self": null,
            "border": null,
            "bottom": null,
            "display": null,
            "flex": null,
            "flex_flow": null,
            "grid_area": null,
            "grid_auto_columns": null,
            "grid_auto_flow": null,
            "grid_auto_rows": null,
            "grid_column": null,
            "grid_gap": null,
            "grid_row": null,
            "grid_template_areas": null,
            "grid_template_columns": null,
            "grid_template_rows": null,
            "height": null,
            "justify_content": null,
            "justify_items": null,
            "left": null,
            "margin": null,
            "max_height": null,
            "max_width": null,
            "min_height": null,
            "min_width": null,
            "object_fit": null,
            "object_position": null,
            "order": null,
            "overflow": null,
            "overflow_x": null,
            "overflow_y": null,
            "padding": null,
            "right": null,
            "top": null,
            "visibility": null,
            "width": null
          }
        },
        "c3b7ef9f76c34b6885465fa1ed9f3055": {
          "model_module": "@jupyter-widgets/controls",
          "model_name": "DescriptionStyleModel",
          "model_module_version": "1.5.0",
          "state": {
            "_model_module": "@jupyter-widgets/controls",
            "_model_module_version": "1.5.0",
            "_model_name": "DescriptionStyleModel",
            "_view_count": null,
            "_view_module": "@jupyter-widgets/base",
            "_view_module_version": "1.2.0",
            "_view_name": "StyleView",
            "description_width": ""
          }
        },
        "fab4f288af17447394ebb0622e193d31": {
          "model_module": "@jupyter-widgets/controls",
          "model_name": "HBoxModel",
          "model_module_version": "1.5.0",
          "state": {
            "_dom_classes": [],
            "_model_module": "@jupyter-widgets/controls",
            "_model_module_version": "1.5.0",
            "_model_name": "HBoxModel",
            "_view_count": null,
            "_view_module": "@jupyter-widgets/controls",
            "_view_module_version": "1.5.0",
            "_view_name": "HBoxView",
            "box_style": "",
            "children": [
              "IPY_MODEL_d94fc9463adc4e31a1ac1e2174c9fdca",
              "IPY_MODEL_3109abe05d6c4130994c048245c44ad5",
              "IPY_MODEL_9f695b101bda4f05884d3329dd2eff2e"
            ],
            "layout": "IPY_MODEL_cbce2df6b15f4239900e3d7313287e13"
          }
        },
        "d94fc9463adc4e31a1ac1e2174c9fdca": {
          "model_module": "@jupyter-widgets/controls",
          "model_name": "HTMLModel",
          "model_module_version": "1.5.0",
          "state": {
            "_dom_classes": [],
            "_model_module": "@jupyter-widgets/controls",
            "_model_module_version": "1.5.0",
            "_model_name": "HTMLModel",
            "_view_count": null,
            "_view_module": "@jupyter-widgets/controls",
            "_view_module_version": "1.5.0",
            "_view_name": "HTMLView",
            "description": "",
            "description_tooltip": null,
            "layout": "IPY_MODEL_21ee6490b92d4348b2e6e9a624bf12ce",
            "placeholder": "​",
            "style": "IPY_MODEL_803769eb68b54fc3819209bc2555ec15",
            "value": "pytorch_model.bin: 100%"
          }
        },
        "3109abe05d6c4130994c048245c44ad5": {
          "model_module": "@jupyter-widgets/controls",
          "model_name": "FloatProgressModel",
          "model_module_version": "1.5.0",
          "state": {
            "_dom_classes": [],
            "_model_module": "@jupyter-widgets/controls",
            "_model_module_version": "1.5.0",
            "_model_name": "FloatProgressModel",
            "_view_count": null,
            "_view_module": "@jupyter-widgets/controls",
            "_view_module_version": "1.5.0",
            "_view_name": "ProgressView",
            "bar_style": "success",
            "description": "",
            "description_tooltip": null,
            "layout": "IPY_MODEL_9d942423e0f2458a9f9e0b5548ca3c58",
            "max": 3141928084,
            "min": 0,
            "orientation": "horizontal",
            "style": "IPY_MODEL_6d1e8e45189b461ebc3ab142abe3387a",
            "value": 3141928084
          }
        },
        "9f695b101bda4f05884d3329dd2eff2e": {
          "model_module": "@jupyter-widgets/controls",
          "model_name": "HTMLModel",
          "model_module_version": "1.5.0",
          "state": {
            "_dom_classes": [],
            "_model_module": "@jupyter-widgets/controls",
            "_model_module_version": "1.5.0",
            "_model_name": "HTMLModel",
            "_view_count": null,
            "_view_module": "@jupyter-widgets/controls",
            "_view_module_version": "1.5.0",
            "_view_name": "HTMLView",
            "description": "",
            "description_tooltip": null,
            "layout": "IPY_MODEL_dbaefde58ac54ae1bc9531b63d742264",
            "placeholder": "​",
            "style": "IPY_MODEL_b5905721e64d454384d84abd1c2cd77d",
            "value": " 3.14G/3.14G [00:17&lt;00:00, 202MB/s]"
          }
        },
        "cbce2df6b15f4239900e3d7313287e13": {
          "model_module": "@jupyter-widgets/base",
          "model_name": "LayoutModel",
          "model_module_version": "1.2.0",
          "state": {
            "_model_module": "@jupyter-widgets/base",
            "_model_module_version": "1.2.0",
            "_model_name": "LayoutModel",
            "_view_count": null,
            "_view_module": "@jupyter-widgets/base",
            "_view_module_version": "1.2.0",
            "_view_name": "LayoutView",
            "align_content": null,
            "align_items": null,
            "align_self": null,
            "border": null,
            "bottom": null,
            "display": null,
            "flex": null,
            "flex_flow": null,
            "grid_area": null,
            "grid_auto_columns": null,
            "grid_auto_flow": null,
            "grid_auto_rows": null,
            "grid_column": null,
            "grid_gap": null,
            "grid_row": null,
            "grid_template_areas": null,
            "grid_template_columns": null,
            "grid_template_rows": null,
            "height": null,
            "justify_content": null,
            "justify_items": null,
            "left": null,
            "margin": null,
            "max_height": null,
            "max_width": null,
            "min_height": null,
            "min_width": null,
            "object_fit": null,
            "object_position": null,
            "order": null,
            "overflow": null,
            "overflow_x": null,
            "overflow_y": null,
            "padding": null,
            "right": null,
            "top": null,
            "visibility": null,
            "width": null
          }
        },
        "21ee6490b92d4348b2e6e9a624bf12ce": {
          "model_module": "@jupyter-widgets/base",
          "model_name": "LayoutModel",
          "model_module_version": "1.2.0",
          "state": {
            "_model_module": "@jupyter-widgets/base",
            "_model_module_version": "1.2.0",
            "_model_name": "LayoutModel",
            "_view_count": null,
            "_view_module": "@jupyter-widgets/base",
            "_view_module_version": "1.2.0",
            "_view_name": "LayoutView",
            "align_content": null,
            "align_items": null,
            "align_self": null,
            "border": null,
            "bottom": null,
            "display": null,
            "flex": null,
            "flex_flow": null,
            "grid_area": null,
            "grid_auto_columns": null,
            "grid_auto_flow": null,
            "grid_auto_rows": null,
            "grid_column": null,
            "grid_gap": null,
            "grid_row": null,
            "grid_template_areas": null,
            "grid_template_columns": null,
            "grid_template_rows": null,
            "height": null,
            "justify_content": null,
            "justify_items": null,
            "left": null,
            "margin": null,
            "max_height": null,
            "max_width": null,
            "min_height": null,
            "min_width": null,
            "object_fit": null,
            "object_position": null,
            "order": null,
            "overflow": null,
            "overflow_x": null,
            "overflow_y": null,
            "padding": null,
            "right": null,
            "top": null,
            "visibility": null,
            "width": null
          }
        },
        "803769eb68b54fc3819209bc2555ec15": {
          "model_module": "@jupyter-widgets/controls",
          "model_name": "DescriptionStyleModel",
          "model_module_version": "1.5.0",
          "state": {
            "_model_module": "@jupyter-widgets/controls",
            "_model_module_version": "1.5.0",
            "_model_name": "DescriptionStyleModel",
            "_view_count": null,
            "_view_module": "@jupyter-widgets/base",
            "_view_module_version": "1.2.0",
            "_view_name": "StyleView",
            "description_width": ""
          }
        },
        "9d942423e0f2458a9f9e0b5548ca3c58": {
          "model_module": "@jupyter-widgets/base",
          "model_name": "LayoutModel",
          "model_module_version": "1.2.0",
          "state": {
            "_model_module": "@jupyter-widgets/base",
            "_model_module_version": "1.2.0",
            "_model_name": "LayoutModel",
            "_view_count": null,
            "_view_module": "@jupyter-widgets/base",
            "_view_module_version": "1.2.0",
            "_view_name": "LayoutView",
            "align_content": null,
            "align_items": null,
            "align_self": null,
            "border": null,
            "bottom": null,
            "display": null,
            "flex": null,
            "flex_flow": null,
            "grid_area": null,
            "grid_auto_columns": null,
            "grid_auto_flow": null,
            "grid_auto_rows": null,
            "grid_column": null,
            "grid_gap": null,
            "grid_row": null,
            "grid_template_areas": null,
            "grid_template_columns": null,
            "grid_template_rows": null,
            "height": null,
            "justify_content": null,
            "justify_items": null,
            "left": null,
            "margin": null,
            "max_height": null,
            "max_width": null,
            "min_height": null,
            "min_width": null,
            "object_fit": null,
            "object_position": null,
            "order": null,
            "overflow": null,
            "overflow_x": null,
            "overflow_y": null,
            "padding": null,
            "right": null,
            "top": null,
            "visibility": null,
            "width": null
          }
        },
        "6d1e8e45189b461ebc3ab142abe3387a": {
          "model_module": "@jupyter-widgets/controls",
          "model_name": "ProgressStyleModel",
          "model_module_version": "1.5.0",
          "state": {
            "_model_module": "@jupyter-widgets/controls",
            "_model_module_version": "1.5.0",
            "_model_name": "ProgressStyleModel",
            "_view_count": null,
            "_view_module": "@jupyter-widgets/base",
            "_view_module_version": "1.2.0",
            "_view_name": "StyleView",
            "bar_color": null,
            "description_width": ""
          }
        },
        "dbaefde58ac54ae1bc9531b63d742264": {
          "model_module": "@jupyter-widgets/base",
          "model_name": "LayoutModel",
          "model_module_version": "1.2.0",
          "state": {
            "_model_module": "@jupyter-widgets/base",
            "_model_module_version": "1.2.0",
            "_model_name": "LayoutModel",
            "_view_count": null,
            "_view_module": "@jupyter-widgets/base",
            "_view_module_version": "1.2.0",
            "_view_name": "LayoutView",
            "align_content": null,
            "align_items": null,
            "align_self": null,
            "border": null,
            "bottom": null,
            "display": null,
            "flex": null,
            "flex_flow": null,
            "grid_area": null,
            "grid_auto_columns": null,
            "grid_auto_flow": null,
            "grid_auto_rows": null,
            "grid_column": null,
            "grid_gap": null,
            "grid_row": null,
            "grid_template_areas": null,
            "grid_template_columns": null,
            "grid_template_rows": null,
            "height": null,
            "justify_content": null,
            "justify_items": null,
            "left": null,
            "margin": null,
            "max_height": null,
            "max_width": null,
            "min_height": null,
            "min_width": null,
            "object_fit": null,
            "object_position": null,
            "order": null,
            "overflow": null,
            "overflow_x": null,
            "overflow_y": null,
            "padding": null,
            "right": null,
            "top": null,
            "visibility": null,
            "width": null
          }
        },
        "b5905721e64d454384d84abd1c2cd77d": {
          "model_module": "@jupyter-widgets/controls",
          "model_name": "DescriptionStyleModel",
          "model_module_version": "1.5.0",
          "state": {
            "_model_module": "@jupyter-widgets/controls",
            "_model_module_version": "1.5.0",
            "_model_name": "DescriptionStyleModel",
            "_view_count": null,
            "_view_module": "@jupyter-widgets/base",
            "_view_module_version": "1.2.0",
            "_view_name": "StyleView",
            "description_width": ""
          }
        }
      }
    }
  },
  "nbformat": 4,
  "nbformat_minor": 0
}